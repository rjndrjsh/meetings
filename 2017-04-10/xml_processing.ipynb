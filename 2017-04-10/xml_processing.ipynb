{
 "cells": [
  {
   "cell_type": "markdown",
   "metadata": {},
   "source": [
    "# XML Processing"
   ]
  },
  {
   "cell_type": "markdown",
   "metadata": {},
   "source": [
    "##### Here are the contents of the input/menu.xml"
   ]
  },
  {
   "cell_type": "markdown",
   "metadata": {},
   "source": [
    "```xml\n",
    "<breakfast_menu>\n",
    "\t<food name=\"Belgian Waffles\">\n",
    "\t\t<price>$5.95</price>\n",
    "\t\t<description>two of our famous Belgian Waffles with plenty of real maple syrup</description>\n",
    "\t\t<calories>650</calories>\n",
    "\t</food>\n",
    "\t<food name=\"Strawberry Belgian Waffles\">\n",
    "\t\t<price>$7.95</price>\n",
    "\t\t<description>light Belgian waffles covered with strawberries and whipped cream</description>\n",
    "\t\t<calories>900</calories>\n",
    "\t</food>\n",
    "\t<food name=\"Berry-Berry Belgian Waffles\">\n",
    "\t\t<price>$8.95</price>\n",
    "\t\t<description>light Belgian waffles covered with an assortment of fresh berries and whipped cream</description>\n",
    "\t\t<calories>900</calories>\n",
    "\t</food>\n",
    "\t<food name=\"French Toast\">\n",
    "\t\t<price>$4.50</price>\n",
    "\t\t<description>thick slices made from our homemade sourdough bread</description>\n",
    "\t\t<calories>600</calories>\n",
    "\t</food>\n",
    "\t<food name=\"Homestyle Breakfast\">\n",
    "\t\t<price>$6.95</price>\n",
    "\t\t<description>two eggs, bacon or sausage, toast, and our ever-popular hash browns</description>\n",
    "\t\t<calories>950</calories>\n",
    "\t</food>\n",
    "</breakfast_menu>\n",
    "```"
   ]
  },
  {
   "cell_type": "markdown",
   "metadata": {},
   "source": [
    "### Use ElementTree"
   ]
  },
  {
   "cell_type": "code",
   "execution_count": 1,
   "metadata": {
    "collapsed": true
   },
   "outputs": [],
   "source": [
    "# import the appropriate libraries\n",
    "import xml.etree.ElementTree as ET # xml processing\n"
   ]
  },
  {
   "cell_type": "code",
   "execution_count": 2,
   "metadata": {
    "collapsed": true
   },
   "outputs": [],
   "source": [
    "# read the XML file\n",
    "tree = ET.parse('input/menu.xml')\n"
   ]
  },
  {
   "cell_type": "code",
   "execution_count": 4,
   "metadata": {},
   "outputs": [
    {
     "name": "stdout",
     "output_type": "stream",
     "text": [
      "tree element:\t <xml.etree.ElementTree.ElementTree object at 0x10be4fa90>\n"
     ]
    }
   ],
   "source": [
    "print('tree element:\\t', tree)"
   ]
  },
  {
   "cell_type": "code",
   "execution_count": 82,
   "metadata": {
    "collapsed": true
   },
   "outputs": [],
   "source": [
    "# get the root of the tree\n",
    "root = tree.getroot()\n"
   ]
  },
  {
   "cell_type": "code",
   "execution_count": 83,
   "metadata": {},
   "outputs": [
    {
     "name": "stdout",
     "output_type": "stream",
     "text": [
      "root element:\t  <Element 'breakfast_menu' at 0x19d4c50>\n"
     ]
    }
   ],
   "source": [
    "print 'root element:\\t ', root"
   ]
  },
  {
   "cell_type": "code",
   "execution_count": 84,
   "metadata": {},
   "outputs": [
    {
     "data": {
      "text/plain": [
       "'breakfast_menu'"
      ]
     },
     "execution_count": 84,
     "metadata": {},
     "output_type": "execute_result"
    }
   ],
   "source": [
    "# here is the name of the root element\n",
    "root.tag"
   ]
  },
  {
   "cell_type": "code",
   "execution_count": 85,
   "metadata": {
    "collapsed": true
   },
   "outputs": [],
   "source": [
    "# get the children of breakfast_menu, the next level down the tree\n",
    "children = root.getchildren()"
   ]
  },
  {
   "cell_type": "code",
   "execution_count": 86,
   "metadata": {},
   "outputs": [
    {
     "name": "stdout",
     "output_type": "stream",
     "text": [
      "food\n",
      "food\n",
      "food\n",
      "food\n",
      "food\n",
      "food\n"
     ]
    }
   ],
   "source": [
    "for child in children:\n",
    "    print (child.tag)"
   ]
  },
  {
   "cell_type": "code",
   "execution_count": 87,
   "metadata": {},
   "outputs": [
    {
     "name": "stdout",
     "output_type": "stream",
     "text": [
      "food \t{'category': 'breakfast', 'name': 'Belgian Waffles'}\n",
      "price\n",
      "description\n",
      "calories\n",
      "food \t{'category': 'breakfast', 'name': 'Strawberry Belgian Waffles'}\n",
      "price\n",
      "description\n",
      "calories\n",
      "food \t{'category': 'breakfast', 'name': 'Berry-Berry Belgian Waffles'}\n",
      "price\n",
      "description\n",
      "calories\n",
      "food \t{'category': 'breakfast', 'name': 'French Toast'}\n",
      "price\n",
      "description\n",
      "calories\n",
      "food \t{'category': 'breakfast', 'name': 'Homestyle Breakfast'}\n",
      "price\n",
      "description\n",
      "calories\n",
      "food \t{'name': 'Three-Egg Omlette'}\n",
      "price\n",
      "description\n",
      "calories\n"
     ]
    }
   ],
   "source": [
    "# for each child (node), get it's children and print out their names (tags)\n",
    "for child in children:\n",
    "    grand_children = child.getchildren()\n",
    "    print (child.tag, '\\t', child.attrib)\n",
    "    for grand_child in grand_children:\n",
    "        print (grand_child.tag)"
   ]
  },
  {
   "cell_type": "code",
   "execution_count": 88,
   "metadata": {},
   "outputs": [
    {
     "name": "stdout",
     "output_type": "stream",
     "text": [
      "number of food tags =  6\n"
     ]
    }
   ],
   "source": [
    "# make a list of all the <food> tags\n",
    "food_tags = root.findall('food')\n",
    "print ('number of food tags = ', len(food_tags))"
   ]
  },
  {
   "cell_type": "code",
   "execution_count": 89,
   "metadata": {},
   "outputs": [
    {
     "name": "stdout",
     "output_type": "stream",
     "text": [
      "[<Element 'food' at 0x19d4cd0>, <Element 'food' at 0x19d4dd0>, <Element 'food' at 0x19d4f90>, <Element 'food' at 0x19d8110>, <Element 'food' at 0x19d8250>, <Element 'food' at 0x19d8a10>]\n"
     ]
    }
   ],
   "source": [
    "# print the <food> tags - it's not what you would expect\n",
    "print (food_tags)"
   ]
  },
  {
   "cell_type": "code",
   "execution_count": 90,
   "metadata": {},
   "outputs": [
    {
     "name": "stdout",
     "output_type": "stream",
     "text": [
      "the first child node is:\t<Element 'food' at 0x19d4cd0>\n"
     ]
    }
   ],
   "source": [
    "# access the enties in the list\n",
    "first_food_item = food_tags[0]\n",
    "print ('the first child node is:\\t', first_food_item)"
   ]
  },
  {
   "cell_type": "code",
   "execution_count": 91,
   "metadata": {},
   "outputs": [
    {
     "name": "stdout",
     "output_type": "stream",
     "text": [
      "<food category=\"breakfast\" name=\"Belgian Waffles\">\n",
      "\t\t<price>$5.95</price>\n",
      "\t\t<description>two of our famous Belgian Waffles with plenty of real maple syrup</description>\n",
      "\t\t<calories>650</calories>\n",
      "\t</food>\n",
      "\t\n"
     ]
    }
   ],
   "source": [
    "# here's how we can view a child node's content\n",
    "ET.dump(first_food_item)"
   ]
  },
  {
   "cell_type": "code",
   "execution_count": 92,
   "metadata": {},
   "outputs": [
    {
     "name": "stdout",
     "output_type": "stream",
     "text": [
      "Path to Price subnode of Food node:\n",
      "Root: <Element 'breakfast_menu' at 0x19d4c50>  Node:  <Element 'food' at 0x19d4cd0> Subnode:  <Element 'price' at 0x19d4d10>\n",
      "\n"
     ]
    }
   ],
   "source": [
    "section = 'food'\n",
    "tag = 'price'\n",
    "node = root.find(section)\n",
    "subnode = node.find(tag)\n",
    "print (\"Path to Price subnode of Food node:\")\n",
    "print (\"Root:\", str(root), \" Node: \", node, \"Subnode: \", subnode)\n"
   ]
  },
  {
   "cell_type": "code",
   "execution_count": 93,
   "metadata": {
    "collapsed": true
   },
   "outputs": [],
   "source": [
    "#node = root.find('food')\n",
    "#subnode = node.find('prince')\n",
    "#subsubnode = subnode.find('curr')"
   ]
  },
  {
   "cell_type": "code",
   "execution_count": 94,
   "metadata": {},
   "outputs": [
    {
     "name": "stdout",
     "output_type": "stream",
     "text": [
      "Path to Name attribute of Food node:\n",
      "Root: <Element 'breakfast_menu' at 0x19d4c50>  Node:  <Element 'food' at 0x19d4cd0> Attribute:  Belgian Waffles\n",
      "\n"
     ]
    }
   ],
   "source": [
    "#Specify the path to the 'name' attribute of the 'food' node\n",
    "node = root.find(section)\n",
    "attribute = node.attrib['name']\n",
    "print (\"Path to Name attribute of Food node:\")\n",
    "print (\"Root:\", str(root), \" Node: \", node, \"Attribute: \", attribute)\n"
   ]
  },
  {
   "cell_type": "code",
   "execution_count": 95,
   "metadata": {},
   "outputs": [
    {
     "name": "stdout",
     "output_type": "stream",
     "text": [
      "All nodes, subnodes and attributes:\n",
      "food {'category': 'breakfast', 'name': 'Belgian Waffles'}\n",
      "price $5.95\n",
      "description two of our famous Belgian Waffles with plenty of real maple syrup\n",
      "calories 650\n",
      "food {'category': 'breakfast', 'name': 'Strawberry Belgian Waffles'}\n",
      "price $7.95\n",
      "description light Belgian waffles covered with strawberries and whipped cream\n",
      "calories 900\n",
      "food {'category': 'breakfast', 'name': 'Berry-Berry Belgian Waffles'}\n",
      "price $8.95\n",
      "description light Belgian waffles covered with an assortment of fresh berries and whipped cream\n",
      "calories 900\n",
      "food {'category': 'breakfast', 'name': 'French Toast'}\n",
      "price $6.50\n",
      "description thick slices made from our homemade sourdough bread\n",
      "calories 600\n",
      "food {'category': 'breakfast', 'name': 'Homestyle Breakfast'}\n",
      "price $6.95\n",
      "description two eggs, bacon or sausage, toast, and our ever-popular hash browns\n",
      "calories 950\n",
      "food {'name': 'Three-Egg Omlette'}\n",
      "price $7.95\n",
      "description three-egg omlette with your choice of meat, cheese and vegetables\n",
      "calories 900\n",
      "\n"
     ]
    }
   ],
   "source": [
    "#Find the attributes of each food node\n",
    "print \"All nodes, subnodes and attributes:\" \n",
    "for node in root:\n",
    "    print (node.tag, node.attrib)\n",
    "    for subnode in node:\n",
    "        print (subnode.tag, subnode.text)\n"
   ]
  },
  {
   "cell_type": "code",
   "execution_count": 96,
   "metadata": {
    "collapsed": true
   },
   "outputs": [],
   "source": [
    " #Add a new attribute to each food tag   \n",
    "for node in tree.iter(tag='food'):\n",
    "    node.set('category', 'breakfast')"
   ]
  },
  {
   "cell_type": "code",
   "execution_count": 97,
   "metadata": {},
   "outputs": [
    {
     "name": "stdout",
     "output_type": "stream",
     "text": [
      "Found Belgian Waffles!\n",
      "Belgian Waffles : two of our famous Belgian Waffles with plenty of real maple syrup\n"
     ]
    }
   ],
   "source": [
    "# you can search by name\n",
    "name = 'Belgian Waffles'\n",
    "for selected_name in root.findall(\"./food/[@name='%s']\" % name):\n",
    "     #print the description associated with the selected name\n",
    "    print \"Found Belgian Waffles!\"\n",
    "    print name, \":\",  selected_name.find('description').text"
   ]
  },
  {
   "cell_type": "code",
   "execution_count": 98,
   "metadata": {},
   "outputs": [
    {
     "name": "stdout",
     "output_type": "stream",
     "text": [
      "Subnode text:  $6.50\n",
      "Modified subnode text:  $6.50\n"
     ]
    }
   ],
   "source": [
    "#find a specific node\n",
    "#and update a subnode\n",
    "for node in tree.iter(tag='food'):\n",
    "    if node.attrib['name'] == 'French Toast':\n",
    "        subnode = node.find('price')\n",
    "        print (\"Subnode text: \", subnode.text)\n",
    "        subnode.text = '$6.50'\n",
    "        print (\"Modified subnode text: \",  subnode.text)"
   ]
  },
  {
   "cell_type": "code",
   "execution_count": 99,
   "metadata": {
    "collapsed": true
   },
   "outputs": [],
   "source": [
    "#Add a new subelement to the root                                                                        \n",
    "new_name = 'Three-Egg Omlette'  \n",
    "new_price = '$7.95'\n",
    "new_description = 'three-egg omlette with your choice of meat, cheese and vegetables'\n",
    "new_calories = '900'                                \n",
    "food_node = ET.SubElement(root, 'food', {'name':new_name})\n",
    "price_subnode = ET.SubElement(food_node, 'price')\n",
    "price_subnode.text = new_price\n",
    "description_subnode = ET.SubElement(food_node, 'description')\n",
    "description_subnode.text = new_description\n",
    "calories_subnode = ET.SubElement(food_node, 'calories')\n",
    "calories_subnode.text = new_calories"
   ]
  },
  {
   "cell_type": "code",
   "execution_count": 100,
   "metadata": {
    "collapsed": true
   },
   "outputs": [],
   "source": [
    "#<el name='x'> 4 </el>\n",
    "#<price amount='5.5' cur='$$'/>"
   ]
  },
  {
   "cell_type": "code",
   "execution_count": 106,
   "metadata": {
    "collapsed": true
   },
   "outputs": [],
   "source": [
    "#Write out the modified xml     \n",
    "tree.write('output/outputMenu.xml') "
   ]
  },
  {
   "cell_type": "markdown",
   "metadata": {},
   "source": [
    "### Use xmltodict\n",
    "[xmltodict](http://github.com/martinblech/xmltodict) is another simple library that aims at making XML feel like working with JSON."
   ]
  },
  {
   "cell_type": "code",
   "execution_count": 5,
   "metadata": {
    "collapsed": true
   },
   "outputs": [],
   "source": [
    "import xmltodict\n",
    "\n",
    "with open('input/menu.xml') as fd:\n",
    "    doc = xmltodict.parse(fd.read())"
   ]
  },
  {
   "cell_type": "code",
   "execution_count": 6,
   "metadata": {},
   "outputs": [
    {
     "name": "stdout",
     "output_type": "stream",
     "text": [
      "OrderedDict([('breakfast_menu', OrderedDict([('food', [OrderedDict([('@name', 'Belgian Waffles'), ('price', '$5.95'), ('description', 'two of our famous Belgian Waffles with plenty of real maple syrup'), ('calories', '650')]), OrderedDict([('@name', 'Strawberry Belgian Waffles'), ('price', '$7.95'), ('description', 'light Belgian waffles covered with strawberries and whipped cream'), ('calories', '900')]), OrderedDict([('@name', 'Berry-Berry Belgian Waffles'), ('price', '$8.95'), ('description', 'light Belgian waffles covered with an assortment of fresh berries and whipped cream'), ('calories', '900')]), OrderedDict([('@name', 'French Toast'), ('price', '$4.50'), ('description', 'thick slices made from our homemade sourdough bread'), ('calories', '600')]), OrderedDict([('@name', 'Homestyle Breakfast'), ('price', '$6.95'), ('description', 'two eggs, bacon or sausage, toast, and our ever-popular hash browns'), ('calories', '950')])])]))])\n"
     ]
    }
   ],
   "source": [
    "print(doc)"
   ]
  },
  {
   "cell_type": "markdown",
   "metadata": {},
   "source": [
    "### Use untangle\n",
    "[untangle](https://github.com/stchris/untangle) is a simple library which takes an XML document and returns a Python object which mirrors the nodes and attributes in its structure"
   ]
  },
  {
   "cell_type": "code",
   "execution_count": 3,
   "metadata": {},
   "outputs": [
    {
     "data": {
      "text/plain": [
       "'Belgian Waffles'"
      ]
     },
     "execution_count": 3,
     "metadata": {},
     "output_type": "execute_result"
    }
   ],
   "source": [
    "import untangle\n",
    "obj = untangle.parse('input/menu.xml')\n",
    "obj.breakfast_menu.food[0]['name']"
   ]
  },
  {
   "cell_type": "markdown",
   "metadata": {},
   "source": []
  },
  {
   "cell_type": "code",
   "execution_count": null,
   "metadata": {
    "collapsed": true
   },
   "outputs": [],
   "source": []
  }
 ],
 "metadata": {
  "kernelspec": {
   "display_name": "Python 3",
   "language": "python",
   "name": "python3"
  },
  "language_info": {
   "codemirror_mode": {
    "name": "ipython",
    "version": 3
   },
   "file_extension": ".py",
   "mimetype": "text/x-python",
   "name": "python",
   "nbconvert_exporter": "python",
   "pygments_lexer": "ipython3",
   "version": "3.6.0"
  }
 },
 "nbformat": 4,
 "nbformat_minor": 1
}
