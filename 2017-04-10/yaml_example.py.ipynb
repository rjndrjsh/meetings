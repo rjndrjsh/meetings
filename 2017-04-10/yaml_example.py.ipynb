{
 "cells": [
  {
   "cell_type": "markdown",
   "metadata": {},
   "source": [
    "# YAML Processing\n",
    "### Contents of input/file1.yaml"
   ]
  },
  {
   "cell_type": "markdown",
   "metadata": {
    "collapsed": true
   },
   "source": [
    "```yaml\n",
    "defaults:\n",
    "  adapter:  postgres\n",
    "  host:     localhost\n",
    "\n",
    "development:\n",
    "  database: myapp_development\n",
    "  adapter:  postgres\n",
    "  host:     localhost\n",
    "\n",
    "test:\n",
    "  database: myapp_test\n",
    "  adapter:  postgres\n",
    "  host:     localhost\n",
    "```"
   ]
  },
  {
   "cell_type": "markdown",
   "metadata": {},
   "source": [
    "### Using the yaml library"
   ]
  },
  {
   "cell_type": "code",
   "execution_count": 1,
   "metadata": {
    "collapsed": true
   },
   "outputs": [],
   "source": [
    "import yaml"
   ]
  },
  {
   "cell_type": "code",
   "execution_count": 2,
   "metadata": {
    "collapsed": true
   },
   "outputs": [],
   "source": [
    "# read the yaml file into a dictionary\n",
    "with open('input/file1.yaml', 'r') as fin:\n",
    "    info = yaml.load(fin)"
   ]
  },
  {
   "cell_type": "code",
   "execution_count": 4,
   "metadata": {},
   "outputs": [
    {
     "data": {
      "text/plain": [
       "{'defaults': {'adapter': 'postgres', 'host': 'localhost'},\n",
       " 'development': {'adapter': 'postgres',\n",
       "  'database': 'myapp_development',\n",
       "  'host': 'localhost'},\n",
       " 'test': {'adapter': 'postgres',\n",
       "  'database': 'myapp_test',\n",
       "  'host': 'localhost'}}"
      ]
     },
     "execution_count": 4,
     "metadata": {},
     "output_type": "execute_result"
    }
   ],
   "source": [
    "# print the results\n",
    "info"
   ]
  },
  {
   "cell_type": "code",
   "execution_count": 6,
   "metadata": {},
   "outputs": [
    {
     "name": "stdout",
     "output_type": "stream",
     "text": [
      "{'adapter': 'postgres', 'host': 'localhost'}\n"
     ]
    }
   ],
   "source": [
    "# you can assign each section to a variable\n",
    "defaults = info['defaults']\n",
    "print(defaults)"
   ]
  },
  {
   "cell_type": "code",
   "execution_count": 7,
   "metadata": {},
   "outputs": [
    {
     "name": "stdout",
     "output_type": "stream",
     "text": [
      "postgres\n"
     ]
    }
   ],
   "source": [
    "# same as above\n",
    "adapter = defaults['adapter']\n",
    "print(adapter)"
   ]
  },
  {
   "cell_type": "code",
   "execution_count": 8,
   "metadata": {
    "collapsed": true
   },
   "outputs": [],
   "source": [
    "# change the value of a tag\n",
    "defaults['adapter'] = 'mysql'"
   ]
  },
  {
   "cell_type": "code",
   "execution_count": 11,
   "metadata": {
    "collapsed": true
   },
   "outputs": [],
   "source": [
    "# write out the results to a file\n",
    "with open('output/file1.yaml', 'w') as fin:\n",
    "    yaml.dump(info, fin)"
   ]
  },
  {
   "cell_type": "code",
   "execution_count": 10,
   "metadata": {},
   "outputs": [
    {
     "name": "stdout",
     "output_type": "stream",
     "text": [
      "{'defaults': {'adapter': 'mysql', 'host': 'localhost'}, 'development': {'database': 'myapp_development', 'adapter': 'postgres', 'host': 'localhost'}, 'test': {'database': 'myapp_test', 'adapter': 'postgres', 'host': 'localhost'}}\n"
     ]
    }
   ],
   "source": [
    "print(info)"
   ]
  },
  {
   "cell_type": "markdown",
   "metadata": {
    "collapsed": true
   },
   "source": [
    "### Using ruamel.yaml"
   ]
  },
  {
   "cell_type": "code",
   "execution_count": 2,
   "metadata": {},
   "outputs": [
    {
     "name": "stdout",
     "output_type": "stream",
     "text": [
      "defaults:\n",
      "  adapter: mysql\n",
      "  host: localhost\n",
      "\n",
      "development:\n",
      "  database: myapp_development\n",
      "  adapter: postgres\n",
      "  host: localhost\n",
      "\n",
      "test:\n",
      "  database: myapp_test\n",
      "  adapter: postgres\n",
      "  host: localhost\n"
     ]
    }
   ],
   "source": [
    "import ruamel.yaml\n",
    "\n",
    "with open('input/file1_1.yaml', 'r') as fin:\n",
    "    inp = fin.read()\n",
    "    \n",
    "code = ruamel.yaml.load(inp, ruamel.yaml.RoundTripLoader)\n",
    "code['defaults']['adapter'] = 'mysql'\n",
    "\n",
    "print(ruamel.yaml.dump(code, Dumper=ruamel.yaml.RoundTripDumper), end='')"
   ]
  },
  {
   "cell_type": "code",
   "execution_count": 5,
   "metadata": {
    "collapsed": true
   },
   "outputs": [],
   "source": [
    "# write the yaml data to an output file\n",
    "with open('output/file1_2.yaml', 'w') as fout:\n",
    "    fout.write(ruamel.yaml.dump(code, Dumper=ruamel.yaml.RoundTripDumper))\n"
   ]
  }
 ],
 "metadata": {
  "kernelspec": {
   "display_name": "Python 3",
   "language": "python",
   "name": "python3"
  },
  "language_info": {
   "codemirror_mode": {
    "name": "ipython",
    "version": 3
   },
   "file_extension": ".py",
   "mimetype": "text/x-python",
   "name": "python",
   "nbconvert_exporter": "python",
   "pygments_lexer": "ipython3",
   "version": "3.6.0"
  }
 },
 "nbformat": 4,
 "nbformat_minor": 2
}
