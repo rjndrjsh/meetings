{
 "cells": [
  {
   "cell_type": "markdown",
   "metadata": {},
   "source": []
  },
  {
   "cell_type": "markdown",
   "metadata": {
    "collapsed": true
   },
   "source": [
    "```yaml\n",
    "defaults:\n",
    "  adapter:  postgres\n",
    "  host:     localhost\n",
    "\n",
    "development:\n",
    "  database: myapp_development\n",
    "  adapter:  postgres\n",
    "  host:     localhost\n",
    "\n",
    "test:\n",
    "  database: myapp_test\n",
    "  adapter:  postgres\n",
    "  host:     localhost\n",
    "```"
   ]
  },
  {
   "cell_type": "markdown",
   "metadata": {},
   "source": []
  },
  {
   "cell_type": "markdown",
   "metadata": {},
   "source": []
  },
  {
   "cell_type": "code",
   "execution_count": 1,
   "metadata": {
    "collapsed": true
   },
   "outputs": [],
   "source": [
    "import yaml"
   ]
  },
  {
   "cell_type": "code",
   "execution_count": 2,
   "metadata": {
    "collapsed": true
   },
   "outputs": [],
   "source": [
    "with open('input/file1.yaml', 'r') as fin:\n",
    "    info = yaml.load(fin)"
   ]
  },
  {
   "cell_type": "code",
   "execution_count": 4,
   "metadata": {},
   "outputs": [
    {
     "data": {
      "text/plain": [
       "{'defaults': {'adapter': 'postgres', 'host': 'localhost'},\n",
       " 'development': {'adapter': 'postgres',\n",
       "  'database': 'myapp_development',\n",
       "  'host': 'localhost'},\n",
       " 'test': {'adapter': 'postgres',\n",
       "  'database': 'myapp_test',\n",
       "  'host': 'localhost'}}"
      ]
     },
     "execution_count": 4,
     "metadata": {},
     "output_type": "execute_result"
    }
   ],
   "source": [
    "info"
   ]
  },
  {
   "cell_type": "code",
   "execution_count": 6,
   "metadata": {},
   "outputs": [
    {
     "name": "stdout",
     "output_type": "stream",
     "text": [
      "{'adapter': 'postgres', 'host': 'localhost'}\n"
     ]
    }
   ],
   "source": [
    "defaults = info['defaults']\n",
    "print(defaults)"
   ]
  },
  {
   "cell_type": "code",
   "execution_count": 7,
   "metadata": {},
   "outputs": [
    {
     "name": "stdout",
     "output_type": "stream",
     "text": [
      "postgres\n"
     ]
    }
   ],
   "source": [
    "adapter = defaults['adapter']\n",
    "print(adapter)"
   ]
  },
  {
   "cell_type": "code",
   "execution_count": 8,
   "metadata": {
    "collapsed": true
   },
   "outputs": [],
   "source": [
    "defaults['adapter'] = 'mysql'"
   ]
  },
  {
   "cell_type": "code",
   "execution_count": 11,
   "metadata": {
    "collapsed": true
   },
   "outputs": [],
   "source": [
    "with open('output/file1.yaml', 'w') as fin:\n",
    "    yaml.dump(info, fin)"
   ]
  },
  {
   "cell_type": "code",
   "execution_count": 10,
   "metadata": {},
   "outputs": [
    {
     "name": "stdout",
     "output_type": "stream",
     "text": [
      "{'defaults': {'adapter': 'mysql', 'host': 'localhost'}, 'development': {'database': 'myapp_development', 'adapter': 'postgres', 'host': 'localhost'}, 'test': {'database': 'myapp_test', 'adapter': 'postgres', 'host': 'localhost'}}\n"
     ]
    }
   ],
   "source": [
    "print(info)"
   ]
  },
  {
   "cell_type": "code",
   "execution_count": null,
   "metadata": {
    "collapsed": true
   },
   "outputs": [],
   "source": []
  }
 ],
 "metadata": {
  "kernelspec": {
   "display_name": "Python 3",
   "language": "python",
   "name": "python3"
  },
  "language_info": {
   "codemirror_mode": {
    "name": "ipython",
    "version": 3
   },
   "file_extension": ".py",
   "mimetype": "text/x-python",
   "name": "python",
   "nbconvert_exporter": "python",
   "pygments_lexer": "ipython3",
   "version": "3.6.0"
  }
 },
 "nbformat": 4,
 "nbformat_minor": 2
}
