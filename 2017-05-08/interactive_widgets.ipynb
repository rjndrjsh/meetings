{
 "cells": [
  {
   "cell_type": "code",
   "execution_count": 1,
   "metadata": {
    "collapsed": true
   },
   "outputs": [],
   "source": [
    "import ipywidgets as widgets"
   ]
  },
  {
   "cell_type": "code",
   "execution_count": 3,
   "metadata": {
    "collapsed": true
   },
   "outputs": [],
   "source": [
    "from ipywidgets import interact, interactive, fixed, interact_manual\n",
    "import ipywidgets as widgets"
   ]
  },
  {
   "cell_type": "code",
   "execution_count": 4,
   "metadata": {
    "collapsed": true
   },
   "outputs": [],
   "source": [
    "\n",
    "def f(x):\n",
    "    return x"
   ]
  },
  {
   "cell_type": "code",
   "execution_count": 5,
   "metadata": {},
   "outputs": [
    {
     "data": {
      "application/vnd.jupyter.widget-view+json": {
       "model_id": "c5f5cd63ab424942bcdb4036a8ebeb14"
      }
     },
     "metadata": {},
     "output_type": "display_data"
    }
   ],
   "source": [
    "interact(f, x=10);\n"
   ]
  },
  {
   "cell_type": "code",
   "execution_count": 6,
   "metadata": {},
   "outputs": [
    {
     "data": {
      "application/vnd.jupyter.widget-view+json": {
       "model_id": "e4df18080c6e4394adf44018a52d1f3b"
      }
     },
     "metadata": {},
     "output_type": "display_data"
    },
    {
     "name": "stdout",
     "output_type": "stream",
     "text": [
      "Button clicked.\n",
      "Button clicked.\n",
      "Button clicked.\n",
      "Button clicked.\n",
      "Button clicked.\n"
     ]
    }
   ],
   "source": [
    "from IPython.display import display\n",
    "button = widgets.Button(description=\"Click Me!\")\n",
    "display(button)\n",
    "\n",
    "def on_button_clicked(b):\n",
    "    print(\"Button clicked.\")\n",
    "\n",
    "button.on_click(on_button_clicked)\n"
   ]
  },
  {
   "cell_type": "code",
   "execution_count": 7,
   "metadata": {},
   "outputs": [
    {
     "data": {
      "application/vnd.jupyter.widget-view+json": {
       "model_id": "1dbd5580900344f696449435af589eee"
      }
     },
     "metadata": {},
     "output_type": "display_data"
    },
    {
     "name": "stdout",
     "output_type": "stream",
     "text": [
      "xyz\n",
      "sss\n",
      "zzz\n"
     ]
    }
   ],
   "source": [
    "text = widgets.Text()\n",
    "display(text)\n",
    "\n",
    "def handle_submit(sender):\n",
    "    print(text.value)\n",
    "\n",
    "text.on_submit(handle_submit)"
   ]
  },
  {
   "cell_type": "code",
   "execution_count": 55,
   "metadata": {},
   "outputs": [
    {
     "data": {
      "application/vnd.jupyter.widget-view+json": {
       "model_id": "7649aefe0c27428dbfedf198ed736be4"
      }
     },
     "metadata": {},
     "output_type": "display_data"
    },
    {
     "name": "stdout",
     "output_type": "stream",
     "text": [
      "1\n",
      "2\n",
      "3\n",
      "4\n",
      "5\n",
      "6\n",
      "7\n",
      "8\n",
      "9\n",
      "10\n",
      "11\n",
      "12\n",
      "13\n",
      "14\n"
     ]
    }
   ],
   "source": [
    "int_range = widgets.IntSlider()\n",
    "display(int_range)\n",
    "\n",
    "def on_value_change(change):\n",
    "    print(change['new'])\n",
    "\n",
    "int_range.observe(on_value_change, names='value')\n"
   ]
  },
  {
   "cell_type": "code",
   "execution_count": 71,
   "metadata": {},
   "outputs": [
    {
     "data": {
      "application/vnd.jupyter.widget-view+json": {
       "model_id": "a139f1069a2647d48d89792e8fb665a6"
      }
     },
     "metadata": {},
     "output_type": "display_data"
    },
    {
     "data": {
      "application/vnd.jupyter.widget-view+json": {
       "model_id": "510f4763cfd4414c85080a832b324388"
      }
     },
     "metadata": {},
     "output_type": "display_data"
    },
    {
     "data": {
      "application/vnd.jupyter.widget-view+json": {
       "model_id": "e6a972d905d247e187cc1fd46fa30552"
      }
     },
     "metadata": {},
     "output_type": "display_data"
    }
   ],
   "source": [
    "caption = widgets.Label(value='The values of range1 and range2 are synchronized')\n",
    "range1, range2 = widgets.IntSlider(description='Range 1'),\\\n",
    "                 widgets.IntSlider(description='Range 2')\n",
    "l = widgets.jslink((range1, 'value'), (range2, 'value'))\n",
    "display(caption, range1, range2)"
   ]
  },
  {
   "cell_type": "code",
   "execution_count": 13,
   "metadata": {},
   "outputs": [
    {
     "data": {
      "application/vnd.jupyter.widget-view+json": {
       "model_id": "8fcec5365cf4412fbb1ea00bca687b6e"
      }
     },
     "metadata": {},
     "output_type": "display_data"
    },
    {
     "data": {
      "application/vnd.jupyter.widget-view+json": {
       "model_id": "fe86ed641be942dda70cde3a7513e2fc"
      }
     },
     "metadata": {},
     "output_type": "display_data"
    },
    {
     "data": {
      "application/vnd.jupyter.widget-view+json": {
       "model_id": "0d22241de0554e658076b4af3980a233"
      }
     },
     "metadata": {},
     "output_type": "display_data"
    }
   ],
   "source": [
    "caption = widgets.Label(value='Changes in source_range values are reflected in target_range1')\n",
    "source_range, target_range1 = widgets.IntSlider(description='Source range'),\\\n",
    "                              widgets.IntSlider(description='Target range 1')\n",
    "dl = widgets.jsdlink((source_range, 'value'), (target_range1, 'value'))\n",
    "display(caption, source_range, target_range1)"
   ]
  },
  {
   "cell_type": "code",
   "execution_count": 14,
   "metadata": {
    "collapsed": true
   },
   "outputs": [],
   "source": [
    "\n",
    "l.unlink()\n",
    "dl.unlink()"
   ]
  },
  {
   "cell_type": "code",
   "execution_count": 56,
   "metadata": {},
   "outputs": [
    {
     "name": "stdout",
     "output_type": "stream",
     "text": [
      "0\n"
     ]
    },
    {
     "data": {
      "application/vnd.jupyter.widget-view+json": {
       "model_id": "0d783c35406f41c3bafbb2e78ec7ee41"
      }
     },
     "metadata": {},
     "output_type": "display_data"
    }
   ],
   "source": [
    "w = widgets.IntSlider()\n",
    "print(w.value)\n",
    "display(w)"
   ]
  },
  {
   "cell_type": "code",
   "execution_count": 67,
   "metadata": {},
   "outputs": [
    {
     "data": {
      "application/vnd.jupyter.widget-view+json": {
       "model_id": "b95c63744ed34f6aae0fc8be5ed55fd5"
      }
     },
     "metadata": {},
     "output_type": "display_data"
    }
   ],
   "source": [
    "x_widget = widgets.FloatSlider(min=0.0, max=10.0, step=0.05)\n",
    "y_widget = widgets.FloatSlider(min=0.5, max=10.0, step=0.05, value=5.0)\n",
    "\n",
    "def update_x_range(*args):\n",
    "    x_widget.max = 2.0 * y_widget.value\n",
    "y_widget.observe(update_x_range, 'value')\n",
    "\n",
    "def printer(x, y):\n",
    "    print(x, y)\n",
    "widgets.interact(printer,x=x_widget, y=y_widget);"
   ]
  },
  {
   "cell_type": "code",
   "execution_count": 68,
   "metadata": {},
   "outputs": [
    {
     "data": {
      "application/vnd.jupyter.widget-view+json": {
       "model_id": "4693fd587a9c44e68e2f2221fea24093"
      }
     },
     "metadata": {},
     "output_type": "display_data"
    },
    {
     "data": {
      "application/vnd.jupyter.widget-view+json": {
       "model_id": "6364dd1944024485b30662d612439962"
      }
     },
     "metadata": {},
     "output_type": "display_data"
    }
   ],
   "source": [
    "a = widgets.FloatText()\n",
    "b = widgets.FloatSlider()\n",
    "display(a,b)\n",
    "\n",
    "mylink = widgets.jslink((a, 'value'), (b, 'value'))\n"
   ]
  },
  {
   "cell_type": "code",
   "execution_count": 66,
   "metadata": {
    "collapsed": true
   },
   "outputs": [],
   "source": [
    "mylink.unlink()\n"
   ]
  },
  {
   "cell_type": "code",
   "execution_count": 77,
   "metadata": {},
   "outputs": [
    {
     "name": "stdout",
     "output_type": "stream",
     "text": [
      "Warning: Cannot change to a different GUI toolkit: qt. Using osx instead.\n"
     ]
    }
   ],
   "source": [
    "import numpy as np\n",
    "import matplotlib.pyplot as plt\n",
    "from matplotlib.widgets import Slider, Button, RadioButtons\n",
    "%matplotlib qt\n",
    "fig, ax = plt.subplots()\n",
    "plt.subplots_adjust(left=0.25, bottom=0.25)\n",
    "t = np.arange(0.0, 1.0, 0.001)\n",
    "a0 = 5\n",
    "f0 = 3\n",
    "s = a0*np.sin(2*np.pi*f0*t)\n",
    "l, = plt.plot(t, s, lw=2, color='red')\n",
    "plt.axis([0, 1, -10, 10])\n",
    "\n",
    "axcolor = 'lightgoldenrodyellow'\n",
    "axfreq = plt.axes([0.25, 0.1, 0.65, 0.03], facecolor=axcolor)\n",
    "axamp = plt.axes([0.25, 0.15, 0.65, 0.03], facecolor=axcolor)\n",
    "\n",
    "sfreq = Slider(axfreq, 'Freq', 0.1, 30.0, valinit=f0)\n",
    "samp = Slider(axamp, 'Amp', 0.1, 10.0, valinit=a0)\n",
    "\n",
    "\n",
    "def update(val):\n",
    "    amp = samp.val\n",
    "    freq = sfreq.val\n",
    "    l.set_ydata(amp*np.sin(2*np.pi*freq*t))\n",
    "    fig.canvas.draw_idle()\n",
    "sfreq.on_changed(update)\n",
    "samp.on_changed(update)\n",
    "\n",
    "resetax = plt.axes([0.8, 0.025, 0.1, 0.04])\n",
    "button = Button(resetax, 'Reset', color=axcolor, hovercolor='0.975')\n",
    "\n",
    "\n",
    "def reset(event):\n",
    "    sfreq.reset()\n",
    "    samp.reset()\n",
    "button.on_clicked(reset)\n",
    "\n",
    "rax = plt.axes([0.025, 0.5, 0.15, 0.15], facecolor=axcolor)\n",
    "radio = RadioButtons(rax, ('red', 'blue', 'green'), active=0)\n",
    "\n",
    "\n",
    "def colorfunc(label):\n",
    "    l.set_color(label)\n",
    "    fig.canvas.draw_idle()\n",
    "radio.on_clicked(colorfunc)\n",
    "\n",
    "plt.show()"
   ]
  },
  {
   "cell_type": "code",
   "execution_count": 78,
   "metadata": {},
   "outputs": [],
   "source": [
    "import numpy as np\n",
    "import matplotlib.pyplot as plt\n",
    "from matplotlib.widgets import RadioButtons\n",
    "\n",
    "t = np.arange(0.0, 2.0, 0.01)\n",
    "s0 = np.sin(2*np.pi*t)\n",
    "s1 = np.sin(4*np.pi*t)\n",
    "s2 = np.sin(8*np.pi*t)\n",
    "\n",
    "fig, ax = plt.subplots()\n",
    "l, = ax.plot(t, s0, lw=2, color='red')\n",
    "plt.subplots_adjust(left=0.3)\n",
    "\n",
    "axcolor = 'lightgoldenrodyellow'\n",
    "rax = plt.axes([0.05, 0.7, 0.15, 0.15], facecolor=axcolor)\n",
    "radio = RadioButtons(rax, ('2 Hz', '4 Hz', '8 Hz'))\n",
    "\n",
    "\n",
    "def hzfunc(label):\n",
    "    hzdict = {'2 Hz': s0, '4 Hz': s1, '8 Hz': s2}\n",
    "    ydata = hzdict[label]\n",
    "    l.set_ydata(ydata)\n",
    "    plt.draw()\n",
    "radio.on_clicked(hzfunc)\n",
    "\n",
    "rax = plt.axes([0.05, 0.4, 0.15, 0.15], facecolor=axcolor)\n",
    "radio2 = RadioButtons(rax, ('red', 'blue', 'green'))\n",
    "\n",
    "\n",
    "def colorfunc(label):\n",
    "    l.set_color(label)\n",
    "    plt.draw()\n",
    "radio2.on_clicked(colorfunc)\n",
    "\n",
    "rax = plt.axes([0.05, 0.1, 0.15, 0.15], facecolor=axcolor)\n",
    "radio3 = RadioButtons(rax, ('-', '--', '-.', 'steps', ':'))\n",
    "\n",
    "\n",
    "def stylefunc(label):\n",
    "    l.set_linestyle(label)\n",
    "    plt.draw()\n",
    "radio3.on_clicked(stylefunc)\n",
    "\n",
    "plt.show()"
   ]
  },
  {
   "cell_type": "code",
   "execution_count": 79,
   "metadata": {
    "collapsed": true
   },
   "outputs": [],
   "source": [
    "\"\"\"\n",
    "The SpanSelector is a mouse widget to select a xmin/xmax range and plot the\n",
    "detail view of the selected region in the lower axes\n",
    "\"\"\"\n",
    "import numpy as np\n",
    "import matplotlib.pyplot as plt\n",
    "from matplotlib.widgets import SpanSelector\n",
    "\n",
    "fig = plt.figure(figsize=(8, 6))\n",
    "ax = fig.add_subplot(211, facecolor='#FFFFCC')\n",
    "\n",
    "x = np.arange(0.0, 5.0, 0.01)\n",
    "y = np.sin(2*np.pi*x) + 0.5*np.random.randn(len(x))\n",
    "\n",
    "ax.plot(x, y, '-')\n",
    "ax.set_ylim(-2, 2)\n",
    "ax.set_title('Press left mouse button and drag to test')\n",
    "\n",
    "ax2 = fig.add_subplot(212, facecolor='#FFFFCC')\n",
    "line2, = ax2.plot(x, y, '-')\n",
    "\n",
    "\n",
    "def onselect(xmin, xmax):\n",
    "    indmin, indmax = np.searchsorted(x, (xmin, xmax))\n",
    "    indmax = min(len(x) - 1, indmax)\n",
    "\n",
    "    thisx = x[indmin:indmax]\n",
    "    thisy = y[indmin:indmax]\n",
    "    line2.set_data(thisx, thisy)\n",
    "    ax2.set_xlim(thisx[0], thisx[-1])\n",
    "    ax2.set_ylim(thisy.min(), thisy.max())\n",
    "    fig.canvas.draw()\n",
    "\n",
    "# set useblit True on gtkagg for enhanced performance\n",
    "span = SpanSelector(ax, onselect, 'horizontal', useblit=True,\n",
    "                    rectprops=dict(alpha=0.5, facecolor='red'))\n",
    "\n",
    "\n",
    "plt.show()"
   ]
  },
  {
   "cell_type": "code",
   "execution_count": 80,
   "metadata": {},
   "outputs": [
    {
     "name": "stdout",
     "output_type": "stream",
     "text": [
      "\n",
      "      click  -->  release\n",
      "(-0.03, -0.69) --> (4.98, 0.28)\n",
      " The button you used were: 1 1\n",
      "(-0.03, -0.69) --> (6.71, 0.48)\n",
      " The button you used were: 1 1\n",
      "(-0.03, -0.69) --> (6.71, 0.48)\n",
      " The button you used were: 1 1\n",
      "(-0.03, -0.69) --> (6.71, 0.48)\n",
      " The button you used were: 1 1\n"
     ]
    }
   ],
   "source": [
    "\"\"\"\n",
    "Do a mouseclick somewhere, move the mouse to some destination, release\n",
    "the button.  This class gives click- and release-events and also draws\n",
    "a line or a box from the click-point to the actual mouseposition\n",
    "(within the same axes) until the button is released.  Within the\n",
    "method 'self.ignore()' it is checked whether the button from eventpress\n",
    "and eventrelease are the same.\n",
    "\n",
    "\"\"\"\n",
    "from matplotlib.widgets import RectangleSelector\n",
    "import numpy as np\n",
    "import matplotlib.pyplot as plt\n",
    "\n",
    "\n",
    "def line_select_callback(eclick, erelease):\n",
    "    'eclick and erelease are the press and release events'\n",
    "    x1, y1 = eclick.xdata, eclick.ydata\n",
    "    x2, y2 = erelease.xdata, erelease.ydata\n",
    "    print(\"(%3.2f, %3.2f) --> (%3.2f, %3.2f)\" % (x1, y1, x2, y2))\n",
    "    print(\" The button you used were: %s %s\" % (eclick.button, erelease.button))\n",
    "\n",
    "\n",
    "def toggle_selector(event):\n",
    "    print(' Key pressed.')\n",
    "    if event.key in ['Q', 'q'] and toggle_selector.RS.active:\n",
    "        print(' RectangleSelector deactivated.')\n",
    "        toggle_selector.RS.set_active(False)\n",
    "    if event.key in ['A', 'a'] and not toggle_selector.RS.active:\n",
    "        print(' RectangleSelector activated.')\n",
    "        toggle_selector.RS.set_active(True)\n",
    "\n",
    "\n",
    "fig, current_ax = plt.subplots()                 # make a new plotting range\n",
    "N = 100000                                       # If N is large one can see\n",
    "x = np.linspace(0.0, 10.0, N)                    # improvement by use blitting!\n",
    "\n",
    "plt.plot(x, +np.sin(.2*np.pi*x), lw=3.5, c='b', alpha=.7)  # plot something\n",
    "plt.plot(x, +np.cos(.2*np.pi*x), lw=3.5, c='r', alpha=.5)\n",
    "plt.plot(x, -np.sin(.2*np.pi*x), lw=3.5, c='g', alpha=.3)\n",
    "\n",
    "print(\"\\n      click  -->  release\")\n",
    "\n",
    "# drawtype is 'box' or 'line' or 'none'\n",
    "toggle_selector.RS = RectangleSelector(current_ax, line_select_callback,\n",
    "                                       drawtype='box', useblit=True,\n",
    "                                       button=[1, 3],  # don't use middle button\n",
    "                                       minspanx=5, minspany=5,\n",
    "                                       spancoords='pixels',\n",
    "                                       interactive=True)\n",
    "plt.connect('key_press_event', toggle_selector)\n",
    "plt.show()"
   ]
  },
  {
   "cell_type": "code",
   "execution_count": 81,
   "metadata": {},
   "outputs": [
    {
     "name": "stdout",
     "output_type": "stream",
     "text": [
      "100 349 168 51\n",
      "100 298 168 51\n",
      "100 247 168 51\n",
      "100 196 168 51\n",
      "100 145 168 51\n",
      "you selected open\n",
      "you selected close\n",
      "you selected save\n",
      "you selected save as\n",
      "you selected quit\n"
     ]
    }
   ],
   "source": [
    "from __future__ import division, print_function\n",
    "import numpy as np\n",
    "import matplotlib\n",
    "import matplotlib.colors as colors\n",
    "import matplotlib.patches as patches\n",
    "import matplotlib.mathtext as mathtext\n",
    "import matplotlib.pyplot as plt\n",
    "import matplotlib.artist as artist\n",
    "import matplotlib.image as image\n",
    "\n",
    "\n",
    "class ItemProperties(object):\n",
    "    def __init__(self, fontsize=14, labelcolor='black', bgcolor='yellow',\n",
    "                 alpha=1.0):\n",
    "        self.fontsize = fontsize\n",
    "        self.labelcolor = labelcolor\n",
    "        self.bgcolor = bgcolor\n",
    "        self.alpha = alpha\n",
    "\n",
    "        self.labelcolor_rgb = colors.to_rgba(labelcolor)[:3]\n",
    "        self.bgcolor_rgb = colors.to_rgba(bgcolor)[:3]\n",
    "\n",
    "\n",
    "class MenuItem(artist.Artist):\n",
    "    parser = mathtext.MathTextParser(\"Bitmap\")\n",
    "    padx = 5\n",
    "    pady = 5\n",
    "\n",
    "    def __init__(self, fig, labelstr, props=None, hoverprops=None,\n",
    "                 on_select=None):\n",
    "        artist.Artist.__init__(self)\n",
    "\n",
    "        self.set_figure(fig)\n",
    "        self.labelstr = labelstr\n",
    "\n",
    "        if props is None:\n",
    "            props = ItemProperties()\n",
    "\n",
    "        if hoverprops is None:\n",
    "            hoverprops = ItemProperties()\n",
    "\n",
    "        self.props = props\n",
    "        self.hoverprops = hoverprops\n",
    "\n",
    "        self.on_select = on_select\n",
    "\n",
    "        x, self.depth = self.parser.to_mask(\n",
    "            labelstr, fontsize=props.fontsize, dpi=fig.dpi)\n",
    "\n",
    "        if props.fontsize != hoverprops.fontsize:\n",
    "            raise NotImplementedError(\n",
    "                'support for different font sizes not implemented')\n",
    "\n",
    "        self.labelwidth = x.shape[1]\n",
    "        self.labelheight = x.shape[0]\n",
    "\n",
    "        self.labelArray = np.zeros((x.shape[0], x.shape[1], 4))\n",
    "        self.labelArray[:, :, -1] = x/255.\n",
    "\n",
    "        self.label = image.FigureImage(fig, origin='upper')\n",
    "        self.label.set_array(self.labelArray)\n",
    "\n",
    "        # we'll update these later\n",
    "        self.rect = patches.Rectangle((0, 0), 1, 1)\n",
    "\n",
    "        self.set_hover_props(False)\n",
    "\n",
    "        fig.canvas.mpl_connect('button_release_event', self.check_select)\n",
    "\n",
    "    def check_select(self, event):\n",
    "        over, junk = self.rect.contains(event)\n",
    "        if not over:\n",
    "            return\n",
    "\n",
    "        if self.on_select is not None:\n",
    "            self.on_select(self)\n",
    "\n",
    "    def set_extent(self, x, y, w, h):\n",
    "        print(x, y, w, h)\n",
    "        self.rect.set_x(x)\n",
    "        self.rect.set_y(y)\n",
    "        self.rect.set_width(w)\n",
    "        self.rect.set_height(h)\n",
    "\n",
    "        self.label.ox = x + self.padx\n",
    "        self.label.oy = y - self.depth + self.pady/2.\n",
    "\n",
    "        self.rect._update_patch_transform()\n",
    "        self.hover = False\n",
    "\n",
    "    def draw(self, renderer):\n",
    "        self.rect.draw(renderer)\n",
    "        self.label.draw(renderer)\n",
    "\n",
    "    def set_hover_props(self, b):\n",
    "        if b:\n",
    "            props = self.hoverprops\n",
    "        else:\n",
    "            props = self.props\n",
    "\n",
    "        r, g, b = props.labelcolor_rgb\n",
    "        self.labelArray[:, :, 0] = r\n",
    "        self.labelArray[:, :, 1] = g\n",
    "        self.labelArray[:, :, 2] = b\n",
    "        self.label.set_array(self.labelArray)\n",
    "        self.rect.set(facecolor=props.bgcolor, alpha=props.alpha)\n",
    "\n",
    "    def set_hover(self, event):\n",
    "        'check the hover status of event and return true if status is changed'\n",
    "        b, junk = self.rect.contains(event)\n",
    "\n",
    "        changed = (b != self.hover)\n",
    "\n",
    "        if changed:\n",
    "            self.set_hover_props(b)\n",
    "\n",
    "        self.hover = b\n",
    "        return changed\n",
    "\n",
    "\n",
    "class Menu(object):\n",
    "    def __init__(self, fig, menuitems):\n",
    "        self.figure = fig\n",
    "        fig.suppressComposite = True\n",
    "\n",
    "        self.menuitems = menuitems\n",
    "        self.numitems = len(menuitems)\n",
    "\n",
    "        maxw = max([item.labelwidth for item in menuitems])\n",
    "        maxh = max([item.labelheight for item in menuitems])\n",
    "\n",
    "        totalh = self.numitems*maxh + (self.numitems + 1)*2*MenuItem.pady\n",
    "\n",
    "        x0 = 100\n",
    "        y0 = 400\n",
    "\n",
    "        width = maxw + 2*MenuItem.padx\n",
    "        height = maxh + MenuItem.pady\n",
    "\n",
    "        for item in menuitems:\n",
    "            left = x0\n",
    "            bottom = y0 - maxh - MenuItem.pady\n",
    "\n",
    "            item.set_extent(left, bottom, width, height)\n",
    "\n",
    "            fig.artists.append(item)\n",
    "            y0 -= maxh + MenuItem.pady\n",
    "\n",
    "        fig.canvas.mpl_connect('motion_notify_event', self.on_move)\n",
    "\n",
    "    def on_move(self, event):\n",
    "        draw = False\n",
    "        for item in self.menuitems:\n",
    "            draw = item.set_hover(event)\n",
    "            if draw:\n",
    "                self.figure.canvas.draw()\n",
    "                break\n",
    "\n",
    "\n",
    "fig = plt.figure()\n",
    "fig.subplots_adjust(left=0.3)\n",
    "props = ItemProperties(labelcolor='black', bgcolor='yellow',\n",
    "                       fontsize=15, alpha=0.2)\n",
    "hoverprops = ItemProperties(labelcolor='white', bgcolor='blue',\n",
    "                            fontsize=15, alpha=0.2)\n",
    "\n",
    "menuitems = []\n",
    "for label in ('open', 'close', 'save', 'save as', 'quit'):\n",
    "    def on_select(item):\n",
    "        print('you selected %s' % item.labelstr)\n",
    "    item = MenuItem(fig, label, props=props, hoverprops=hoverprops,\n",
    "                    on_select=on_select)\n",
    "    menuitems.append(item)\n",
    "\n",
    "menu = Menu(fig, menuitems)\n",
    "plt.show()"
   ]
  },
  {
   "cell_type": "code",
   "execution_count": 82,
   "metadata": {
    "collapsed": true
   },
   "outputs": [],
   "source": [
    "import numpy as np\n",
    "import matplotlib.pyplot as plt\n",
    "from matplotlib.widgets import MultiCursor\n",
    "\n",
    "t = np.arange(0.0, 2.0, 0.01)\n",
    "s1 = np.sin(2*np.pi*t)\n",
    "s2 = np.sin(4*np.pi*t)\n",
    "fig = plt.figure()\n",
    "ax1 = fig.add_subplot(211)\n",
    "ax1.plot(t, s1)\n",
    "\n",
    "\n",
    "ax2 = fig.add_subplot(212, sharex=ax1)\n",
    "ax2.plot(t, s2)\n",
    "\n",
    "multi = MultiCursor(fig.canvas, (ax1, ax2), color='r', lw=1)\n",
    "plt.show()"
   ]
  },
  {
   "cell_type": "code",
   "execution_count": 83,
   "metadata": {
    "collapsed": true
   },
   "outputs": [],
   "source": [
    "from matplotlib.widgets import Cursor\n",
    "import numpy as np\n",
    "import matplotlib.pyplot as plt\n",
    "\n",
    "\n",
    "fig = plt.figure(figsize=(8, 6))\n",
    "ax = fig.add_subplot(111, facecolor='#FFFFCC')\n",
    "\n",
    "x, y = 4*(np.random.rand(2, 100) - .5)\n",
    "ax.plot(x, y, 'o')\n",
    "ax.set_xlim(-2, 2)\n",
    "ax.set_ylim(-2, 2)\n",
    "\n",
    "# set useblit = True on gtkagg for enhanced performance\n",
    "cursor = Cursor(ax, useblit=True, color='red', linewidth=2)\n",
    "\n",
    "plt.show()"
   ]
  },
  {
   "cell_type": "code",
   "execution_count": null,
   "metadata": {
    "collapsed": true
   },
   "outputs": [],
   "source": []
  }
 ],
 "metadata": {
  "kernelspec": {
   "display_name": "Python 3",
   "language": "python",
   "name": "python3"
  },
  "language_info": {
   "codemirror_mode": {
    "name": "ipython",
    "version": 3
   },
   "file_extension": ".py",
   "mimetype": "text/x-python",
   "name": "python",
   "nbconvert_exporter": "python",
   "pygments_lexer": "ipython3",
   "version": "3.6.0"
  }
 },
 "nbformat": 4,
 "nbformat_minor": 2
}
