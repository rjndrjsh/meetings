{
 "cells": [
  {
   "cell_type": "markdown",
   "metadata": {},
   "source": [
    "# json — JavaScript Object Notation¶\n"
   ]
  },
  {
   "cell_type": "markdown",
   "metadata": {},
   "source": [
    "#### Purpose: Encode Python objects as JSON strings, and decode JSON strings into Python objects.\n",
    "The json module provides an API similar to pickle for converting in-memory Python objects to a serialized representation known as JavaScript Object Notation (JSON). Unlike pickle, JSON has the benefit of having implementations in many languages (especially JavaScript). It is most widely used for communicating between the web server and client in a REST API, but is also useful for other inter-application communication needs."
   ]
  },
  {
   "cell_type": "markdown",
   "metadata": {},
   "source": [
    "The json library can parse JSON from strings or files. The library parses JSON into a Python dictionary or list. It can also convert Python dictionaries or lists into JSON strings."
   ]
  },
  {
   "cell_type": "code",
   "execution_count": 1,
   "metadata": {
    "collapsed": true
   },
   "outputs": [],
   "source": [
    "json_string = '{\"first_name\": \"Guido\", \"last_name\":\"Rossum\"}'"
   ]
  },
  {
   "cell_type": "code",
   "execution_count": 2,
   "metadata": {
    "collapsed": true
   },
   "outputs": [],
   "source": [
    "import json\n",
    "parsed_json = json.loads(json_string)"
   ]
  },
  {
   "cell_type": "code",
   "execution_count": 3,
   "metadata": {},
   "outputs": [
    {
     "name": "stdout",
     "output_type": "stream",
     "text": [
      "Guido\n"
     ]
    }
   ],
   "source": [
    "print(parsed_json['first_name'])"
   ]
  },
  {
   "cell_type": "code",
   "execution_count": 4,
   "metadata": {},
   "outputs": [
    {
     "name": "stdout",
     "output_type": "stream",
     "text": [
      "{\"first_name\": \"Guido\", \"second_name\": \"Rossum\", \"titles\": [\"BDFL\", \"Developer\"]}\n"
     ]
    }
   ],
   "source": [
    "d = {\n",
    "    'first_name': 'Guido',\n",
    "    'second_name': 'Rossum',\n",
    "    'titles': ['BDFL', 'Developer'],\n",
    "}\n",
    "\n",
    "print(json.dumps(d))"
   ]
  },
  {
   "cell_type": "markdown",
   "metadata": {},
   "source": [
    "|Python\t|JSON|\n",
    "|:---|:---|\n",
    "|dict\t|object|\n",
    "|list, tuple\t|array|\n",
    "|str\t|string|\n",
    "|int, float, int- & float-derived Enums\t|number|\n",
    "|True\t|true|\n",
    "|False\t|false|\n",
    "|None\t|null|"
   ]
  },
  {
   "cell_type": "code",
   "execution_count": null,
   "metadata": {
    "collapsed": true
   },
   "outputs": [],
   "source": [
    "Encode Python objects as JSON strings"
   ]
  },
  {
   "cell_type": "code",
   "execution_count": null,
   "metadata": {
    "collapsed": true
   },
   "outputs": [],
   "source": [
    "json.dump(obj, fp,\n",
    "          skipkeys=False,\n",
    "          ensure_ascii=True,\n",
    "          check_circular=True,\n",
    "          allow_nan=True,\n",
    "          cls=None,\n",
    "          indent=None,\n",
    "          separators=None,\n",
    "          default=None,\n",
    "          sort_keys=False, **kw)"
   ]
  },
  {
   "cell_type": "code",
   "execution_count": null,
   "metadata": {
    "collapsed": true
   },
   "outputs": [],
   "source": [
    "#Examples : Python Dictionaries to JSON strings\n",
    "\n",
    "import json\n",
    "student = {\"101\":{\"class\":'V', \"Name\":'Rohit',  \"Roll_no\":7},\n",
    "           \"102\":{\"class\":'V', \"Name\":'David',  \"Roll_no\":8},\n",
    "           \"103\":{\"class\":'V', \"Name\":'Samiya', \"Roll_no\":12}}\n",
    "print(json.dumps(student));\n"
   ]
  },
  {
   "cell_type": "code",
   "execution_count": null,
   "metadata": {
    "collapsed": true
   },
   "outputs": [],
   "source": [
    "#Examples : Python Dictionaries to JSON strings (sorted by key)\n",
    "\n",
    "\n",
    "import json\n",
    "student = {\"101\":{\"class\":'V', \"Name\":'Rohit',  \"Roll_no\":7},\n",
    "           \"102\":{\"class\":'V', \"Name\":'David',  \"Roll_no\":8},\n",
    "           \"103\":{\"class\":'V', \"Name\":'Samiya', \"Roll_no\":12}}\n",
    "print(json.dumps(student, sort_keys=True));\n"
   ]
  },
  {
   "cell_type": "code",
   "execution_count": null,
   "metadata": {
    "collapsed": true
   },
   "outputs": [],
   "source": [
    "#Examples : Python tuple to JSON array\n",
    "\n",
    "\n",
    "import json\n",
    "tup1 = 'Red', 'Black', 'White';\n",
    "print(json.dumps(tup1));\n"
   ]
  },
  {
   "cell_type": "code",
   "execution_count": null,
   "metadata": {
    "collapsed": true
   },
   "outputs": [],
   "source": [
    "#Examples : Python list to JSON array\n",
    "\n",
    "\n",
    "import json\n",
    "list1 = [5, 12, 13, 14];\n",
    "print(json.dumps(list1));\n"
   ]
  },
  {
   "cell_type": "code",
   "execution_count": null,
   "metadata": {
    "collapsed": true
   },
   "outputs": [],
   "source": [
    "#Examples : Python string to JSON string\n",
    "\n",
    "\n",
    "import json\n",
    "string1 = 'Python and JSON';\n",
    "print(json.dumps(string1));\n"
   ]
  },
  {
   "cell_type": "code",
   "execution_count": null,
   "metadata": {
    "collapsed": true
   },
   "outputs": [],
   "source": [
    "#Examples : Python Boolean values to JSON Boolean values\n",
    "\n",
    "import json\n",
    "x = True;\n",
    "print(json.dumps(x));\n"
   ]
  },
  {
   "cell_type": "code",
   "execution_count": null,
   "metadata": {
    "collapsed": true
   },
   "outputs": [],
   "source": [
    "#Examples : Python int, float, int- & float-derived Enums to JSON number\n",
    "\n",
    "\n",
    "import json\n",
    "x = -456;\n",
    "y = -1.406;\n",
    "z =  2.12e-10\n",
    "print(json.dumps(x));\n",
    "print(json.dumps(y));\n",
    "print(json.dumps(z));\n"
   ]
  },
  {
   "cell_type": "code",
   "execution_count": null,
   "metadata": {
    "collapsed": true
   },
   "outputs": [],
   "source": [
    "Decode JSON strings into Python objects\n"
   ]
  },
  {
   "cell_type": "code",
   "execution_count": null,
   "metadata": {
    "collapsed": true
   },
   "outputs": [],
   "source": [
    "\n",
    "json.load(fp, \n",
    "          cls=None, \n",
    "\t\t  object_hook=None, \n",
    "\t\t  parse_float=None, \n",
    "\t\t  parse_int=None, \n",
    "\t\t  parse_constant=None, \n",
    "\t\t  object_pairs_hook=None, **kw)"
   ]
  },
  {
   "cell_type": "code",
   "execution_count": null,
   "metadata": {
    "collapsed": true
   },
   "outputs": [],
   "source": []
  },
  {
   "cell_type": "markdown",
   "metadata": {},
   "source": [
    "|JSON|Python|\n",
    "|:---|:---|\n",
    "|object|dict|\n",
    "|array|list|\n",
    "|string|str|\n",
    "|number (int)|int|\n",
    "|number (real)|float|\n",
    "|true|True|\n",
    "|false|False|\n",
    "|null|None|"
   ]
  },
  {
   "cell_type": "code",
   "execution_count": null,
   "metadata": {
    "collapsed": true
   },
   "outputs": [],
   "source": [
    "#Examples : JSON strings to Python Dictionaries\n",
    "\n",
    "\n",
    "import json\n",
    "json_data = '{\"103\": {\"class\": \"V\", \"Name\": \"Samiya\", \"Roll_n\": 12}, \"102\": {\"class\": \"V\", \"Name\": \"David\", \"Roll_no\": 8}, \"101\": {\"class\": \"V\", \"Name\": \"Rohit\", \"Roll_no\": 7}}';\n",
    "print(json.loads(json_data));\n"
   ]
  },
  {
   "cell_type": "code",
   "execution_count": null,
   "metadata": {
    "collapsed": true
   },
   "outputs": [],
   "source": [
    "# Examples : JSON array Python tuple\n",
    "\n",
    "import jsonJson_array = [\"Red\", \"Black\", \"White\"]\n",
    "print(json.dumps(Json_array));"
   ]
  },
  {
   "cell_type": "code",
   "execution_count": null,
   "metadata": {
    "collapsed": true
   },
   "outputs": [],
   "source": [
    "#Examples : Python list to JSON array\n",
    "\n",
    "\n",
    "import json \n",
    "Json_string = \"Python and JSON\" \n",
    "print(json.dumps(Json_string));\n"
   ]
  },
  {
   "cell_type": "code",
   "execution_count": null,
   "metadata": {
    "collapsed": true
   },
   "outputs": [],
   "source": []
  },
  {
   "cell_type": "code",
   "execution_count": null,
   "metadata": {
    "collapsed": true
   },
   "outputs": [],
   "source": []
  },
  {
   "cell_type": "markdown",
   "metadata": {},
   "source": [
    "Sources: <br>\n",
    "https://pymotw.com/3/json/ <br>\n",
    "http://www.w3resource.com/JSON/python-json-module-tutorial.php <br>\n",
    "http://python-guide-pt-br.readthedocs.io/en/latest/scenarios/json/ <br>\n",
    "https://www.tutorialspoint.com/json/index.htm <br>"
   ]
  },
  {
   "cell_type": "code",
   "execution_count": null,
   "metadata": {
    "collapsed": true
   },
   "outputs": [],
   "source": []
  }
 ],
 "metadata": {
  "kernelspec": {
   "display_name": "Python 3",
   "language": "python",
   "name": "python3"
  },
  "language_info": {
   "codemirror_mode": {
    "name": "ipython",
    "version": 3
   },
   "file_extension": ".py",
   "mimetype": "text/x-python",
   "name": "python",
   "nbconvert_exporter": "python",
   "pygments_lexer": "ipython3",
   "version": "3.6.0"
  }
 },
 "nbformat": 4,
 "nbformat_minor": 2
}
