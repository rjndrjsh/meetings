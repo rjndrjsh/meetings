{
 "cells": [
  {
   "cell_type": "markdown",
   "metadata": {
    "collapsed": true
   },
   "source": [
    "## Pandas & HDF5"
   ]
  },
  {
   "cell_type": "code",
   "execution_count": 5,
   "metadata": {
    "collapsed": true
   },
   "outputs": [],
   "source": [
    "import os\n",
    "import os.path\n",
    "\n",
    "output_fname = 'output/storage.h5'\n",
    "\n",
    "fname = os.path.basename(output_fname)\n",
    "dname = os.path.dirname(output_fname)\n",
    "\n",
    "if not os.path.exists(dname):\n",
    "    os.mkdir(dname)"
   ]
  },
  {
   "cell_type": "code",
   "execution_count": 6,
   "metadata": {
    "collapsed": false
   },
   "outputs": [],
   "source": [
    "import numpy as np\n",
    "from pandas import HDFStore,DataFrame\n",
    "\n",
    "# create (or open) an hdf5 file and opens in append mode\n",
    "hdf = HDFStore(os.path.join(dname, fname))"
   ]
  },
  {
   "cell_type": "code",
   "execution_count": 7,
   "metadata": {
    "collapsed": true
   },
   "outputs": [],
   "source": [
    "df = DataFrame(np.random.rand(5,3), columns=('A','B','C'))\n",
    "# put the dataset in the storage\n",
    "hdf.put('d1', df, format='table', data_columns=True)"
   ]
  },
  {
   "cell_type": "code",
   "execution_count": 8,
   "metadata": {
    "collapsed": false
   },
   "outputs": [
    {
     "name": "stdout",
     "output_type": "stream",
     "text": [
      "(5, 3)\n"
     ]
    }
   ],
   "source": [
    "print(hdf['d1'].shape)"
   ]
  },
  {
   "cell_type": "code",
   "execution_count": 9,
   "metadata": {
    "collapsed": true
   },
   "outputs": [],
   "source": [
    "hdf.append('d1', DataFrame(np.random.rand(5,3), \n",
    "           columns=('A','B','C')), \n",
    "           format='table', data_columns=True)\n",
    "hdf.close() # closes the file"
   ]
  },
  {
   "cell_type": "code",
   "execution_count": 10,
   "metadata": {
    "collapsed": false
   },
   "outputs": [],
   "source": [
    "from pandas import read_hdf\n",
    "# this query selects the columns A and B\n",
    "# where the values of A is greather than 0.5\n",
    "hdf = read_hdf('output/storage.h5', 'd1', where=['A>.5'], columns=['A','B'])"
   ]
  },
  {
   "cell_type": "code",
   "execution_count": 11,
   "metadata": {
    "collapsed": true
   },
   "outputs": [],
   "source": [
    "hdf = HDFStore(output_fname)\n",
    "hdf.put('tables/t1', DataFrame(np.random.rand(20,5)))\n",
    "hdf.put('tables/t2', DataFrame(np.random.rand(10,3)))\n",
    "hdf.put('new_tables/t1', DataFrame(np.random.rand(15,2)))"
   ]
  },
  {
   "cell_type": "code",
   "execution_count": 12,
   "metadata": {
    "collapsed": false
   },
   "outputs": [
    {
     "name": "stdout",
     "output_type": "stream",
     "text": [
      "<class 'pandas.io.pytables.HDFStore'>\n",
      "File path: output/storage.h5\n",
      "/d1                       frame_table  (typ->appendable,nrows->10,ncols->3,indexers->[index],dc->[A,B,C])\n",
      "/new_tables/t1            frame        (shape->[15,2])                                                   \n",
      "/tables/t1                frame        (shape->[20,5])                                                   \n",
      "/tables/t2                frame        (shape->[10,3])                                                   \n"
     ]
    }
   ],
   "source": [
    "print(hdf)"
   ]
  },
  {
   "cell_type": "code",
   "execution_count": null,
   "metadata": {
    "collapsed": true
   },
   "outputs": [],
   "source": []
  }
 ],
 "metadata": {
  "anaconda-cloud": {},
  "kernelspec": {
   "display_name": "Python [default]",
   "language": "python",
   "name": "python2"
  },
  "language_info": {
   "codemirror_mode": {
    "name": "ipython",
    "version": 2
   },
   "file_extension": ".py",
   "mimetype": "text/x-python",
   "name": "python",
   "nbconvert_exporter": "python",
   "pygments_lexer": "ipython2",
   "version": "2.7.12"
  }
 },
 "nbformat": 4,
 "nbformat_minor": 2
}
