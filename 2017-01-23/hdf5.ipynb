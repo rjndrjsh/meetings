{
 "cells": [
  {
   "cell_type": "markdown",
   "metadata": {},
   "source": [
    "# HDF5 + Python"
   ]
  },
  {
   "cell_type": "markdown",
   "metadata": {},
   "source": [
    "## What Exactly Is HDF5?\n",
    "> HDF5 is a great mechanism for storing large numerical arrays of homogenous type, for data models that can be organized hierarchically and benefit from tagging of datasets with arbitrary metadata.\n",
    "It’s quite different from SQL-style relational databases. HDF5 has quite a few organizational tricks up its sleeve (see Chapter 8, for example), but if you find yourself needing to enforce relationships between values in various tables, or wanting to perform JOINs on your data, a relational database is probably more appropriate. Likewise, for tiny 1D datasets you need to be able to read on machines without HDF5 installed. Text formats like CSV (with all their warts) are a reasonable alternative.\n",
    "\n",
    "> HDF5 is just about perfect if you make minimal use of relational features and have a need for very high performance, partial I/O, hierarchical organization, and arbitrary metadata.\n",
    "\n",
    "> So what, specifically, is “HDF5”? I would argue it consists of three things:\n",
    "-  A file specification and associated data model.\n",
    "- A standard library with API access available from C, C++, Java, Python, and others.\n",
    "- A software ecosystem, consisting of both client programs using HDF5 and “analysis platforms” like MATLAB, IDL, and Python.\n",
    "\n",
    ">... the three main elements of the HDF5 data model: datasets, array-like objects that store your numerical data on disk; groups, hierarchical containers that store datasets and other groups; and attributes, user-defined bits of metadata that can be attached to datasets (and groups!). \n",
    "<cite> Python and HDF  by Andrew Collette </cite>"
   ]
  },
  {
   "cell_type": "markdown",
   "metadata": {},
   "source": [
    "## From [HDF5 site](https://support.hdfgroup.org/HDF5/examples/intro.html#python)"
   ]
  },
  {
   "cell_type": "code",
   "execution_count": 1,
   "metadata": {
    "collapsed": false
   },
   "outputs": [
    {
     "name": "stdout",
     "output_type": "stream",
     "text": [
      "Dataset dataspace is (4, 6)\n",
      "Dataset Numpy datatype is >i4\n",
      "Dataset name is /dset\n",
      "Dataset is a member of the group <HDF5 group \"/\" (1 members)>\n",
      "Dataset was created in the file <HDF5 file \"dset.h5\" (mode r+)>\n"
     ]
    }
   ],
   "source": [
    "#\n",
    "# This examaple creates an HDF5 file dset.h5 and an empty datasets /dset in it.\n",
    "#\n",
    "import h5py\n",
    "#\n",
    "# Create a new file using defaut properties.\n",
    "#\n",
    "file = h5py.File('output/dset.h5','w')\n",
    "#\n",
    "# Create a dataset under the Root group.\n",
    "#\n",
    "dataset = file.create_dataset(\"dset\",(4, 6), h5py.h5t.STD_I32BE)\n",
    "print(\"Dataset dataspace is\", dataset.shape)\n",
    "print(\"Dataset Numpy datatype is\", dataset.dtype)\n",
    "print(\"Dataset name is\", dataset.name)\n",
    "print(\"Dataset is a member of the group\", dataset.parent)\n",
    "print(\"Dataset was created in the file\", dataset.file)\n",
    "#\n",
    "# Close the file before exiting\n",
    "#\n",
    "file.close()"
   ]
  },
  {
   "cell_type": "code",
   "execution_count": 2,
   "metadata": {
    "collapsed": false
   },
   "outputs": [
    {
     "name": "stdout",
     "output_type": "stream",
     "text": [
      "Writing data...\n",
      "Reading data back...\n",
      "Printing data...\n",
      "[[ 1  2  3  4  5  6]\n",
      " [ 7  8  9 10 11 12]\n",
      " [13 14 15 16 17 18]\n",
      " [19 20 21 22 23 24]]\n"
     ]
    }
   ],
   "source": [
    "#\n",
    "# This example writes data to the existing empty dataset created by h5_crtdat.py and then reads it back.\n",
    "#\n",
    "import h5py\n",
    "import numpy as np\n",
    "#\n",
    "# Open an existing file using default properties.\n",
    "#\n",
    "file = h5py.File('output/dset.h5','r+')\n",
    "#\n",
    "# Open \"dset\" dataset under the root group.\n",
    "#\n",
    "dataset = file['/dset']\n",
    "#\n",
    "# Initialize data object with 0.\n",
    "#\n",
    "data = np.zeros((4,6))\n",
    "#\n",
    "# Assign new values\n",
    "#\n",
    "for i in range(4):\n",
    "    for j in range(6):\n",
    "        data[i][j]= i*6+j+1\t \n",
    "#\n",
    "# Write data\n",
    "#\n",
    "print(\"Writing data...\")\n",
    "dataset[...] = data\n",
    "#\n",
    "# Read data back and print it.\n",
    "#\n",
    "print(\"Reading data back...\")\n",
    "data_read = dataset[...]\n",
    "print(\"Printing data...\")\n",
    "print(data_read)\n",
    "#\n",
    "# Close the file before exiting\n",
    "#\n",
    "for item in dataset.attrs.keys():\n",
    "    print (dataset.attrs[item])\n",
    "    \n",
    "file.close()\n"
   ]
  },
  {
   "cell_type": "code",
   "execution_count": 3,
   "metadata": {
    "collapsed": false
   },
   "outputs": [
    {
     "name": "stdout",
     "output_type": "stream",
     "text": [
      "Units Meter per second\n",
      "Speed [100 200]\n"
     ]
    }
   ],
   "source": [
    "#\n",
    "# This examaple creates and writes two attributes on the \"dset\" dataset created by h5_crtdat.py.\n",
    "#\n",
    "import h5py\n",
    "import numpy as np\n",
    "#\n",
    "# Open an existing file using defaut properties.\n",
    "#\n",
    "file = h5py.File('output/dset.h5','r+')\n",
    "#\n",
    "# Open \"dset\" dataset.\n",
    "#\n",
    "dataset = file['/dset']\n",
    "#\n",
    "# Create string attribute.\n",
    "#\n",
    "attr_string = \"Meter per second\"\n",
    "dataset.attrs[\"Units\"] = attr_string\n",
    "#\n",
    "# Create integer array attribute.\n",
    "#\n",
    "attr_data = np.zeros((2))\n",
    "attr_data[0] = 100\n",
    "attr_data[1] = 200\n",
    "#\n",
    "#\n",
    "dataset.attrs.create(\"Speed\", attr_data, (2,), h5py.h5t.STD_I32BE)\n",
    "#\n",
    "# Close the file before exiting\n",
    "#\n",
    "for item in dataset.attrs.keys():\n",
    "    print (item, dataset.attrs[item])\n",
    "file.close()\n",
    "\n"
   ]
  },
  {
   "cell_type": "code",
   "execution_count": 4,
   "metadata": {
    "collapsed": false
   },
   "outputs": [
    {
     "name": "stdout",
     "output_type": "stream",
     "text": [
      "Creating an HDF5 file with the name group.h5...\n",
      "When an HDF5 file is created, it has a Root group with the name ' / '.\n",
      "Creating a group MyGroup in the file...\n",
      "An HDF5 group is a container for other objects; a group is similar to Python dictionary with the keys being the links to the group members.\n",
      "Show the members of the Root group using dictionary key method: KeysView(<HDF5 file \"group.h5\" (mode r+)>)\n",
      "Show the members of the Root group using the list function: ['MyGroup']\n"
     ]
    }
   ],
   "source": [
    "#\n",
    "# This example creates an HDF5 file group.h5 and a group MyGroup in it \n",
    "# using H5Py interfaces to the HDF5 library. \n",
    "#\n",
    "import sys\n",
    "import h5py\n",
    "\n",
    "# Uncomment the next line if you want to save the output from this script to a file named \"out\".\n",
    "#sys.stdout = open('out', 'w')\n",
    "#\n",
    "# Use 'w' to remove existing file and create a new one; use 'w-' if\n",
    "# create operation should fail when the file already exists.\n",
    "#\n",
    "print(\"Creating an HDF5 file with the name group.h5...\")\n",
    "file = h5py.File('group.h5','w')\n",
    "#\n",
    "# Show the Root group which is created when the file is created.\n",
    "#\n",
    "print(\"When an HDF5 file is created, it has a Root group with the name '\",file.name,\"'.\")\n",
    "#\n",
    "# Create a group with the name \"MyGroup\"\n",
    "#\n",
    "print(\"Creating a group MyGroup in the file...\")\n",
    "group = file.create_group(\"MyGroup\")\n",
    "# \n",
    "# Print the content of the Root group\n",
    "#\n",
    "print(\"An HDF5 group is a container for other objects; a group is similar to Python dictionary with the keys being the links to the group members.\")\n",
    "print(\"Show the members of the Root group using dictionary key method:\", file.keys())\n",
    "#\n",
    "# Another way to show the content of the Root group.\n",
    "print(\"Show the members of the Root group using the list function:\", list(file))\n",
    "#\n",
    "# Close the file before exiting; H5Py will close the group.\n",
    "#\n",
    "file.close()\n"
   ]
  },
  {
   "cell_type": "code",
   "execution_count": 5,
   "metadata": {
    "collapsed": false
   },
   "outputs": [
    {
     "name": "stdout",
     "output_type": "stream",
     "text": [
      "Creating HDF5 file group.h5...\n",
      "Creating group MyGroup in the file...\n",
      "Creating group Group_A in MyGroup using absolute path...\n",
      "Creating group Group_B in MyGroup using relative path...\n",
      "Printing members of MyGroup group: KeysView(<HDF5 group \"/MyGroup\" (2 members)>)\n"
     ]
    }
   ],
   "source": [
    "#\n",
    "# This example creates HDF5 file group.h5 and group MyGroup in it.\n",
    "# Absolute and relative paths are used to create groups in MyGroup. \n",
    "#\n",
    "import sys\n",
    "import h5py\n",
    "\n",
    "#\n",
    "# Use 'w' to remove existing file and create a new one; use 'w-' if\n",
    "# create operation should fail when the file already exists.\n",
    "#\n",
    "print(\"Creating HDF5 file group.h5...\")\n",
    "file = h5py.File('group.h5','w')\n",
    "#\n",
    "# Create a group with the name \"MyGroup\"\n",
    "#\n",
    "print(\"Creating group MyGroup in the file...\")\n",
    "group = file.create_group(\"MyGroup\")\n",
    "#\n",
    "# Create group \"Group_A\" in group MyGroup\n",
    "#\n",
    "print(\"Creating group Group_A in MyGroup using absolute path...\")\n",
    "group_a = file.create_group(\"/MyGroup/Group_A\")\n",
    "#\n",
    "# Create group \"Group_B\" in group MyGroup\n",
    "#\n",
    "print(\"Creating group Group_B in MyGroup using relative path...\")\n",
    "group_b = group.create_group(\"Group_B\")\n",
    "# \n",
    "# Print the contents of MyGroup group\n",
    "#\n",
    "print(\"Printing members of MyGroup group:\", group.keys())\n",
    "#\n",
    "# Close the file before exiting; H5Py will close the groups we created.\n",
    "#\n",
    "file.close()\n"
   ]
  },
  {
   "cell_type": "code",
   "execution_count": 6,
   "metadata": {
    "collapsed": false
   },
   "outputs": [
    {
     "name": "stdout",
     "output_type": "stream",
     "text": [
      "Creating dataset dset1 in MyGroup group...\n",
      "Writing data to dset1...\n",
      "Creating dataset dset2 in /MyGroup/Group_A group...\n",
      "Writing data to dset2...\n"
     ]
    }
   ],
   "source": [
    "#\n",
    "# This example writes data to the existing empty dataset created by h5_crtdat.py and then reads it back.\n",
    "#\n",
    "import h5py\n",
    "import numpy as np\n",
    "#\n",
    "# Open an existing file using defaut properties.\n",
    "#\n",
    "file = h5py.File('group.h5','r+')\n",
    "#\n",
    "# Open \"MyGroup\" group and create dataset dset1 in it.\n",
    "#\n",
    "print(\"Creating dataset dset1 in MyGroup group...\")\n",
    "dataset1 = file.create_dataset(\"/MyGroup/dset1\", (3,3), dtype = h5py.h5t.STD_I32BE) \n",
    "#\n",
    "# Initialize data and write it to dset1.\n",
    "#\n",
    "data = np.zeros((3,3))\n",
    "for i in range(3):\n",
    "    for j in range(3):\n",
    "        data[i][j] = j + 1\n",
    "print(\"Writing data to dset1...\")\n",
    "dataset1[...] = data\n",
    "\n",
    "#\n",
    "# Open \"MyGroup/Group_A\" group and create dataset dset2 in it.\n",
    "#\n",
    "print(\"Creating dataset dset2 in /MyGroup/Group_A group...\")\n",
    "group = file['/MyGroup/Group_A']\n",
    "dataset2 = group.create_dataset(\"dset2\", (2,10), dtype = h5py.h5t.STD_I16LE)\n",
    "#\n",
    "# Initialize data and write it to dset2.\n",
    "#\n",
    "data = np.zeros((2,10))\n",
    "for i in range(2):\n",
    "    for j in range(10):\n",
    "        data[i][j] = j + 1\t \n",
    "print(\"Writing data to dset2...\")\n",
    "dataset2[...] = data\n",
    "#\n",
    "# Close the file before exiting.\n",
    "#\n",
    "file.close()\n"
   ]
  },
  {
   "cell_type": "code",
   "execution_count": 7,
   "metadata": {
    "collapsed": false
   },
   "outputs": [
    {
     "name": "stdout",
     "output_type": "stream",
     "text": [
      "Number of filters associated with dataset:  1\n",
      "b'deflate'\n",
      "[[   0.    1.    2. ...,   17.   18.   19.]\n",
      " [   1.    2.    3. ...,   18.   19.   20.]\n",
      " [   2.    3.    4. ...,   19.   20.   21.]\n",
      " ..., \n",
      " [  97.   98.   99. ...,  114.  115.  116.]\n",
      " [  98.   99.  100. ...,  115.  116.  117.]\n",
      " [  99.  100.  101. ...,  116.  117.  118.]]\n"
     ]
    }
   ],
   "source": [
    "\"\"\"\n",
    "This example illustrates how to create a compressed dataset.\n",
    "\n",
    "Tested with:\n",
    "    Fedora 18:\n",
    "        HDF5 1.8.9, Python 2.7.3, Numpy 1.7.1, h5py 2.1.3\n",
    "    Fedora 18:\n",
    "        HDF5 1.8.9, Python 3.3.0, Numpy 1.7.1, h5py 2.1.3\n",
    "    Mac OS X 10.6.8:\n",
    "        HDF5 1.8.10, Python 3.2.5, Numpy 1.7.1, h5py 2.1.3\n",
    "\"\"\"\n",
    "import sys\n",
    "\n",
    "import numpy as np\n",
    "import h5py\n",
    "\n",
    "FILE = \"output/cmprss.h5\"\n",
    "DATASET = \"Compressed_Data\"\n",
    "\n",
    "# Strings are handled very differently between python2 and python3.\n",
    "if sys.hexversion >= 0x03000000:\n",
    "    FILE = FILE.encode()\n",
    "    DATASET = DATASET.encode()\n",
    "\n",
    "DIM0 = 100\n",
    "DIM1 = 20\n",
    "\n",
    "def run():\n",
    "    # Create a file.\n",
    "    fid = h5py.h5f.create(FILE)\n",
    "\n",
    "    # Create dataset \"Compressed Data\" in the group using absolute names.\n",
    "    dims = (DIM0, DIM1)\n",
    "    space_id = h5py.h5s.create_simple(dims)\n",
    "\n",
    "    dcpl = h5py.h5p.create(h5py.h5p.DATASET_CREATE)\n",
    "\n",
    "    # Datasets must be chunked for compression.\n",
    "    cdims = (20, 20)\n",
    "    dcpl.set_chunk(cdims)\n",
    "\n",
    "    # Set ZLIB / DEFLATE compression using compression level 6.\n",
    "    dcpl.set_deflate(6)\n",
    "\n",
    "    dset = h5py.h5d.create(fid, DATASET,\n",
    "                           h5py.h5t.STD_I32BE, \n",
    "                           space_id, dcpl, h5py.h5p.DEFAULT)\n",
    "\n",
    "    buf = np.zeros((DIM0, DIM1))\n",
    "    for i in range(DIM0):\n",
    "        buf[i] = i + np.arange(DIM1)\n",
    "\n",
    "    dset.write(h5py.h5s.ALL, h5py.h5s.ALL, buf)\n",
    "\n",
    "    # Now reopen the file and dataset.\n",
    "    fid = h5py.h5f.open(FILE)\n",
    "    dset = h5py.h5d.open(fid, DATASET)\n",
    "\n",
    "    dcpl = dset.get_create_plist()\n",
    "\n",
    "    numfilt = dcpl.get_nfilters()\n",
    "    print(\"Number of filters associated with dataset:  %d\" % numfilt)\n",
    "\n",
    "    for j in range(numfilt):\n",
    "        code, flags, values, name = dcpl.get_filter(j)\n",
    "        print(name)\n",
    "\n",
    "    newdata = np.zeros((DIM0, DIM1))\n",
    "    dset.read(h5py.h5s.ALL,h5py.h5s.ALL, newdata)\n",
    "    print(newdata)\n",
    "\n",
    "run()"
   ]
  },
  {
   "cell_type": "code",
   "execution_count": null,
   "metadata": {
    "collapsed": true
   },
   "outputs": [],
   "source": []
  },
  {
   "cell_type": "markdown",
   "metadata": {
    "collapsed": true
   },
   "source": [
    "## From [NexPy](http://nexpy.github.io/nexpy/)"
   ]
  },
  {
   "cell_type": "code",
   "execution_count": 8,
   "metadata": {
    "collapsed": true
   },
   "outputs": [],
   "source": [
    "#!/usr/bin/env python\n",
    "'''uses h5py to build the verysimple.nx5 data file'''\n",
    "\n",
    "import h5py\n",
    "\n",
    "angle = [18.9094, 18.9096, 18.9098, 18.91,  18.9102, \n",
    "         18.9104, 18.9106, 18.9108, 18.911, 18.9112, \n",
    "         18.9114, 18.9116, 18.9118, 18.912, 18.9122]\n",
    "diode = [1193, 4474, 53220, 274310, 515430, 827880, \n",
    "         1227100, 1434640, 1330280, 1037070, 598720, \n",
    "         316460, 56677, 1000, 1000]\n",
    "\n",
    "f = h5py.File('output/verysimple.nx5', 'w')\n",
    "f.attrs['default'] = 'entry'\n",
    "\n",
    "nxentry = f.create_group('entry')\n",
    "nxentry.attrs[\"NX_class\"] = 'NXentry'\n",
    "nxentry.attrs['default'] = 'data'\n",
    "\n",
    "nxdata = nxentry.create_group('data')\n",
    "nxdata.attrs[\"NX_class\"] = 'NXdata'\n",
    "nxdata.attrs['signal'] = 'counts'\n",
    "nxdata.attrs['axes'] = 'two_theta'\n",
    "nxdata.attrs['two_theta_indices'] = [0,]\n",
    "\n",
    "tth = nxdata.create_dataset('two_theta', data=angle)\n",
    "tth.attrs['units'] = 'degrees'\n",
    "tth.attrs['long_name'] = 'photodiode counts'\n",
    "\n",
    "counts = nxdata.create_dataset('counts', data=diode)\n",
    "counts.attrs['units'] = 'counts'\n",
    "counts.attrs['long_name'] = 'two_theta (degrees)'\n",
    "\n",
    "f.close()"
   ]
  },
  {
   "cell_type": "markdown",
   "metadata": {},
   "source": [
    "![title](images/ex2.png)"
   ]
  },
  {
   "cell_type": "code",
   "execution_count": 9,
   "metadata": {
    "collapsed": false
   },
   "outputs": [],
   "source": [
    "#!/usr/bin/env python\n",
    "'''\n",
    "Writes the simplest NeXus HDF5 file using h5py \n",
    "\n",
    "Uses method accepted at 2014NIAC\n",
    "according to the example from Figure 1.3 \n",
    "in the Introduction chapter\n",
    "'''\n",
    "\n",
    "import h5py\n",
    "import numpy\n",
    "\n",
    "buffer = numpy.loadtxt('output/input.dat').T\n",
    "tthData = buffer[0]                             # float[]\n",
    "countsData = numpy.asarray(buffer[1],'int32')   # int[]\n",
    "\n",
    "f = h5py.File('output/writer_1_3.hdf5', \"w\")  # create the HDF5 NeXus file\n",
    "# since this is a simple example, no attributes are used at this point\n",
    "\n",
    "nxentry = f.create_group('Scan')\n",
    "j = f.create_group('blahblah')\n",
    "nxentry.attrs[\"NX_class\"] = 'NXentry'\n",
    "j.create_group('here')\n",
    "nxdata = nxentry.create_group('data')\n",
    "nxdata.attrs[\"NX_class\"] = 'NXdata'\n",
    "nxdata.attrs['signal'] = \"counts\"\n",
    "nxdata.attrs['axes'] = \"two_theta\"\n",
    "nxdata.attrs['two_theta_indices'] = [0,]\n",
    "\n",
    "tth = nxdata.create_dataset(\"two_theta\", data=tthData)\n",
    "tth.attrs['units'] = \"degrees\"\n",
    "\n",
    "counts = nxdata.create_dataset(\"counts\", data=countsData)\n",
    "counts.attrs['units'] = \"counts\"\n",
    "\n",
    "f.close()   # be CERTAIN to close the file"
   ]
  },
  {
   "cell_type": "markdown",
   "metadata": {},
   "source": [
    "![title](images/Simple.png)"
   ]
  },
  {
   "cell_type": "code",
   "execution_count": 10,
   "metadata": {
    "collapsed": false
   },
   "outputs": [
    {
     "name": "stdout",
     "output_type": "stream",
     "text": [
      "Write a NeXus HDF5 file\n",
      "wrote file: output/prj_test.nexus.hdf5\n"
     ]
    }
   ],
   "source": [
    "# basic writer\n",
    "\n",
    "'''Writes a NeXus HDF5 file using h5py and numpy'''\n",
    "\n",
    "import h5py    # HDF5 support\n",
    "import numpy\n",
    "\n",
    "print(\"Write a NeXus HDF5 file\")\n",
    "fileName = \"output/prj_test.nexus.hdf5\"\n",
    "timestamp = \"2017-01-23T17:17:04-0500\"\n",
    "\n",
    "# load data from two column format\n",
    "data = numpy.loadtxt('output/input.dat').T\n",
    "mr_arr = data[0]\n",
    "i00_arr = numpy.asarray(data[1],'int32')\n",
    "\n",
    "# create the HDF5 NeXus file\n",
    "f = h5py.File(fileName, \"w\")\n",
    "# point to the default data to be plotted\n",
    "f.attrs['default']          = 'entry'\n",
    "# give the HDF5 root some more attributes\n",
    "f.attrs['file_name']        = fileName\n",
    "f.attrs['file_time']        = timestamp\n",
    "f.attrs['instrument']       = 'APS USAXS at 32ID-B'\n",
    "f.attrs['creator']          = 'BasicWriter.py'\n",
    "f.attrs['NeXus_version']    = '4.3.0'\n",
    "f.attrs['HDF5_Version']     = h5py.version.hdf5_version\n",
    "f.attrs['h5py_version']     = h5py.version.version\n",
    "\n",
    "# create the NXentry group\n",
    "nxentry = f.create_group('entry')\n",
    "nxentry.attrs['NX_class'] = 'NXentry'\n",
    "nxentry.attrs['default'] = 'mr_scan'\n",
    "nxentry.create_dataset('title', data='1-D scan of I00 v. mr')\n",
    "\n",
    "# create the NXentry group\n",
    "nxdata = nxentry.create_group('mr_scan')\n",
    "nxdata.attrs['NX_class'] = 'NXdata'\n",
    "nxdata.attrs['signal'] = 'I00'      # Y axis of default plot\n",
    "nxdata.attrs['axes'] = 'mr'         # X axis of default plot\n",
    "nxdata.attrs['mr_indices'] = [0,]   # use \"mr\" as the first dimension of I00\n",
    "\n",
    "# X axis data\n",
    "ds = nxdata.create_dataset('mr', data=mr_arr)\n",
    "ds.attrs['units'] = 'degrees'\n",
    "ds.attrs['long_name'] = 'USAXS mr (degrees)'    # suggested X axis plot label\n",
    "\n",
    "# Y axis data\n",
    "ds = nxdata.create_dataset('I00', data=i00_arr)\n",
    "ds.attrs['units'] = 'counts'\n",
    "ds.attrs['long_name'] = 'USAXS I00 (counts)'    # suggested Y axis plot label\n",
    "\n",
    "f.close()   # be CERTAIN to close the file\n",
    "\n",
    "print(\"wrote file:\", fileName)"
   ]
  },
  {
   "cell_type": "code",
   "execution_count": 11,
   "metadata": {
    "collapsed": false
   },
   "outputs": [
    {
     "name": "stdout",
     "output_type": "stream",
     "text": [
      "default: entry\n",
      "file_name: output/prj_test.nexus.hdf5\n",
      "file_time: 2017-01-23T17:17:04-0500\n",
      "instrument: APS USAXS at 32ID-B\n",
      "creator: BasicWriter.py\n",
      "NeXus_version: 4.3.0\n",
      "HDF5_Version: 1.8.17\n",
      "h5py_version: 2.6.0\n",
      "#\tmr\tI00\n",
      "0\t17.9261\t1037\n",
      "1\t17.9259\t1318\n",
      "2\t17.9258\t1704\n",
      "3\t17.9256\t2857\n",
      "4\t17.9254\t4516\n",
      "5\t17.9252\t9998\n",
      "6\t17.9251\t23819\n",
      "7\t17.9249\t31662\n",
      "8\t17.9247\t40458\n",
      "9\t17.9246\t49087\n",
      "10\t17.9244\t56514\n",
      "11\t17.9243\t63499\n",
      "12\t17.9241\t66802\n",
      "13\t17.9239\t66863\n",
      "14\t17.9237\t66599\n",
      "15\t17.9236\t66206\n",
      "16\t17.9234\t65747\n",
      "17\t17.9232\t65250\n",
      "18\t17.9231\t64129\n",
      "19\t17.9229\t63044\n",
      "20\t17.9228\t60796\n",
      "21\t17.9226\t56795\n",
      "22\t17.9224\t51550\n",
      "23\t17.9222\t43710\n",
      "24\t17.9221\t29315\n",
      "25\t17.9219\t19782\n",
      "26\t17.9217\t12992\n",
      "27\t17.9216\t6622\n",
      "28\t17.9214\t4198\n",
      "29\t17.9213\t2248\n",
      "30\t17.9211\t1321\n"
     ]
    }
   ],
   "source": [
    "#Basic Reader\n",
    "'''Reads NeXus HDF5 files using h5py and prints the contents'''\n",
    "\n",
    "import h5py    # HDF5 support\n",
    "\n",
    "fileName = \"output/prj_test.nexus.hdf5\"\n",
    "f = h5py.File(fileName,  \"r\")\n",
    "for item in f.attrs.keys():\n",
    "    print(item + \":\", f.attrs[item])\n",
    "mr = f['/entry/mr_scan/mr']\n",
    "i00 = f['/entry/mr_scan/I00']\n",
    "print(\"%s\\t%s\\t%s\" % (\"#\", \"mr\", \"I00\"))\n",
    "for i in range(len(mr)):\n",
    "    print(\"%d\\t%g\\t%d\" % (i, mr[i], i00[i]))\n",
    "f.close()"
   ]
  },
  {
   "cell_type": "markdown",
   "metadata": {},
   "source": [
    "#### Links\n",
    "> Links are pointers to existing data somewhere else. The concept is very much like symbolic links in a unix filesystem. The NeXus definition sometimes requires to have access to the same data in different groups in the same file. "
   ]
  },
  {
   "cell_type": "markdown",
   "metadata": {},
   "source": [
    "![title](images/ex_writer_2_1.png)"
   ]
  },
  {
   "cell_type": "code",
   "execution_count": 12,
   "metadata": {
    "collapsed": false
   },
   "outputs": [
    {
     "ename": "TypeError",
     "evalue": "expected bytes, str found",
     "output_type": "error",
     "traceback": [
      "\u001b[0;31m---------------------------------------------------------------------------\u001b[0m",
      "\u001b[0;31mTypeError\u001b[0m                                 Traceback (most recent call last)",
      "\u001b[0;32m<ipython-input-12-d659d61e3b82>\u001b[0m in \u001b[0;36m<module>\u001b[0;34m()\u001b[0m\n\u001b[1;32m     43\u001b[0m \u001b[0mtarget_addr\u001b[0m \u001b[0;34m=\u001b[0m \u001b[0;34m'two_theta'\u001b[0m                               \u001b[0;31m# new location\u001b[0m\u001b[0;34m\u001b[0m\u001b[0m\n\u001b[1;32m     44\u001b[0m \u001b[0mds_tth\u001b[0m\u001b[0;34m.\u001b[0m\u001b[0mattrs\u001b[0m\u001b[0;34m[\u001b[0m\u001b[0;34m'target'\u001b[0m\u001b[0;34m]\u001b[0m \u001b[0;34m=\u001b[0m \u001b[0msource_addr\u001b[0m                    \u001b[0;31m# a NeXus API convention for links\u001b[0m\u001b[0;34m\u001b[0m\u001b[0m\n\u001b[0;32m---> 45\u001b[0;31m \u001b[0mnxdata\u001b[0m\u001b[0;34m.\u001b[0m\u001b[0m_id\u001b[0m\u001b[0;34m.\u001b[0m\u001b[0mlink\u001b[0m\u001b[0;34m(\u001b[0m\u001b[0msource_addr\u001b[0m\u001b[0;34m,\u001b[0m \u001b[0mtarget_addr\u001b[0m\u001b[0;34m,\u001b[0m \u001b[0mh5py\u001b[0m\u001b[0;34m.\u001b[0m\u001b[0mh5g\u001b[0m\u001b[0;34m.\u001b[0m\u001b[0mLINK_HARD\u001b[0m\u001b[0;34m)\u001b[0m\u001b[0;34m\u001b[0m\u001b[0m\n\u001b[0m\u001b[1;32m     46\u001b[0m \u001b[0;34m\u001b[0m\u001b[0m\n\u001b[1;32m     47\u001b[0m \u001b[0msource_addr\u001b[0m \u001b[0;34m=\u001b[0m \u001b[0;34m'/entry/instrument/detector/counts'\u001b[0m       \u001b[0;31m# existing data\u001b[0m\u001b[0;34m\u001b[0m\u001b[0m\n",
      "\u001b[0;32mh5py/_objects.pyx\u001b[0m in \u001b[0;36mh5py._objects.with_phil.wrapper (/home/ilan/minonda/conda-bld/work/h5py/_objects.c:2696)\u001b[0;34m()\u001b[0m\n",
      "\u001b[0;32mh5py/_objects.pyx\u001b[0m in \u001b[0;36mh5py._objects.with_phil.wrapper (/home/ilan/minonda/conda-bld/work/h5py/_objects.c:2654)\u001b[0;34m()\u001b[0m\n",
      "\u001b[0;32mh5py/h5g.pyx\u001b[0m in \u001b[0;36mh5py.h5g.GroupID.link (/home/ilan/minonda/conda-bld/work/h5py/h5g.c:3807)\u001b[0;34m()\u001b[0m\n",
      "\u001b[0;31mTypeError\u001b[0m: expected bytes, str found"
     ]
    }
   ],
   "source": [
    "# Refer to the above picture\n",
    "#!/usr/bin/env python\n",
    "'''\n",
    "Writes a simple NeXus HDF5 file using h5py with links\n",
    "according to the example from Figure 2.1 in the Design chapter\n",
    "'''\n",
    "\n",
    "import h5py\n",
    "import numpy\n",
    "\n",
    "buffer = numpy.loadtxt('output/input.dat').T\n",
    "tthData = buffer[0]                             # float[]\n",
    "countsData = numpy.asarray(buffer[1],'int32')   # int[]\n",
    "\n",
    "\n",
    "f = h5py.File('output/writer_2_1.hdf5', \"w\")  # create the HDF5 NeXus file\n",
    "f.attrs['default'] = 'entry'\n",
    "\n",
    "nxentry = f.create_group('entry')\n",
    "nxentry.attrs['NX_class'] = 'NXentry'\n",
    "nxentry.attrs['default'] = 'data'\n",
    "\n",
    "nxinstrument = nxentry.create_group('instrument')\n",
    "nxinstrument.attrs['NX_class'] = 'NXinstrument'\n",
    "\n",
    "nxdetector = nxinstrument.create_group('detector')\n",
    "nxdetector.attrs['NX_class'] = 'NXdetector'\n",
    "\n",
    "# store the data in the NXdetector group\n",
    "ds_tth = nxdetector.create_dataset('two_theta', data=tthData)\n",
    "ds_tth.attrs['units'] = 'degrees'\n",
    "ds_counts = nxdetector.create_dataset('counts', data=countsData)\n",
    "ds_counts.attrs['units'] = 'counts'\n",
    "\n",
    "# create the NXdata group to define the default plot\n",
    "nxdata = nxentry.create_group('data')\n",
    "nxdata.attrs['NX_class'] = 'NXdata'\n",
    "nxdata.attrs['signal'] = 'counts'\n",
    "nxdata.attrs['axes'] = 'two_theta'\n",
    "nxdata.attrs['two_theta_indices'] = [0,]\n",
    "\n",
    "source_addr = '/entry/instrument/detector/two_theta'    # existing data\n",
    "target_addr = 'two_theta'                               # new location\n",
    "ds_tth.attrs['target'] = source_addr                    # a NeXus API convention for links\n",
    "nxdata._id.link(source_addr, target_addr, h5py.h5g.LINK_HARD)\n",
    "\n",
    "source_addr = '/entry/instrument/detector/counts'       # existing data\n",
    "target_addr = 'counts'                                  # new location\n",
    "ds_counts.attrs['target'] = source_addr                 # a NeXus API convention for links\n",
    "nxdata._id.link(source_addr, target_addr, h5py.h5g.LINK_HARD)\n",
    "\n",
    "f.close()   # be CERTAIN to close the file"
   ]
  },
  {
   "cell_type": "code",
   "execution_count": 13,
   "metadata": {
    "collapsed": true
   },
   "outputs": [],
   "source": [
    "# external link\n",
    "#!/usr/bin/env python\n",
    "'''\n",
    "Writes a NeXus HDF5 file using h5py with links to data in other HDF5 files.\n",
    "\n",
    "This example is based on ``writer_2_1``.\n",
    "'''\n",
    "\n",
    "import h5py\n",
    "import numpy\n",
    "\n",
    "FILE_HDF5_MASTER = 'output/external_master.hdf5'\n",
    "FILE_HDF5_ANGLES = 'output/external_angles.hdf5'\n",
    "FILE_HDF5_COUNTS = 'output/external_counts.hdf5'\n",
    "\n",
    "#---------------------------\n",
    "\n",
    "# get some data\n",
    "buffer = numpy.loadtxt('output/input.dat').T\n",
    "tthData = buffer[0]                             # float[]\n",
    "countsData = numpy.asarray(buffer[1],'int32')   # int[]\n",
    "\n",
    "# put the angle data in an external (non-NeXus) HDF5 data file\n",
    "f = h5py.File(FILE_HDF5_ANGLES, \"w\")\n",
    "ds = f.create_dataset('angles', data=tthData)\n",
    "ds.attrs['units'] = 'degrees'\n",
    "f.close()    # be CERTAIN to close the file\n",
    "\n",
    "\n",
    "# put the detector counts in an external HDF5 data file \n",
    "# with *incomplete* NeXus structure (no NXdata group)\n",
    "f = h5py.File(FILE_HDF5_COUNTS, \"w\")\n",
    "nxentry = f.create_group('entry')\n",
    "nxentry.attrs['NX_class'] = 'NXentry'\n",
    "nxinstrument = nxentry.create_group('instrument')\n",
    "nxinstrument.attrs['NX_class'] = 'NXinstrument'\n",
    "nxdetector = nxinstrument.create_group('detector')\n",
    "nxdetector.attrs['NX_class'] = 'NXdetector'\n",
    "ds = nxdetector.create_dataset('counts', data=countsData)\n",
    "ds.attrs['units'] = 'counts'\n",
    "# link the \"two_theta\" data stored in separate file\n",
    "local_addr = nxdetector.name+'/two_theta'\n",
    "f[local_addr] = h5py.ExternalLink(FILE_HDF5_ANGLES, '/angles')\n",
    "f.close()\n",
    "\n",
    "# create a master NeXus HDF5 file\n",
    "f = h5py.File(FILE_HDF5_MASTER, \"w\")\n",
    "f.attrs['default'] = 'entry'\n",
    "nxentry = f.create_group('entry')\n",
    "nxentry.attrs['NX_class'] = 'NXentry'\n",
    "nxentry.attrs[\"default\"] = 'data'\n",
    "nxdata = nxentry.create_group('data')\n",
    "nxdata.attrs['NX_class'] = 'NXdata'\n",
    "\n",
    "# link in the signal data\n",
    "local_addr = '/entry/data/counts'\n",
    "external_addr = '/entry/instrument/detector/counts'\n",
    "f[local_addr] = h5py.ExternalLink(FILE_HDF5_COUNTS, external_addr)\n",
    "nxdata.attrs['signal'] = 'counts'\n",
    "\n",
    "# link in the axes data\n",
    "local_addr = '/entry/data/two_theta'\n",
    "f[local_addr] = h5py.ExternalLink(FILE_HDF5_ANGLES, '/angles')\n",
    "nxdata.attrs['axes'] = 'two_theta'\n",
    "nxdata.attrs['two_theta_indices'] = [0,]\n",
    "\n",
    "local_addr = '/entry/instrument'\n",
    "f[local_addr] = h5py.ExternalLink(FILE_HDF5_COUNTS, '/entry/instrument')\n",
    "\n",
    "f.close()"
   ]
  },
  {
   "cell_type": "code",
   "execution_count": null,
   "metadata": {
    "collapsed": true
   },
   "outputs": [],
   "source": []
  }
 ],
 "metadata": {
  "anaconda-cloud": {},
  "kernelspec": {
   "display_name": "Python [default]",
   "language": "python",
   "name": "python3"
  },
  "language_info": {
   "codemirror_mode": {
    "name": "ipython",
    "version": 3
   },
   "file_extension": ".py",
   "mimetype": "text/x-python",
   "name": "python",
   "nbconvert_exporter": "python",
   "pygments_lexer": "ipython3",
   "version": "3.5.2"
  }
 },
 "nbformat": 4,
 "nbformat_minor": 2
}
