{
 "cells": [
  {
   "cell_type": "markdown",
   "metadata": {},
   "source": []
  },
  {
   "cell_type": "code",
   "execution_count": null,
   "metadata": {
    "collapsed": true
   },
   "outputs": [],
   "source": []
  },
  {
   "cell_type": "markdown",
   "metadata": {},
   "source": [
    "# NumPy for Matlab users\n",
    "\n",
    "### Introduction\n",
    "MATLAB® and NumPy/SciPy have a lot in common. But there are many differences. NumPy and SciPy were created to do numerical and scientific computing in the most natural way with Python, not to be MATLAB® clones. This page is intended to be a place to collect wisdom about the differences, mostly for the purpose of helping proficient MATLAB® users become proficient NumPy and SciPy users.\n",
    "\n",
    "### Some Key Differences\n",
    "| MATLAB| NumPy|\n",
    "|---|---|\n",
    "|In MATLAB®, the basic data type is a multidimensional array of double precision floating point numbers. Most expressions take such arrays and return such arrays. Operations on the 2-D instances of these arrays are designed to act more or less like matrix operations in linear algebra.|n NumPy the basic type is a multidimensional array. Operations on these arrays in all dimensionalities including 2D are elementwise operations. However, there is a special matrix type for doing linear algebra, which is just a subclass of the array class. Operations on matrix-class arrays are linear algebra operations.|\n",
    "|MATLAB® uses 1 (one) based indexing. The initial element of a sequence is found using a(1). See note INDEXING|Python uses 0 (zero) based indexing. The initial element of a sequence is found using a[0].|\n",
    "|MATLAB®’s scripting language was created for doing linear algebra. The syntax for basic matrix operations is nice and clean, but the API for adding GUIs and making full-fledged applications is more or less an afterthought.| NumPy is based on Python, which was designed from the outset to be an excellent general-purpose programming language. While Matlab’s syntax for some array manipulations is more compact than NumPy’s, NumPy (by virtue of being an add-on to Python) can do many things that Matlab just cannot, for instance subclassing the main array type to do both array and matrix math cleanly.|\n",
    "|In MATLAB®, arrays have pass-by-value semantics, with a lazy copy-on-write scheme to prevent actually creating copies until they are actually needed. Slice operations copy parts of the array.| In NumPy arrays have pass-by-reference semantics. Slice operations are views into an array.|\n",
    "\n",
    "\n",
    "### ‘array’ or ‘matrix’? Which should I use?\n",
    "\n",
    "#### Short answer\n",
    "\n",
    "#### Use arrays.\n",
    "\n",
    "They are the standard vector/matrix/tensor type of numpy. Many numpy functions return arrays, not matrices.\n",
    "There is a clear distinction between element-wise operations and linear algebra operations.\n",
    "You can have standard vectors or row/column vectors if you like.\n",
    "The only disadvantage of using the array type is that you will have to use dot instead of * to multiply (reduce) two tensors (scalar product, matrix vector multiplication etc.).\n",
    "\n",
    "\n",
    "\n",
    "#### Long answer\n",
    "\n",
    "NumPy contains both an array class and a matrix class. The array class is intended to be a general-purpose n-dimensional array for many kinds of numerical computing, while matrix is intended to facilitate linear algebra computations specifically. In practice there are only a handful of key differences between the two.\n",
    "\n",
    "* Operator *, dot(), and multiply():\n",
    "  * For array, ‘``*``’ means element-wise multiplication, and the dot() function is used for matrix multiplication.\n",
    "  * For matrix, ‘``*``’ means matrix multiplication, and the multiply() function is used for element-wise multiplication.\n",
    "* Handling of vectors (one-dimensional arrays)\n",
    "  * For array, the vector shapes 1xN, Nx1, and N are all different things. Operations like A[:,1] return a one-dimensional array of shape N, not a two-dimensional array of shape Nx1. Transpose on a one-dimensional array does nothing.\n",
    "  * For matrix, one-dimensional arrays are always upconverted to 1xN or Nx1 matrices (row or column vectors). A[:,1] returns a two-dimensional matrix of shape Nx1.\n",
    "* Handling of higher-dimensional arrays (ndim > 2)\n",
    "array objects can have number of dimensions > 2;\n",
    "matrix objects always have exactly two dimensions.\n",
    "Convenience attributes\n",
    "  * array has a .T attribute, which returns the transpose of the data.\n",
    "  * matrix also has .H, .I, and .A attributes, which return the conjugate transpose, inverse, and asarray() of the matrix, respectively.\n",
    "* Convenience constructor\n",
    "  * The array constructor takes (nested) Python sequences as initializers. As in, array([[1,2,3],[4,5,6]]).\n",
    "  * The matrix constructor additionally takes a convenient string initializer. As in matrix(\"[1 2 3; 4 5 6]\").\n",
    "\n",
    "There are pros and cons to using both:\n",
    "\n",
    "* array\n",
    "  * :) You can treat one-dimensional arrays as either row or column vectors. dot(A,v) treats v as a column vector, while dot(v,A) treats v as a row vector. This can save you having to type a lot of transposes.\n",
    "  * <:( Having to use the dot() function for matrix-multiply is messy – dot(dot(A,B),C) vs. A*B*C.\n",
    "  * :) Element-wise multiplication is easy: A*B.\n",
    "  * :) array is the “default” NumPy type, so it gets the most testing, and is the type most likely to be returned by 3rd party code that uses NumPy.\n",
    "  * :) Is quite at home handling data of any number of dimensions.\n",
    "  * :) Closer in semantics to tensor algebra, if you are familiar with that.\n",
    "  * :) All operations (*, /, +, - etc.) are elementwise\n",
    "* matrix\n",
    "  * :\\\\ Behavior is more like that of MATLAB® matrices.\n",
    "  * <:( Maximum of two-dimensional. To hold three-dimensional data you need array or perhaps a Python list of matrix.\n",
    "  * <:( Minimum of two-dimensional. You cannot have vectors. They must be cast as single-column or single-row matrices.\n",
    "  * <:( Since array is the default in NumPy, some functions may return an array even if you give them a matrix as an argument. This shouldn’t happen with NumPy functions (if it does it’s a bug), but 3rd party code based on NumPy may not honor type preservation like NumPy does.\n",
    "  * :) A*B is matrix multiplication, so more convenient for linear algebra.\n",
    "  * <:( Element-wise multiplication requires calling a function, multipy(A,B).\n",
    "  * <:( The use of operator overloading is a bit illogical: * does not work elementwise but / does.\n",
    "\n",
    "The array is thus much more advisable to use.\n",
    "\n",
    "### Facilities for Matrix Users\n",
    "NumPy has some features that facilitate the use of the matrix type, which hopefully make things easier for Matlab converts.\n",
    "\n",
    "* A matlib module has been added that contains matrix versions of common array constructors like ones(), zeros(), empty(), eye(), rand(), repmat(), etc. Normally these functions return arrays, but the matlib versions return matrix objects.\n",
    "* mat has been changed to be a synonym for asmatrix, rather than matrix, thus making it a concise way to convert an array to a matrix without copying the data.\n",
    "* Some top-level functions have been removed. For example numpy.rand() now needs to be accessed as numpy.random.rand(). Or use the rand() from the matlib module. But the “numpythonic” way is to use numpy.random.random(), which takes a tuple for the shape, like other numpy functions.\n",
    "\n",
    "### Table of Rough MATLAB-NumPy Equivalents\n",
    "The table below gives rough equivalents for some common MATLAB® expressions. **These are not exact equivalents**, but rather should be taken as hints to get you going in the right direction. For more detail read the built-in documentation on the NumPy functions.\n",
    "\n",
    "Some care is necessary when writing functions that take arrays or matrices as arguments — if you are expecting an array and are given a matrix, or vice versa, then ‘*’ (multiplication) will give you unexpected results. You can convert back and forth between arrays and matrices using\n",
    "\n",
    "* asarray: always returns an object of type array\n",
    "* asmatrix or mat: always return an object of type matrix\n",
    "* asanyarray: always returns an array object or a subclass derived from it, depending on the input. For instance if you pass in a matrix it returns a matrix.\n",
    "\n",
    "These functions all accept both arrays and matrices (among other things like Python lists), and thus are useful when writing functions that should accept any array-like object."
   ]
  },
  {
   "cell_type": "code",
   "execution_count": 4,
   "metadata": {
    "collapsed": true
   },
   "outputs": [],
   "source": [
    "import numpy as np\n",
    "import scipy.linalg as la"
   ]
  },
  {
   "cell_type": "markdown",
   "metadata": {},
   "source": [
    "###### <span style=\"color:blue\">get the number of dimensions of an array</span>\n",
    "| MATLAB  |  Numpy |\n",
    "|---|---|\n",
    "|ndims(a) |ndim(a) or a.ndim|\n"
   ]
  },
  {
   "cell_type": "code",
   "execution_count": 23,
   "metadata": {
    "collapsed": false
   },
   "outputs": [
    {
     "name": "stdout",
     "output_type": "stream",
     "text": [
      "a= [[1 2 3]\n",
      " [4 5 6]\n",
      " [7 8 9]]\n",
      "-------------------\n",
      "m= [[1 2 3]\n",
      " [4 5 6]]\n",
      "-------------------\n",
      "ndim(a) =  2\n",
      "na.ndim =  2\n",
      "-------------------\n",
      "np.ndim(m) =  2\n",
      "m.ndim =  2\n"
     ]
    }
   ],
   "source": [
    "a = np.array([[1,2,3], [4,5,6], [7,8,9]])\n",
    "m = np.matrix([[1,2,3], [4,5,6]])\n",
    "print('a=', a)\n",
    "print(19*'-')\n",
    "print('m=', m)\n",
    "print(19*'-')\n",
    "print('ndim(a) = ', np.ndim(a))\n",
    "print('a.ndim = ', a.ndim)\n",
    "print(19*'-')\n",
    "print('np.ndim(m) = ', np.ndim(m))\n",
    "print('m.ndim = ', m.ndim)"
   ]
  },
  {
   "cell_type": "markdown",
   "metadata": {},
   "source": [
    "###### <span style=\"color:blue\"> get the number of elements of an array</span>\n",
    "\n",
    "| MATLAB  |  Numpy |\n",
    "|---|---|\n",
    "|numel(a) |size(a) or a.size|\n"
   ]
  },
  {
   "cell_type": "code",
   "execution_count": 24,
   "metadata": {
    "collapsed": false
   },
   "outputs": [
    {
     "name": "stdout",
     "output_type": "stream",
     "text": [
      "a= [[1 2 3]\n",
      " [4 5 6]\n",
      " [7 8 9]]\n",
      "-------------------\n",
      "m= [[1 2 3]\n",
      " [4 5 6]]\n",
      "-------------------\n",
      "size(a) =  9\n",
      "na.size =  9\n",
      "-------------------\n",
      "np.size(m) =  6\n",
      "m.size =  6\n"
     ]
    }
   ],
   "source": [
    "a = np.array([[1,2,3], [4,5,6], [7,8,9]])\n",
    "m = np.matrix([[1,2,3], [4,5,6]])\n",
    "print('a=', a)\n",
    "print(19*'-')\n",
    "print('m=', m)\n",
    "print(19*'-')\n",
    "print('size(a) = ', np.size(a))\n",
    "print('a.size = ', a.size)\n",
    "print(19*'-')\n",
    "print('np.size(m) = ', np.size(m))\n",
    "print('m.size = ', m.size)"
   ]
  },
  {
   "cell_type": "markdown",
   "metadata": {},
   "source": [
    "###### <span style=\"color:blue\">get the “size” of the matrix</span>\n",
    "| MATLAB  |  Numpy |\n",
    "|---|---|\n",
    "|size(a) |shape(a) or a.shape|"
   ]
  },
  {
   "cell_type": "code",
   "execution_count": 25,
   "metadata": {
    "collapsed": false
   },
   "outputs": [
    {
     "name": "stdout",
     "output_type": "stream",
     "text": [
      "a= [[1 2 3]\n",
      " [4 5 6]\n",
      " [7 8 9]]\n",
      "-------------------\n",
      "m= [[1 2 3]\n",
      " [4 5 6]]\n",
      "-------------------\n",
      "shape(a) =  (3, 3)\n",
      "na.shape =  (3, 3)\n",
      "-------------------\n",
      "np.shape(m) =  (2, 3)\n",
      "m.shape =  (2, 3)\n"
     ]
    }
   ],
   "source": [
    "a = np.array([[1,2,3], [4,5,6], [7,8,9]])\n",
    "m = np.matrix([[1,2,3], [4,5,6]])\n",
    "print('a=', a)\n",
    "print(19*'-')\n",
    "print('m=', m)\n",
    "print(19*'-')\n",
    "print('shape(a) = ', np.shape(a))\n",
    "print('a.shape = ', a.shape)\n",
    "print(19*'-')\n",
    "print('np.shape(m) = ', np.shape(m))\n",
    "print('m.shape = ', m.shape)"
   ]
  },
  {
   "cell_type": "markdown",
   "metadata": {},
   "source": [
    "###### <span style=\"color:blue\">get the number of elements of the n-th dimension of array a. (Note that MATLAB® uses 1 based indexing while Python uses 0 based indexing, See note [INDEXING](https://docs.scipy.org/doc/numpy-dev/user/numpy-for-matlab-users.html#numpy-for-matlab-users-notes)</span>\n",
    "| MATLAB  |  Numpy |\n",
    "|---|---|\n",
    "|size(a,n) | a.shape[n-1]|\n"
   ]
  },
  {
   "cell_type": "code",
   "execution_count": 28,
   "metadata": {
    "collapsed": false
   },
   "outputs": [
    {
     "name": "stdout",
     "output_type": "stream",
     "text": [
      "a= [[1 2 3]\n",
      " [4 5 6]\n",
      " [7 8 9]]\n",
      "-------------------\n",
      "m= [[1 2 3]\n",
      " [4 5 6]]\n",
      "-------------------\n",
      "a.shape[2-1] =  3\n",
      "-------------------\n",
      "m.shape[2-1] =  3\n"
     ]
    }
   ],
   "source": [
    "a = np.array([[1,2,3], [4,5,6], [7,8,9]])\n",
    "m = np.matrix([[1,2,3], [4,5,6]])\n",
    "print('a=', a)\n",
    "print(19*'-')\n",
    "print('m=', m)\n",
    "print(19*'-')\n",
    "print('a.shape[2-1] = ', a.shape[2-1])\n",
    "print(19*'-')\n",
    "print('m.shape[2-1] = ', m.shape[2-1])"
   ]
  },
  {
   "cell_type": "markdown",
   "metadata": {},
   "source": [
    "###### <span style=\"color:blue\">2x3 matrix literal</span>\n",
    "| MATLAB  |  Numpy |\n",
    "|---|---|\n",
    "|[ 1 2 3; 4 5 6 ] | array([[1.,2.,3.], [4.,5.,6.]])|"
   ]
  },
  {
   "cell_type": "code",
   "execution_count": 29,
   "metadata": {
    "collapsed": false
   },
   "outputs": [
    {
     "name": "stdout",
     "output_type": "stream",
     "text": [
      "a= [[ 1.  2.  3.]\n",
      " [ 4.  5.  6.]]\n",
      "-------------------\n",
      "m= [[ 1.  2.  3.]\n",
      " [ 4.  5.  6.]]\n"
     ]
    }
   ],
   "source": [
    "a = np.array([[1.,2.,3.], [4.,5.,6.]])\n",
    "m = np.matrix([[1.,2.,3.], [4.,5.,6.]])\n",
    "print('a=', a)\n",
    "print(19*'-')\n",
    "print('m=', m)"
   ]
  },
  {
   "cell_type": "markdown",
   "metadata": {},
   "source": [
    "###### <span style=\"color:blue\">construct a matrix from blocks a, b, c, and d</span>\n",
    "| MATLAB  |  Numpy |\n",
    "|---|---|\n",
    "|[ a b; c d ]\t | vstack([hstack([a,b]), hstack([c,d])]) or bmat('a b; c d').A|"
   ]
  },
  {
   "cell_type": "code",
   "execution_count": null,
   "metadata": {
    "collapsed": true
   },
   "outputs": [],
   "source": [
    "a = np.array([[1.,2.,3.], [4.,5.,6.]])\n",
    "b = np.array([[10.,20.,30.], [40.,50.,60.]])\n",
    "c = np.array([[11.,12.,13.], [14.,15.,16.]])\n",
    "d = np.array([[19.,29.,39.], [49.,59.,69.]])\n",
    "\n",
    "\n",
    "m = np.matrix([[1.,2.,3.], [4.,5.,6.]])\n",
    "n = np.matrix([[10.,20.,30.], [40.,50.,60.]])\n",
    "r = np.matrix([[11.,12.,13.], [14.,15.,16.]])\n",
    "p = np.matrix([[19.,29.,39.], [49.,59.,69.]])"
   ]
  },
  {
   "cell_type": "code",
   "execution_count": 32,
   "metadata": {
    "collapsed": false
   },
   "outputs": [
    {
     "name": "stdout",
     "output_type": "stream",
     "text": [
      "e =  [[  1.   2.   3.  10.  20.  30.]\n",
      " [  4.   5.   6.  40.  50.  60.]\n",
      " [ 11.  12.  13.  19.  29.  39.]\n",
      " [ 14.  15.  16.  49.  59.  69.]]\n",
      "q =  [[  1.   2.   3.  10.  20.  30.]\n",
      " [  4.   5.   6.  40.  50.  60.]\n",
      " [ 11.  12.  13.  19.  29.  39.]\n",
      " [ 14.  15.  16.  49.  59.  69.]]\n"
     ]
    }
   ],
   "source": [
    "e = np.vstack([np.hstack([a,b]), np.hstack([c,d])])\n",
    "q = np.vstack([np.hstack([m,n]), np.hstack([r,p])])\n",
    "\n",
    "print ('e = ', e)\n",
    "print ('q = ', q)"
   ]
  },
  {
   "cell_type": "code",
   "execution_count": 35,
   "metadata": {
    "collapsed": false
   },
   "outputs": [
    {
     "name": "stdout",
     "output_type": "stream",
     "text": [
      "f =  [[  1.   2.   3.  10.  20.  30.]\n",
      " [  4.   5.   6.  40.  50.  60.]\n",
      " [ 11.  12.  13.  19.  29.  39.]\n",
      " [ 14.  15.  16.  49.  59.  69.]]\n",
      "s =  [[  1.   2.   3.  10.  20.  30.]\n",
      " [  4.   5.   6.  40.  50.  60.]\n",
      " [ 11.  12.  13.  19.  29.  39.]\n",
      " [ 14.  15.  16.  49.  59.  69.]]\n"
     ]
    }
   ],
   "source": [
    "f = np.bmat('a b; c d').A\n",
    "s = np.bmat('m n; r p').A\n",
    "\n",
    "print ('f = ', f)\n",
    "print ('s = ', s)"
   ]
  },
  {
   "cell_type": "markdown",
   "metadata": {},
   "source": [
    "###### <span style=\"color:blue\">access last element in the 1xn matrix a</span>\n",
    "| MATLAB  |  Numpy |\n",
    "|---|---|\n",
    "|a(end)\t | a[-1]|"
   ]
  },
  {
   "cell_type": "code",
   "execution_count": 40,
   "metadata": {
    "collapsed": false
   },
   "outputs": [
    {
     "name": "stdout",
     "output_type": "stream",
     "text": [
      "4\n"
     ]
    }
   ],
   "source": [
    "a = np.array([1,2,3,4])\n",
    "print(a[-1])"
   ]
  },
  {
   "cell_type": "markdown",
   "metadata": {},
   "source": [
    "###### <span style=\"color:blue\">access last element in the 1xn matrix a</span>\n",
    "| MATLAB  |  Numpy |\n",
    "|---|---|\n",
    "|a(2,5)\t | a[1,4]|"
   ]
  },
  {
   "cell_type": "code",
   "execution_count": 46,
   "metadata": {
    "collapsed": false
   },
   "outputs": [
    {
     "name": "stdout",
     "output_type": "stream",
     "text": [
      "a= [[  1.   2.   3.   4.   5.]\n",
      " [  6.   7.   8.   9.  10.]\n",
      " [ 11.  12.  13.  14.  15.]]\n",
      "---------------------------------------\n",
      "m= [[  1.   2.   3.   4.   5.]\n",
      " [  6.   7.   8.   9.  10.]\n",
      " [ 11.  12.  13.  14.  15.]]\n",
      "---------------------------------------\n",
      "10.0\n",
      "---------------------------------------\n",
      "10.0\n"
     ]
    }
   ],
   "source": [
    "a = np.array([[1.,2.,3.,4.,5.], [6.,7.,8.,9.,10.],[11.,12.,13.,14.,15.]])\n",
    "m = np.matrix([[1.,2.,3.,4.,5.], [6.,7.,8.,9.,10.],[11.,12.,13.,14.,15.]])\n",
    "\n",
    "print('a=', a)\n",
    "print(39*'-')\n",
    "print('m=', m)\n",
    "print(39*'-')\n",
    "print(a[1,4])\n",
    "print(39*'-')\n",
    "print(m[1,4])"
   ]
  },
  {
   "cell_type": "markdown",
   "metadata": {},
   "source": [
    "###### <span style=\"color:blue\">entire second row of a</span>\n",
    "| MATLAB  |  Numpy |\n",
    "|---|---|\n",
    "|a(2,:)| a[1] or a[1,:]|"
   ]
  },
  {
   "cell_type": "code",
   "execution_count": 50,
   "metadata": {
    "collapsed": false
   },
   "outputs": [
    {
     "name": "stdout",
     "output_type": "stream",
     "text": [
      "a= [[  1.   2.   3.   4.   5.]\n",
      " [  6.   7.   8.   9.  10.]\n",
      " [ 11.  12.  13.  14.  15.]]\n",
      "---------------------------------------\n",
      "m= [[  1.   2.   3.   4.   5.]\n",
      " [  6.   7.   8.   9.  10.]\n",
      " [ 11.  12.  13.  14.  15.]]\n",
      "---------------------------------------\n",
      "2nd row of a: a[1] =  [  6.   7.   8.   9.  10.]\n",
      "2nd row of a: a[1:] =  [  6.   7.   8.   9.  10.]\n",
      "---------------------------------------\n",
      "2nd row of m: m[1] =  [[  6.   7.   8.   9.  10.]]\n",
      "2nd row of m: m[1:] [[  6.   7.   8.   9.  10.]]\n"
     ]
    }
   ],
   "source": [
    "a = np.array([[1.,2.,3.,4.,5.], [6.,7.,8.,9.,10.],[11.,12.,13.,14.,15.]])\n",
    "m = np.matrix([[1.,2.,3.,4.,5.], [6.,7.,8.,9.,10.],[11.,12.,13.,14.,15.]])\n",
    "\n",
    "print('a=', a)\n",
    "print(39*'-')\n",
    "print('m=', m)\n",
    "print(39*'-')\n",
    "print('2nd row of a: a[1] = ', a[1])\n",
    "print('2nd row of a: a[1:] = ', a[1,:])\n",
    "print(39*'-')\n",
    "print('2nd row of m: m[1] = ', m[1])  \n",
    "print('2nd row of m: m[1:]', m[1,:])"
   ]
  },
  {
   "cell_type": "code",
   "execution_count": null,
   "metadata": {
    "collapsed": true
   },
   "outputs": [],
   "source": []
  }
 ],
 "metadata": {
  "kernelspec": {
   "display_name": "Python [default]",
   "language": "python",
   "name": "python3"
  },
  "language_info": {
   "codemirror_mode": {
    "name": "ipython",
    "version": 3
   },
   "file_extension": ".py",
   "mimetype": "text/x-python",
   "name": "python",
   "nbconvert_exporter": "python",
   "pygments_lexer": "ipython3",
   "version": "3.5.2"
  }
 },
 "nbformat": 4,
 "nbformat_minor": 2
}
