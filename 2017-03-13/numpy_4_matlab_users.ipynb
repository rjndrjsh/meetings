{
 "cells": [
  {
   "cell_type": "markdown",
   "metadata": {},
   "source": []
  },
  {
   "cell_type": "code",
   "execution_count": null,
   "metadata": {
    "collapsed": true
   },
   "outputs": [],
   "source": []
  },
  {
   "cell_type": "markdown",
   "metadata": {},
   "source": [
    "# NumPy for Matlab users\n",
    "\n",
    "### Introduction\n",
    "MATLAB® and NumPy/SciPy have a lot in common. But there are many differences. NumPy and SciPy were created to do numerical and scientific computing in the most natural way with Python, not to be MATLAB® clones. This page is intended to be a place to collect wisdom about the differences, mostly for the purpose of helping proficient MATLAB® users become proficient NumPy and SciPy users.\n",
    "\n",
    "### Some Key Differences\n",
    "| MATLAB| NumPy|\n",
    "|---|---|\n",
    "|In MATLAB®, the basic data type is a multidimensional array of double precision floating point numbers. Most expressions take such arrays and return such arrays. Operations on the 2-D instances of these arrays are designed to act more or less like matrix operations in linear algebra.|n NumPy the basic type is a multidimensional array. Operations on these arrays in all dimensionalities including 2D are elementwise operations. However, there is a special matrix type for doing linear algebra, which is just a subclass of the array class. Operations on matrix-class arrays are linear algebra operations.|\n",
    "|MATLAB® uses 1 (one) based indexing. The initial element of a sequence is found using a(1). See note [INDEXING](https://docs.scipy.org/doc/numpy-dev/user/numpy-for-matlab-users.html#numpy-for-matlab-users-notes)|Python uses 0 (zero) based indexing. The initial element of a sequence is found using a[0].|\n",
    "|MATLAB®’s scripting language was created for doing linear algebra. The syntax for basic matrix operations is nice and clean, but the API for adding GUIs and making full-fledged applications is more or less an afterthought.| NumPy is based on Python, which was designed from the outset to be an excellent general-purpose programming language. While Matlab’s syntax for some array manipulations is more compact than NumPy’s, NumPy (by virtue of being an add-on to Python) can do many things that Matlab just cannot, for instance subclassing the main array type to do both array and matrix math cleanly.|\n",
    "|In MATLAB®, arrays have pass-by-value semantics, with a lazy copy-on-write scheme to prevent actually creating copies until they are actually needed. Slice operations copy parts of the array.| In NumPy arrays have pass-by-reference semantics. Slice operations are views into an array.|\n",
    "\n",
    "\n",
    "### ‘array’ or ‘matrix’? Which should I use?\n",
    "\n",
    "#### Short answer\n",
    "\n",
    "#### Use arrays.\n",
    "\n",
    "They are the standard vector/matrix/tensor type of numpy. Many numpy functions return arrays, not matrices.\n",
    "There is a clear distinction between element-wise operations and linear algebra operations.\n",
    "You can have standard vectors or row/column vectors if you like.\n",
    "The only disadvantage of using the array type is that you will have to use dot instead of * to multiply (reduce) two tensors (scalar product, matrix vector multiplication etc.).\n",
    "\n",
    "\n",
    "\n",
    "#### Long answer\n",
    "\n",
    "NumPy contains both an array class and a matrix class. The array class is intended to be a general-purpose n-dimensional array for many kinds of numerical computing, while matrix is intended to facilitate linear algebra computations specifically. In practice there are only a handful of key differences between the two.\n",
    "\n",
    "* Operator *, dot(), and multiply():\n",
    "  * For array, ‘``*``’ means element-wise multiplication, and the dot() function is used for matrix multiplication.\n",
    "  * For matrix, ‘``*``’ means matrix multiplication, and the multiply() function is used for element-wise multiplication.\n",
    "* Handling of vectors (one-dimensional arrays)\n",
    "  * For array, the vector shapes 1xN, Nx1, and N are all different things. Operations like A[:,1] return a one-dimensional array of shape N, not a two-dimensional array of shape Nx1. Transpose on a one-dimensional array does nothing.\n",
    "  * For matrix, one-dimensional arrays are always upconverted to 1xN or Nx1 matrices (row or column vectors). A[:,1] returns a two-dimensional matrix of shape Nx1.\n",
    "* Handling of higher-dimensional arrays (ndim > 2)\n",
    "array objects can have number of dimensions > 2;\n",
    "matrix objects always have exactly two dimensions.\n",
    "Convenience attributes\n",
    "  * array has a .T attribute, which returns the transpose of the data.\n",
    "  * matrix also has .H, .I, and .A attributes, which return the conjugate transpose, inverse, and asarray() of the matrix, respectively.\n",
    "* Convenience constructor\n",
    "  * The array constructor takes (nested) Python sequences as initializers. As in, array([[1,2,3],[4,5,6]]).\n",
    "  * The matrix constructor additionally takes a convenient string initializer. As in matrix(\"[1 2 3; 4 5 6]\").\n",
    "\n",
    "There are pros and cons to using both:\n",
    "\n",
    "* array\n",
    "  * :) You can treat one-dimensional arrays as either row or column vectors. dot(A,v) treats v as a column vector, while dot(v,A) treats v as a row vector. This can save you having to type a lot of transposes.\n",
    "  * <:( Having to use the dot() function for matrix-multiply is messy – dot(dot(A,B),C) vs. A*B*C.\n",
    "  * :) Element-wise multiplication is easy: A*B.\n",
    "  * :) array is the “default” NumPy type, so it gets the most testing, and is the type most likely to be returned by 3rd party code that uses NumPy.\n",
    "  * :) Is quite at home handling data of any number of dimensions.\n",
    "  * :) Closer in semantics to tensor algebra, if you are familiar with that.\n",
    "  * :) All operations (*, /, +, - etc.) are elementwise\n",
    "* matrix\n",
    "  * :\\\\ Behavior is more like that of MATLAB® matrices.\n",
    "  * <:( Maximum of two-dimensional. To hold three-dimensional data you need array or perhaps a Python list of matrix.\n",
    "  * <:( Minimum of two-dimensional. You cannot have vectors. They must be cast as single-column or single-row matrices.\n",
    "  * <:( Since array is the default in NumPy, some functions may return an array even if you give them a matrix as an argument. This shouldn’t happen with NumPy functions (if it does it’s a bug), but 3rd party code based on NumPy may not honor type preservation like NumPy does.\n",
    "  * :) A*B is matrix multiplication, so more convenient for linear algebra.\n",
    "  * <:( Element-wise multiplication requires calling a function, multipy(A,B).\n",
    "  * <:( The use of operator overloading is a bit illogical: * does not work elementwise but / does.\n",
    "\n",
    "The array is thus much more advisable to use.\n",
    "\n",
    "### Facilities for Matrix Users\n",
    "NumPy has some features that facilitate the use of the matrix type, which hopefully make things easier for Matlab converts.\n",
    "\n",
    "* A matlib module has been added that contains matrix versions of common array constructors like ones(), zeros(), empty(), eye(), rand(), repmat(), etc. Normally these functions return arrays, but the matlib versions return matrix objects.\n",
    "* mat has been changed to be a synonym for asmatrix, rather than matrix, thus making it a concise way to convert an array to a matrix without copying the data.\n",
    "* Some top-level functions have been removed. For example numpy.rand() now needs to be accessed as numpy.random.rand(). Or use the rand() from the matlib module. But the “numpythonic” way is to use numpy.random.random(), which takes a tuple for the shape, like other numpy functions.\n",
    "\n",
    "### Table of Rough MATLAB-NumPy Equivalents\n",
    "The table below gives rough equivalents for some common MATLAB® expressions. **These are not exact equivalents**, but rather should be taken as hints to get you going in the right direction. For more detail read the built-in documentation on the NumPy functions.\n",
    "\n",
    "Some care is necessary when writing functions that take arrays or matrices as arguments — if you are expecting an array and are given a matrix, or vice versa, then ‘*’ (multiplication) will give you unexpected results. You can convert back and forth between arrays and matrices using\n",
    "\n",
    "* asarray: always returns an object of type array\n",
    "* asmatrix or mat: always return an object of type matrix\n",
    "* asanyarray: always returns an array object or a subclass derived from it, depending on the input. For instance if you pass in a matrix it returns a matrix.\n",
    "\n",
    "These functions all accept both arrays and matrices (among other things like Python lists), and thus are useful when writing functions that should accept any array-like object."
   ]
  },
  {
   "cell_type": "code",
   "execution_count": 1,
   "metadata": {
    "collapsed": true
   },
   "outputs": [],
   "source": [
    "import numpy as np\n",
    "import scipy.linalg as la"
   ]
  },
  {
   "cell_type": "markdown",
   "metadata": {},
   "source": [
    "###### <span style=\"color:blue\">get the number of dimensions of an array</span>\n",
    "| MATLAB  |  Numpy |\n",
    "|---|---|\n",
    "|ndims(a) |ndim(a) or a.ndim|\n"
   ]
  },
  {
   "cell_type": "code",
   "execution_count": 2,
   "metadata": {
    "collapsed": false
   },
   "outputs": [
    {
     "name": "stdout",
     "output_type": "stream",
     "text": [
      "a= [[1 2 3]\n",
      " [4 5 6]\n",
      " [7 8 9]]\n",
      "-------------------\n",
      "m= [[1 2 3]\n",
      " [4 5 6]]\n",
      "-------------------\n",
      "ndim(a) =  2\n",
      "a.ndim =  2\n",
      "-------------------\n",
      "np.ndim(m) =  2\n",
      "m.ndim =  2\n"
     ]
    }
   ],
   "source": [
    "a = np.array([[1,2,3], [4,5,6], [7,8,9]])\n",
    "m = np.matrix([[1,2,3], [4,5,6]])\n",
    "print('a=', a)\n",
    "print(19*'-')\n",
    "print('m=', m)\n",
    "print(19*'-')\n",
    "print('ndim(a) = ', np.ndim(a))\n",
    "print('a.ndim = ', a.ndim)\n",
    "print(19*'-')\n",
    "print('np.ndim(m) = ', np.ndim(m))\n",
    "print('m.ndim = ', m.ndim)"
   ]
  },
  {
   "cell_type": "markdown",
   "metadata": {},
   "source": [
    "###### <span style=\"color:blue\"> get the number of elements of an array</span>\n",
    "\n",
    "| MATLAB  |  Numpy |\n",
    "|---|---|\n",
    "|numel(a) |size(a) or a.size|\n"
   ]
  },
  {
   "cell_type": "code",
   "execution_count": 3,
   "metadata": {
    "collapsed": false
   },
   "outputs": [
    {
     "name": "stdout",
     "output_type": "stream",
     "text": [
      "a= [[1 2 3]\n",
      " [4 5 6]\n",
      " [7 8 9]]\n",
      "-------------------\n",
      "m= [[1 2 3]\n",
      " [4 5 6]]\n",
      "-------------------\n",
      "size(a) =  9\n",
      "a.size =  9\n",
      "-------------------\n",
      "np.size(m) =  6\n",
      "m.size =  6\n"
     ]
    }
   ],
   "source": [
    "a = np.array([[1,2,3], [4,5,6], [7,8,9]])\n",
    "m = np.matrix([[1,2,3], [4,5,6]])\n",
    "print('a=', a)\n",
    "print(19*'-')\n",
    "print('m=', m)\n",
    "print(19*'-')\n",
    "print('size(a) = ', np.size(a))\n",
    "print('a.size = ', a.size)\n",
    "print(19*'-')\n",
    "print('np.size(m) = ', np.size(m))\n",
    "print('m.size = ', m.size)"
   ]
  },
  {
   "cell_type": "markdown",
   "metadata": {},
   "source": [
    "###### <span style=\"color:blue\">get the “size” of the matrix</span>\n",
    "| MATLAB  |  Numpy |\n",
    "|---|---|\n",
    "|size(a) |shape(a) or a.shape|"
   ]
  },
  {
   "cell_type": "code",
   "execution_count": 4,
   "metadata": {
    "collapsed": false
   },
   "outputs": [
    {
     "name": "stdout",
     "output_type": "stream",
     "text": [
      "a= [[1 2 3]\n",
      " [4 5 6]\n",
      " [7 8 9]]\n",
      "-------------------\n",
      "m= [[1 2 3]\n",
      " [4 5 6]]\n",
      "-------------------\n",
      "shape(a) =  (3, 3)\n",
      "a.shape =  (3, 3)\n",
      "-------------------\n",
      "np.shape(m) =  (2, 3)\n",
      "m.shape =  (2, 3)\n"
     ]
    }
   ],
   "source": [
    "a = np.array([[1,2,3], [4,5,6], [7,8,9]])\n",
    "m = np.matrix([[1,2,3], [4,5,6]])\n",
    "print('a=', a)\n",
    "print(19*'-')\n",
    "print('m=', m)\n",
    "print(19*'-')\n",
    "print('shape(a) = ', np.shape(a))\n",
    "print('a.shape = ', a.shape)\n",
    "print(19*'-')\n",
    "print('np.shape(m) = ', np.shape(m))\n",
    "print('m.shape = ', m.shape)"
   ]
  },
  {
   "cell_type": "markdown",
   "metadata": {},
   "source": [
    "###### <span style=\"color:blue\">get the number of elements of the n-th dimension of array a. (Note that MATLAB® uses 1 based indexing while Python uses 0 based indexing, See note [INDEXING](https://docs.scipy.org/doc/numpy-dev/user/numpy-for-matlab-users.html#numpy-for-matlab-users-notes)</span>\n",
    "| MATLAB  |  Numpy |\n",
    "|---|---|\n",
    "|size(a,n) | a.shape[n-1]|\n"
   ]
  },
  {
   "cell_type": "code",
   "execution_count": 5,
   "metadata": {
    "collapsed": false
   },
   "outputs": [
    {
     "name": "stdout",
     "output_type": "stream",
     "text": [
      "a= [[1 2 3]\n",
      " [4 5 6]\n",
      " [7 8 9]]\n",
      "-------------------\n",
      "m= [[1 2 3]\n",
      " [4 5 6]]\n",
      "-------------------\n",
      "a.shape[2-1] =  3\n",
      "-------------------\n",
      "m.shape[2-1] =  3\n"
     ]
    }
   ],
   "source": [
    "a = np.array([[1,2,3], [4,5,6], [7,8,9]])\n",
    "m = np.matrix([[1,2,3], [4,5,6]])\n",
    "print('a=', a)\n",
    "print(19*'-')\n",
    "print('m=', m)\n",
    "print(19*'-')\n",
    "print('a.shape[2-1] = ', a.shape[2-1])\n",
    "print(19*'-')\n",
    "print('m.shape[2-1] = ', m.shape[2-1])"
   ]
  },
  {
   "cell_type": "markdown",
   "metadata": {},
   "source": [
    "###### <span style=\"color:blue\">2x3 matrix literal</span>\n",
    "| MATLAB  |  Numpy |\n",
    "|---|---|\n",
    "|[ 1 2 3; 4 5 6 ] | array([[1.,2.,3.], [4.,5.,6.]])|"
   ]
  },
  {
   "cell_type": "code",
   "execution_count": 6,
   "metadata": {
    "collapsed": false
   },
   "outputs": [
    {
     "name": "stdout",
     "output_type": "stream",
     "text": [
      "a= [[ 1.  2.  3.]\n",
      " [ 4.  5.  6.]]\n",
      "-------------------\n",
      "m= [[ 1.  2.  3.]\n",
      " [ 4.  5.  6.]]\n"
     ]
    }
   ],
   "source": [
    "a = np.array([[1.,2.,3.], [4.,5.,6.]])\n",
    "m = np.matrix([[1.,2.,3.], [4.,5.,6.]])\n",
    "print('a=', a)\n",
    "print(19*'-')\n",
    "print('m=', m)"
   ]
  },
  {
   "cell_type": "markdown",
   "metadata": {},
   "source": [
    "###### <span style=\"color:blue\">construct a matrix from blocks a, b, c, and d</span>\n",
    "| MATLAB  |  Numpy |\n",
    "|---|---|\n",
    "|[ a b; c d ]\t | vstack([hstack([a,b]), hstack([c,d])]) or bmat('a b; c d').A|"
   ]
  },
  {
   "cell_type": "code",
   "execution_count": 7,
   "metadata": {
    "collapsed": true
   },
   "outputs": [],
   "source": [
    "a = np.array([[1.,2.,3.], [4.,5.,6.]])\n",
    "b = np.array([[10.,20.,30.], [40.,50.,60.]])\n",
    "c = np.array([[11.,12.,13.], [14.,15.,16.]])\n",
    "d = np.array([[19.,29.,39.], [49.,59.,69.]])\n",
    "\n",
    "\n",
    "m = np.matrix([[1.,2.,3.], [4.,5.,6.]])\n",
    "n = np.matrix([[10.,20.,30.], [40.,50.,60.]])\n",
    "r = np.matrix([[11.,12.,13.], [14.,15.,16.]])\n",
    "p = np.matrix([[19.,29.,39.], [49.,59.,69.]])"
   ]
  },
  {
   "cell_type": "code",
   "execution_count": 8,
   "metadata": {
    "collapsed": false
   },
   "outputs": [
    {
     "name": "stdout",
     "output_type": "stream",
     "text": [
      "e =  [[  1.   2.   3.  10.  20.  30.]\n",
      " [  4.   5.   6.  40.  50.  60.]\n",
      " [ 11.  12.  13.  19.  29.  39.]\n",
      " [ 14.  15.  16.  49.  59.  69.]]\n",
      "q =  [[  1.   2.   3.  10.  20.  30.]\n",
      " [  4.   5.   6.  40.  50.  60.]\n",
      " [ 11.  12.  13.  19.  29.  39.]\n",
      " [ 14.  15.  16.  49.  59.  69.]]\n"
     ]
    }
   ],
   "source": [
    "e = np.vstack([np.hstack([a,b]), np.hstack([c,d])])\n",
    "q = np.vstack([np.hstack([m,n]), np.hstack([r,p])])\n",
    "\n",
    "print ('e = ', e)\n",
    "print ('q = ', q)"
   ]
  },
  {
   "cell_type": "code",
   "execution_count": 9,
   "metadata": {
    "collapsed": false
   },
   "outputs": [
    {
     "name": "stdout",
     "output_type": "stream",
     "text": [
      "f =  [[  1.   2.   3.  10.  20.  30.]\n",
      " [  4.   5.   6.  40.  50.  60.]\n",
      " [ 11.  12.  13.  19.  29.  39.]\n",
      " [ 14.  15.  16.  49.  59.  69.]]\n",
      "s =  [[  1.   2.   3.  10.  20.  30.]\n",
      " [  4.   5.   6.  40.  50.  60.]\n",
      " [ 11.  12.  13.  19.  29.  39.]\n",
      " [ 14.  15.  16.  49.  59.  69.]]\n"
     ]
    }
   ],
   "source": [
    "f = np.bmat('a b; c d').A\n",
    "s = np.bmat('m n; r p').A\n",
    "\n",
    "print ('f = ', f)\n",
    "print ('s = ', s)"
   ]
  },
  {
   "cell_type": "markdown",
   "metadata": {},
   "source": [
    "###### <span style=\"color:blue\">access last element in the 1xn matrix a</span>\n",
    "| MATLAB  |  Numpy |\n",
    "|---|---|\n",
    "|a(end)\t | a[-1]|"
   ]
  },
  {
   "cell_type": "code",
   "execution_count": 10,
   "metadata": {
    "collapsed": false
   },
   "outputs": [
    {
     "name": "stdout",
     "output_type": "stream",
     "text": [
      "4\n"
     ]
    }
   ],
   "source": [
    "a = np.array([1,2,3,4])\n",
    "print(a[-1])"
   ]
  },
  {
   "cell_type": "markdown",
   "metadata": {},
   "source": [
    "###### <span style=\"color:blue\">access last element in the 1xn matrix a</span>\n",
    "| MATLAB  |  Numpy |\n",
    "|---|---|\n",
    "|a(2,5)\t | a[1,4]|"
   ]
  },
  {
   "cell_type": "code",
   "execution_count": 11,
   "metadata": {
    "collapsed": false
   },
   "outputs": [
    {
     "name": "stdout",
     "output_type": "stream",
     "text": [
      "a= [[  1.   2.   3.   4.   5.]\n",
      " [  6.   7.   8.   9.  10.]\n",
      " [ 11.  12.  13.  14.  15.]]\n",
      "---------------------------------------\n",
      "m= [[  1.   2.   3.   4.   5.]\n",
      " [  6.   7.   8.   9.  10.]\n",
      " [ 11.  12.  13.  14.  15.]]\n",
      "---------------------------------------\n",
      "10.0\n",
      "---------------------------------------\n",
      "10.0\n"
     ]
    }
   ],
   "source": [
    "a = np.array([[1.,2.,3.,4.,5.], [6.,7.,8.,9.,10.],[11.,12.,13.,14.,15.]])\n",
    "m = np.matrix([[1.,2.,3.,4.,5.], [6.,7.,8.,9.,10.],[11.,12.,13.,14.,15.]])\n",
    "\n",
    "print('a=', a)\n",
    "print(39*'-')\n",
    "print('m=', m)\n",
    "print(39*'-')\n",
    "print(a[1,4])\n",
    "print(39*'-')\n",
    "print(m[1,4])"
   ]
  },
  {
   "cell_type": "markdown",
   "metadata": {},
   "source": [
    "###### <span style=\"color:blue\">entire second row of a</span>\n",
    "| MATLAB  |  Numpy |\n",
    "|---|---|\n",
    "|a(2,:)| a[1] or a[1,:]|"
   ]
  },
  {
   "cell_type": "code",
   "execution_count": 12,
   "metadata": {
    "collapsed": false
   },
   "outputs": [
    {
     "name": "stdout",
     "output_type": "stream",
     "text": [
      "a= [[  1.   2.   3.   4.   5.]\n",
      " [  6.   7.   8.   9.  10.]\n",
      " [ 11.  12.  13.  14.  15.]]\n",
      "---------------------------------------\n",
      "m= [[  1.   2.   3.   4.   5.]\n",
      " [  6.   7.   8.   9.  10.]\n",
      " [ 11.  12.  13.  14.  15.]]\n",
      "---------------------------------------\n",
      "2nd row of a: a[1] =  [  6.   7.   8.   9.  10.]\n",
      "2nd row of a: a[1:] =  [  6.   7.   8.   9.  10.]\n",
      "---------------------------------------\n",
      "2nd row of m: m[1] =  [[  6.   7.   8.   9.  10.]]\n",
      "2nd row of m: m[1:] [[  6.   7.   8.   9.  10.]]\n"
     ]
    }
   ],
   "source": [
    "a = np.array([[1.,2.,3.,4.,5.], [6.,7.,8.,9.,10.],[11.,12.,13.,14.,15.]])\n",
    "m = np.matrix([[1.,2.,3.,4.,5.], [6.,7.,8.,9.,10.],[11.,12.,13.,14.,15.]])\n",
    "\n",
    "print('a=', a)\n",
    "print(39*'-')\n",
    "print('m=', m)\n",
    "print(39*'-')\n",
    "print('2nd row of a: a[1] = ', a[1])\n",
    "print('2nd row of a: a[1:] = ', a[1,:])\n",
    "print(39*'-')\n",
    "print('2nd row of m: m[1] = ', m[1])  \n",
    "print('2nd row of m: m[1:]', m[1,:])"
   ]
  },
  {
   "cell_type": "markdown",
   "metadata": {
    "collapsed": true
   },
   "source": [
    "###### <span style=\"color:blue\">the first five rows of a</span>\n",
    "| MATLAB  |  Numpy |\n",
    "|---|---|\n",
    "|a(1:5,:)| a[0:5] or a[:5] or a[0:5,:]|"
   ]
  },
  {
   "cell_type": "code",
   "execution_count": 29,
   "metadata": {
    "collapsed": false
   },
   "outputs": [
    {
     "name": "stdout",
     "output_type": "stream",
     "text": [
      "[[ 0.90168486  0.14441001  0.48392975  0.29779663  0.75222576]\n",
      " [ 0.27371836  0.83489724  0.61806446  0.09229072  0.45914082]\n",
      " [ 0.79728052  0.31535318  0.65536878  0.34827956  0.08814647]\n",
      " [ 0.84352843  0.34844242  0.13166015  0.0336106   0.49196678]\n",
      " [ 0.66322826  0.99185531  0.79669518  0.93938576  0.74426238]\n",
      " [ 0.18148052  0.78393026  0.13856042  0.15049394  0.20812258]\n",
      " [ 0.37543898  0.45854521  0.80779713  0.13492152  0.59396338]\n",
      " [ 0.72605971  0.73162901  0.624593    0.65987329  0.3144167 ]]\n"
     ]
    }
   ],
   "source": [
    "a=np.random.rand(8,5)\n",
    "print(a)"
   ]
  },
  {
   "cell_type": "code",
   "execution_count": 14,
   "metadata": {
    "collapsed": false
   },
   "outputs": [
    {
     "data": {
      "text/plain": [
       "array([[ 0.42889877,  0.33620741,  0.47738437,  0.59888239,  0.57585896],\n",
       "       [ 0.05522298,  0.09217045,  0.39757494,  0.97341008,  0.55355556],\n",
       "       [ 0.88976809,  0.04376168,  0.47362511,  0.7846153 ,  0.57489216],\n",
       "       [ 0.55314855,  0.86649296,  0.03492   ,  0.70319555,  0.50767356],\n",
       "       [ 0.57340474,  0.84232345,  0.58390913,  0.38526577,  0.89967711]])"
      ]
     },
     "execution_count": 14,
     "metadata": {},
     "output_type": "execute_result"
    }
   ],
   "source": [
    "a[0:5]"
   ]
  },
  {
   "cell_type": "code",
   "execution_count": 15,
   "metadata": {
    "collapsed": false
   },
   "outputs": [
    {
     "data": {
      "text/plain": [
       "array([[ 0.42889877,  0.33620741,  0.47738437,  0.59888239,  0.57585896],\n",
       "       [ 0.05522298,  0.09217045,  0.39757494,  0.97341008,  0.55355556],\n",
       "       [ 0.88976809,  0.04376168,  0.47362511,  0.7846153 ,  0.57489216],\n",
       "       [ 0.55314855,  0.86649296,  0.03492   ,  0.70319555,  0.50767356],\n",
       "       [ 0.57340474,  0.84232345,  0.58390913,  0.38526577,  0.89967711]])"
      ]
     },
     "execution_count": 15,
     "metadata": {},
     "output_type": "execute_result"
    }
   ],
   "source": [
    "a[:5]"
   ]
  },
  {
   "cell_type": "code",
   "execution_count": 16,
   "metadata": {
    "collapsed": false
   },
   "outputs": [
    {
     "data": {
      "text/plain": [
       "array([[ 0.42889877,  0.33620741,  0.47738437,  0.59888239,  0.57585896],\n",
       "       [ 0.05522298,  0.09217045,  0.39757494,  0.97341008,  0.55355556],\n",
       "       [ 0.88976809,  0.04376168,  0.47362511,  0.7846153 ,  0.57489216],\n",
       "       [ 0.55314855,  0.86649296,  0.03492   ,  0.70319555,  0.50767356],\n",
       "       [ 0.57340474,  0.84232345,  0.58390913,  0.38526577,  0.89967711]])"
      ]
     },
     "execution_count": 16,
     "metadata": {},
     "output_type": "execute_result"
    }
   ],
   "source": [
    "a[0:5,:]"
   ]
  },
  {
   "cell_type": "code",
   "execution_count": 17,
   "metadata": {
    "collapsed": true
   },
   "outputs": [],
   "source": [
    "m = np.mat(a) #or np.asmatrix(a)"
   ]
  },
  {
   "cell_type": "code",
   "execution_count": 18,
   "metadata": {
    "collapsed": false
   },
   "outputs": [
    {
     "data": {
      "text/plain": [
       "matrix([[ 0.42889877,  0.33620741,  0.47738437,  0.59888239,  0.57585896],\n",
       "        [ 0.05522298,  0.09217045,  0.39757494,  0.97341008,  0.55355556],\n",
       "        [ 0.88976809,  0.04376168,  0.47362511,  0.7846153 ,  0.57489216],\n",
       "        [ 0.55314855,  0.86649296,  0.03492   ,  0.70319555,  0.50767356],\n",
       "        [ 0.57340474,  0.84232345,  0.58390913,  0.38526577,  0.89967711],\n",
       "        [ 0.00653804,  0.68068708,  0.19925952,  0.35977614,  0.9561028 ],\n",
       "        [ 0.09963968,  0.78858858,  0.49462647,  0.88929536,  0.91274072],\n",
       "        [ 0.59365336,  0.38232815,  0.93805704,  0.27750732,  0.44905923]])"
      ]
     },
     "execution_count": 18,
     "metadata": {},
     "output_type": "execute_result"
    }
   ],
   "source": [
    "m"
   ]
  },
  {
   "cell_type": "code",
   "execution_count": 19,
   "metadata": {
    "collapsed": false
   },
   "outputs": [
    {
     "data": {
      "text/plain": [
       "matrix([[ 0.42889877,  0.33620741,  0.47738437,  0.59888239,  0.57585896],\n",
       "        [ 0.05522298,  0.09217045,  0.39757494,  0.97341008,  0.55355556],\n",
       "        [ 0.88976809,  0.04376168,  0.47362511,  0.7846153 ,  0.57489216],\n",
       "        [ 0.55314855,  0.86649296,  0.03492   ,  0.70319555,  0.50767356],\n",
       "        [ 0.57340474,  0.84232345,  0.58390913,  0.38526577,  0.89967711]])"
      ]
     },
     "execution_count": 19,
     "metadata": {},
     "output_type": "execute_result"
    }
   ],
   "source": [
    "m[0:5]"
   ]
  },
  {
   "cell_type": "code",
   "execution_count": 20,
   "metadata": {
    "collapsed": false
   },
   "outputs": [
    {
     "data": {
      "text/plain": [
       "matrix([[ 0.42889877,  0.33620741,  0.47738437,  0.59888239,  0.57585896],\n",
       "        [ 0.05522298,  0.09217045,  0.39757494,  0.97341008,  0.55355556],\n",
       "        [ 0.88976809,  0.04376168,  0.47362511,  0.7846153 ,  0.57489216],\n",
       "        [ 0.55314855,  0.86649296,  0.03492   ,  0.70319555,  0.50767356],\n",
       "        [ 0.57340474,  0.84232345,  0.58390913,  0.38526577,  0.89967711]])"
      ]
     },
     "execution_count": 20,
     "metadata": {},
     "output_type": "execute_result"
    }
   ],
   "source": [
    "m[:5]"
   ]
  },
  {
   "cell_type": "code",
   "execution_count": 21,
   "metadata": {
    "collapsed": false
   },
   "outputs": [
    {
     "data": {
      "text/plain": [
       "matrix([[ 0.42889877,  0.33620741,  0.47738437,  0.59888239,  0.57585896],\n",
       "        [ 0.05522298,  0.09217045,  0.39757494,  0.97341008,  0.55355556],\n",
       "        [ 0.88976809,  0.04376168,  0.47362511,  0.7846153 ,  0.57489216],\n",
       "        [ 0.55314855,  0.86649296,  0.03492   ,  0.70319555,  0.50767356],\n",
       "        [ 0.57340474,  0.84232345,  0.58390913,  0.38526577,  0.89967711]])"
      ]
     },
     "execution_count": 21,
     "metadata": {},
     "output_type": "execute_result"
    }
   ],
   "source": [
    "m[0:5,:]"
   ]
  },
  {
   "cell_type": "markdown",
   "metadata": {},
   "source": [
    "###### <span style=\"color:blue\">the last five rows of a</span>\n",
    "| MATLAB  |  Numpy |\n",
    "|---|---|\n",
    "|a(end-4:end,:)|a[-5:]|"
   ]
  },
  {
   "cell_type": "code",
   "execution_count": 23,
   "metadata": {
    "collapsed": false
   },
   "outputs": [
    {
     "data": {
      "text/plain": [
       "array([[ 0.35167425,  0.49527549,  0.49673432,  0.42039932,  0.787584  ],\n",
       "       [ 0.01719551,  0.27119864,  0.57420067,  0.58048633,  0.73362629],\n",
       "       [ 0.63442791,  0.02092427,  0.45161922,  0.40164021,  0.13517475],\n",
       "       [ 0.83510998,  0.55772054,  0.46047937,  0.51854881,  0.18769949],\n",
       "       [ 0.38274974,  0.37951801,  0.70084591,  0.83965991,  0.0314651 ]])"
      ]
     },
     "execution_count": 23,
     "metadata": {},
     "output_type": "execute_result"
    }
   ],
   "source": [
    "a[-5:]"
   ]
  },
  {
   "cell_type": "code",
   "execution_count": 24,
   "metadata": {
    "collapsed": false
   },
   "outputs": [
    {
     "data": {
      "text/plain": [
       "matrix([[ 0.89877659,  0.83228871,  0.42230966,  0.82757469,  0.03596778],\n",
       "        [ 0.65005996,  0.39457308,  0.75818238,  0.28579483,  0.43883847],\n",
       "        [ 0.9539496 ,  0.55809072,  0.68078805,  0.67504999,  0.0622288 ],\n",
       "        [ 0.74233815,  0.3939643 ,  0.13201609,  0.21711141,  0.72957886],\n",
       "        [ 0.86423089,  0.73604093,  0.24398047,  0.02642547,  0.04758567],\n",
       "        [ 0.35167425,  0.49527549,  0.49673432,  0.42039932,  0.787584  ],\n",
       "        [ 0.01719551,  0.27119864,  0.57420067,  0.58048633,  0.73362629],\n",
       "        [ 0.63442791,  0.02092427,  0.45161922,  0.40164021,  0.13517475],\n",
       "        [ 0.83510998,  0.55772054,  0.46047937,  0.51854881,  0.18769949],\n",
       "        [ 0.38274974,  0.37951801,  0.70084591,  0.83965991,  0.0314651 ]])"
      ]
     },
     "execution_count": 24,
     "metadata": {},
     "output_type": "execute_result"
    }
   ],
   "source": [
    "m=np.mat(a)\n",
    "m"
   ]
  },
  {
   "cell_type": "code",
   "execution_count": 25,
   "metadata": {
    "collapsed": false
   },
   "outputs": [
    {
     "data": {
      "text/plain": [
       "matrix([[ 0.35167425,  0.49527549,  0.49673432,  0.42039932,  0.787584  ],\n",
       "        [ 0.01719551,  0.27119864,  0.57420067,  0.58048633,  0.73362629],\n",
       "        [ 0.63442791,  0.02092427,  0.45161922,  0.40164021,  0.13517475],\n",
       "        [ 0.83510998,  0.55772054,  0.46047937,  0.51854881,  0.18769949],\n",
       "        [ 0.38274974,  0.37951801,  0.70084591,  0.83965991,  0.0314651 ]])"
      ]
     },
     "execution_count": 25,
     "metadata": {},
     "output_type": "execute_result"
    }
   ],
   "source": [
    "m[-5:]"
   ]
  },
  {
   "cell_type": "markdown",
   "metadata": {},
   "source": [
    "###### <span style=\"color:blue\">rows one to three and columns five to nine of a. This gives read-only access.</span>\n",
    "| MATLAB  |  Numpy |\n",
    "|---|---|\n",
    "|a(1:3,5:9)\t|a[0:3][:,4:9]|"
   ]
  },
  {
   "cell_type": "code",
   "execution_count": 30,
   "metadata": {
    "collapsed": false
   },
   "outputs": [
    {
     "name": "stdout",
     "output_type": "stream",
     "text": [
      "[[ 0.80197424  0.74580115  0.72793262  0.86587742  0.78988181  0.92360853\n",
      "   0.45683472  0.21345295  0.90797641  0.70714221]\n",
      " [ 0.43291082  0.50619191  0.72054373  0.69927352  0.28945151  0.01792739\n",
      "   0.48031691  0.03882118  0.10000571  0.02442249]\n",
      " [ 0.7308061   0.70547753  0.98780331  0.05019302  0.2206048   0.82735168\n",
      "   0.94179393  0.1425208   0.35212893  0.13157853]\n",
      " [ 0.34365981  0.86841522  0.8835403   0.76367202  0.57839459  0.70851165\n",
      "   0.72671642  0.01666793  0.7839512   0.95087712]\n",
      " [ 0.60405219  0.52356562  0.04250795  0.33827129  0.21794721  0.4854303\n",
      "   0.92064264  0.9808843   0.8100669   0.76788517]]\n"
     ]
    }
   ],
   "source": [
    "a=np.random.rand(5,10)\n",
    "b= a.copy()\n",
    "print(a)"
   ]
  },
  {
   "cell_type": "code",
   "execution_count": 6,
   "metadata": {
    "collapsed": false
   },
   "outputs": [
    {
     "data": {
      "text/plain": [
       "array([[ 0.93731847,  0.08286245,  0.77688497,  0.50167879,  0.17513506],\n",
       "       [ 0.79114445,  0.46778047,  0.66162481,  0.87936643,  0.28619071],\n",
       "       [ 0.86185913,  0.45021826,  0.27540787,  0.35777285,  0.80099342]])"
      ]
     },
     "execution_count": 6,
     "metadata": {},
     "output_type": "execute_result"
    }
   ],
   "source": [
    "a[0:3][:,4:9]"
   ]
  },
  {
   "cell_type": "markdown",
   "metadata": {},
   "source": [
    "###### <span style=\"color:blue\">rows 2,4 and 5 and columns 1 and 3. This allows the matrix to be modified, and doesn’t require a regular slice</span>\n",
    "| MATLAB  |  Numpy |\n",
    "|---|---|\n",
    "|a([2,4,5],[1,3])\t|a[np.ix\\_([1,3,4],[0,2])]|"
   ]
  },
  {
   "cell_type": "code",
   "execution_count": 7,
   "metadata": {
    "collapsed": false
   },
   "outputs": [
    {
     "data": {
      "text/plain": [
       "array([[ 0.44486947,  0.62455323],\n",
       "       [ 0.63868981,  0.38762882],\n",
       "       [ 0.45547128,  0.35046572]])"
      ]
     },
     "execution_count": 7,
     "metadata": {},
     "output_type": "execute_result"
    }
   ],
   "source": [
    "a[np.ix_([1,3,4],[0,2])]"
   ]
  },
  {
   "cell_type": "markdown",
   "metadata": {},
   "source": [
    "###### <span style=\"color:blue\">every other row of a, starting with the third and going to the twenty-first</span>\n",
    "| MATLAB  |  Numpy |\n",
    "|---|---|\n",
    "|a(3:2:21,:)|a[ 2:21:2,:]|"
   ]
  },
  {
   "cell_type": "code",
   "execution_count": 8,
   "metadata": {
    "collapsed": false
   },
   "outputs": [
    {
     "data": {
      "text/plain": [
       "array([[ 0.78697771,  0.26373586,  0.05171165,  0.26548848,  0.86185913,\n",
       "         0.45021826,  0.27540787,  0.35777285,  0.80099342,  0.24069535],\n",
       "       [ 0.45547128,  0.21664814,  0.35046572,  0.90592024,  0.72025931,\n",
       "         0.48046836,  0.87702758,  0.49976765,  0.51446223,  0.37809625]])"
      ]
     },
     "execution_count": 8,
     "metadata": {},
     "output_type": "execute_result"
    }
   ],
   "source": [
    "a[2:21:2,:]"
   ]
  },
  {
   "cell_type": "code",
   "execution_count": null,
   "metadata": {
    "collapsed": true
   },
   "outputs": [],
   "source": []
  },
  {
   "cell_type": "markdown",
   "metadata": {},
   "source": [
    "###### <span style=\"color:blue\">every other row of a, starting with the first</span>\n",
    "| MATLAB  |  Numpy |\n",
    "|---|---|\n",
    "|a(1:2:end,:)|a[ ::2,:]|"
   ]
  },
  {
   "cell_type": "code",
   "execution_count": 9,
   "metadata": {
    "collapsed": false
   },
   "outputs": [
    {
     "data": {
      "text/plain": [
       "array([[ 0.34261188,  0.77787948,  0.39695463,  0.14708612,  0.93731847,\n",
       "         0.08286245,  0.77688497,  0.50167879,  0.17513506,  0.23897106],\n",
       "       [ 0.78697771,  0.26373586,  0.05171165,  0.26548848,  0.86185913,\n",
       "         0.45021826,  0.27540787,  0.35777285,  0.80099342,  0.24069535],\n",
       "       [ 0.45547128,  0.21664814,  0.35046572,  0.90592024,  0.72025931,\n",
       "         0.48046836,  0.87702758,  0.49976765,  0.51446223,  0.37809625]])"
      ]
     },
     "execution_count": 9,
     "metadata": {},
     "output_type": "execute_result"
    }
   ],
   "source": [
    "a[::2,:]"
   ]
  },
  {
   "cell_type": "markdown",
   "metadata": {},
   "source": [
    "###### <span style=\"color:blue\">a with rows in reverse order</span>\n",
    "| MATLAB  |  Numpy |\n",
    "|---|---|\n",
    "|a(end:-1:1,:) or flipud(a)|a[ ::-1,:]|"
   ]
  },
  {
   "cell_type": "code",
   "execution_count": 10,
   "metadata": {
    "collapsed": false
   },
   "outputs": [
    {
     "data": {
      "text/plain": [
       "array([[ 0.45547128,  0.21664814,  0.35046572,  0.90592024,  0.72025931,\n",
       "         0.48046836,  0.87702758,  0.49976765,  0.51446223,  0.37809625],\n",
       "       [ 0.63868981,  0.46704273,  0.38762882,  0.06768026,  0.91171078,\n",
       "         0.4549373 ,  0.92167502,  0.12115214,  0.65141904,  0.62915646],\n",
       "       [ 0.78697771,  0.26373586,  0.05171165,  0.26548848,  0.86185913,\n",
       "         0.45021826,  0.27540787,  0.35777285,  0.80099342,  0.24069535],\n",
       "       [ 0.44486947,  0.42976226,  0.62455323,  0.28680072,  0.79114445,\n",
       "         0.46778047,  0.66162481,  0.87936643,  0.28619071,  0.02988731],\n",
       "       [ 0.34261188,  0.77787948,  0.39695463,  0.14708612,  0.93731847,\n",
       "         0.08286245,  0.77688497,  0.50167879,  0.17513506,  0.23897106]])"
      ]
     },
     "execution_count": 10,
     "metadata": {},
     "output_type": "execute_result"
    }
   ],
   "source": [
    "a[ ::-1,:]"
   ]
  },
  {
   "cell_type": "markdown",
   "metadata": {},
   "source": [
    "###### <span style=\"color:blue\">a with copy of the first row appended to the end</span>\n",
    "| MATLAB  |  Numpy |\n",
    "|---|---|\n",
    "|a([1:end 1],:)\t|a[np.r\\_[:len(a),0]]\t|"
   ]
  },
  {
   "cell_type": "code",
   "execution_count": 11,
   "metadata": {
    "collapsed": false
   },
   "outputs": [
    {
     "data": {
      "text/plain": [
       "array([[ 0.34261188,  0.77787948,  0.39695463,  0.14708612,  0.93731847,\n",
       "         0.08286245,  0.77688497,  0.50167879,  0.17513506,  0.23897106],\n",
       "       [ 0.44486947,  0.42976226,  0.62455323,  0.28680072,  0.79114445,\n",
       "         0.46778047,  0.66162481,  0.87936643,  0.28619071,  0.02988731],\n",
       "       [ 0.78697771,  0.26373586,  0.05171165,  0.26548848,  0.86185913,\n",
       "         0.45021826,  0.27540787,  0.35777285,  0.80099342,  0.24069535],\n",
       "       [ 0.63868981,  0.46704273,  0.38762882,  0.06768026,  0.91171078,\n",
       "         0.4549373 ,  0.92167502,  0.12115214,  0.65141904,  0.62915646],\n",
       "       [ 0.45547128,  0.21664814,  0.35046572,  0.90592024,  0.72025931,\n",
       "         0.48046836,  0.87702758,  0.49976765,  0.51446223,  0.37809625],\n",
       "       [ 0.34261188,  0.77787948,  0.39695463,  0.14708612,  0.93731847,\n",
       "         0.08286245,  0.77688497,  0.50167879,  0.17513506,  0.23897106]])"
      ]
     },
     "execution_count": 11,
     "metadata": {},
     "output_type": "execute_result"
    }
   ],
   "source": [
    "a[np.r_[:len(a),0]]"
   ]
  },
  {
   "cell_type": "markdown",
   "metadata": {},
   "source": [
    "###### <span style=\"color:blue\">transpose of a</span>\n",
    "| MATLAB  |  Numpy |\n",
    "|---|---|\n",
    "|a.'|a.transpose() or a.T|"
   ]
  },
  {
   "cell_type": "code",
   "execution_count": 12,
   "metadata": {
    "collapsed": false
   },
   "outputs": [
    {
     "data": {
      "text/plain": [
       "array([[ 0.34261188,  0.44486947,  0.78697771,  0.63868981,  0.45547128],\n",
       "       [ 0.77787948,  0.42976226,  0.26373586,  0.46704273,  0.21664814],\n",
       "       [ 0.39695463,  0.62455323,  0.05171165,  0.38762882,  0.35046572],\n",
       "       [ 0.14708612,  0.28680072,  0.26548848,  0.06768026,  0.90592024],\n",
       "       [ 0.93731847,  0.79114445,  0.86185913,  0.91171078,  0.72025931],\n",
       "       [ 0.08286245,  0.46778047,  0.45021826,  0.4549373 ,  0.48046836],\n",
       "       [ 0.77688497,  0.66162481,  0.27540787,  0.92167502,  0.87702758],\n",
       "       [ 0.50167879,  0.87936643,  0.35777285,  0.12115214,  0.49976765],\n",
       "       [ 0.17513506,  0.28619071,  0.80099342,  0.65141904,  0.51446223],\n",
       "       [ 0.23897106,  0.02988731,  0.24069535,  0.62915646,  0.37809625]])"
      ]
     },
     "execution_count": 12,
     "metadata": {},
     "output_type": "execute_result"
    }
   ],
   "source": [
    "a.transpose()"
   ]
  },
  {
   "cell_type": "code",
   "execution_count": 13,
   "metadata": {
    "collapsed": false
   },
   "outputs": [
    {
     "data": {
      "text/plain": [
       "array([[ 0.34261188,  0.44486947,  0.78697771,  0.63868981,  0.45547128],\n",
       "       [ 0.77787948,  0.42976226,  0.26373586,  0.46704273,  0.21664814],\n",
       "       [ 0.39695463,  0.62455323,  0.05171165,  0.38762882,  0.35046572],\n",
       "       [ 0.14708612,  0.28680072,  0.26548848,  0.06768026,  0.90592024],\n",
       "       [ 0.93731847,  0.79114445,  0.86185913,  0.91171078,  0.72025931],\n",
       "       [ 0.08286245,  0.46778047,  0.45021826,  0.4549373 ,  0.48046836],\n",
       "       [ 0.77688497,  0.66162481,  0.27540787,  0.92167502,  0.87702758],\n",
       "       [ 0.50167879,  0.87936643,  0.35777285,  0.12115214,  0.49976765],\n",
       "       [ 0.17513506,  0.28619071,  0.80099342,  0.65141904,  0.51446223],\n",
       "       [ 0.23897106,  0.02988731,  0.24069535,  0.62915646,  0.37809625]])"
      ]
     },
     "execution_count": 13,
     "metadata": {},
     "output_type": "execute_result"
    }
   ],
   "source": [
    "a.T"
   ]
  },
  {
   "cell_type": "markdown",
   "metadata": {},
   "source": [
    "###### <span style=\"color:blue\">aconjugate transpose of a</span>\n",
    "| MATLAB  |  Numpy |\n",
    "|---|---|\n",
    "|a'|a.conj().transpose() or a.conj().T|"
   ]
  },
  {
   "cell_type": "code",
   "execution_count": 14,
   "metadata": {
    "collapsed": false
   },
   "outputs": [
    {
     "data": {
      "text/plain": [
       "array([[ 0.34261188,  0.44486947,  0.78697771,  0.63868981,  0.45547128],\n",
       "       [ 0.77787948,  0.42976226,  0.26373586,  0.46704273,  0.21664814],\n",
       "       [ 0.39695463,  0.62455323,  0.05171165,  0.38762882,  0.35046572],\n",
       "       [ 0.14708612,  0.28680072,  0.26548848,  0.06768026,  0.90592024],\n",
       "       [ 0.93731847,  0.79114445,  0.86185913,  0.91171078,  0.72025931],\n",
       "       [ 0.08286245,  0.46778047,  0.45021826,  0.4549373 ,  0.48046836],\n",
       "       [ 0.77688497,  0.66162481,  0.27540787,  0.92167502,  0.87702758],\n",
       "       [ 0.50167879,  0.87936643,  0.35777285,  0.12115214,  0.49976765],\n",
       "       [ 0.17513506,  0.28619071,  0.80099342,  0.65141904,  0.51446223],\n",
       "       [ 0.23897106,  0.02988731,  0.24069535,  0.62915646,  0.37809625]])"
      ]
     },
     "execution_count": 14,
     "metadata": {},
     "output_type": "execute_result"
    }
   ],
   "source": [
    "a.conj().T"
   ]
  },
  {
   "cell_type": "code",
   "execution_count": 15,
   "metadata": {
    "collapsed": false
   },
   "outputs": [
    {
     "data": {
      "text/plain": [
       "array([[ 0.34261188,  0.44486947,  0.78697771,  0.63868981,  0.45547128],\n",
       "       [ 0.77787948,  0.42976226,  0.26373586,  0.46704273,  0.21664814],\n",
       "       [ 0.39695463,  0.62455323,  0.05171165,  0.38762882,  0.35046572],\n",
       "       [ 0.14708612,  0.28680072,  0.26548848,  0.06768026,  0.90592024],\n",
       "       [ 0.93731847,  0.79114445,  0.86185913,  0.91171078,  0.72025931],\n",
       "       [ 0.08286245,  0.46778047,  0.45021826,  0.4549373 ,  0.48046836],\n",
       "       [ 0.77688497,  0.66162481,  0.27540787,  0.92167502,  0.87702758],\n",
       "       [ 0.50167879,  0.87936643,  0.35777285,  0.12115214,  0.49976765],\n",
       "       [ 0.17513506,  0.28619071,  0.80099342,  0.65141904,  0.51446223],\n",
       "       [ 0.23897106,  0.02988731,  0.24069535,  0.62915646,  0.37809625]])"
      ]
     },
     "execution_count": 15,
     "metadata": {},
     "output_type": "execute_result"
    }
   ],
   "source": [
    "a.conj().transpose()"
   ]
  },
  {
   "cell_type": "markdown",
   "metadata": {},
   "source": [
    "###### <span style=\"color:blue\">matrix multiply</span>\n",
    "| MATLAB  |  Numpy |\n",
    "|---|---|\n",
    "|a * b\t|a.dot(b)|"
   ]
  },
  {
   "cell_type": "code",
   "execution_count": 16,
   "metadata": {
    "collapsed": false
   },
   "outputs": [
    {
     "ename": "NameError",
     "evalue": "name 'm' is not defined",
     "output_type": "error",
     "traceback": [
      "\u001b[0;31m---------------------------------------------------------------------------\u001b[0m",
      "\u001b[0;31mNameError\u001b[0m                                 Traceback (most recent call last)",
      "\u001b[0;32m<ipython-input-16-ce9dbd0c621c>\u001b[0m in \u001b[0;36m<module>\u001b[0;34m()\u001b[0m\n\u001b[0;32m----> 1\u001b[0;31m \u001b[0ma\u001b[0m\u001b[0;34m.\u001b[0m\u001b[0mdot\u001b[0m\u001b[0;34m(\u001b[0m\u001b[0mnp\u001b[0m\u001b[0;34m.\u001b[0m\u001b[0masarray\u001b[0m\u001b[0;34m(\u001b[0m\u001b[0mm\u001b[0m\u001b[0;34m)\u001b[0m\u001b[0;34m)\u001b[0m\u001b[0;34m\u001b[0m\u001b[0m\n\u001b[0m",
      "\u001b[0;31mNameError\u001b[0m: name 'm' is not defined"
     ]
    }
   ],
   "source": [
    "a.dot(np.asarray(m))"
   ]
  },
  {
   "cell_type": "markdown",
   "metadata": {},
   "source": [
    "###### <span style=\"color:blue\">element-wise multiply</span>\n",
    "| MATLAB  |  Numpy |\n",
    "|---|---|\n",
    "|a .* b\t|a * b|"
   ]
  },
  {
   "cell_type": "code",
   "execution_count": 17,
   "metadata": {
    "collapsed": false
   },
   "outputs": [
    {
     "data": {
      "text/plain": [
       "array([[ 0.1173829 ,  0.60509648,  0.15757298,  0.02163433,  0.87856591,\n",
       "         0.00686619,  0.60355026,  0.2516816 ,  0.03067229,  0.05710717],\n",
       "       [ 0.19790885,  0.1846956 ,  0.39006673,  0.08225465,  0.62590954,\n",
       "         0.21881857,  0.43774739,  0.77328532,  0.08190512,  0.00089325],\n",
       "       [ 0.61933392,  0.0695566 ,  0.00267409,  0.07048413,  0.74280116,\n",
       "         0.20269648,  0.07584949,  0.12800141,  0.64159046,  0.05793425],\n",
       "       [ 0.40792467,  0.21812891,  0.1502561 ,  0.00458062,  0.83121655,\n",
       "         0.20696794,  0.84948484,  0.01467784,  0.42434677,  0.39583786],\n",
       "       [ 0.20745408,  0.04693642,  0.12282622,  0.82069148,  0.51877348,\n",
       "         0.23084984,  0.76917738,  0.2497677 ,  0.26467139,  0.14295677]])"
      ]
     },
     "execution_count": 17,
     "metadata": {},
     "output_type": "execute_result"
    }
   ],
   "source": [
    "a*a"
   ]
  },
  {
   "cell_type": "markdown",
   "metadata": {},
   "source": [
    "###### <span style=\"color:blue\">element-wise divide</span>\n",
    "| MATLAB  |  Numpy |\n",
    "|---|---|\n",
    "|a./ b\t|a/b|"
   ]
  },
  {
   "cell_type": "code",
   "execution_count": 18,
   "metadata": {
    "collapsed": false
   },
   "outputs": [
    {
     "data": {
      "text/plain": [
       "array([[ 1.,  1.,  1.,  1.,  1.,  1.,  1.,  1.,  1.,  1.],\n",
       "       [ 1.,  1.,  1.,  1.,  1.,  1.,  1.,  1.,  1.,  1.],\n",
       "       [ 1.,  1.,  1.,  1.,  1.,  1.,  1.,  1.,  1.,  1.],\n",
       "       [ 1.,  1.,  1.,  1.,  1.,  1.,  1.,  1.,  1.,  1.],\n",
       "       [ 1.,  1.,  1.,  1.,  1.,  1.,  1.,  1.,  1.,  1.]])"
      ]
     },
     "execution_count": 18,
     "metadata": {},
     "output_type": "execute_result"
    }
   ],
   "source": [
    "a/a"
   ]
  },
  {
   "cell_type": "markdown",
   "metadata": {},
   "source": [
    "###### <span style=\"color:blue\">element-wise exponentiation</span>\n",
    "| MATLAB  |  Numpy |\n",
    "|---|---|\n",
    "|a.^3\t\t|a\\*\\*3\t|"
   ]
  },
  {
   "cell_type": "code",
   "execution_count": 19,
   "metadata": {
    "collapsed": false
   },
   "outputs": [
    {
     "data": {
      "text/plain": [
       "array([[  4.02167758e-02,   4.70692134e-01,   6.25493232e-02,\n",
       "          3.18210902e-03,   8.23496050e-01,   5.68949013e-04,\n",
       "          4.68889126e-01,   1.26263322e-01,   5.37179326e-03,\n",
       "          1.36469598e-02],\n",
       "       [  8.80436059e-02,   7.93752004e-02,   2.43617438e-01,\n",
       "          2.35906935e-02,   4.95184859e-01,   1.02359052e-01,\n",
       "          2.89624535e-01,   6.80001150e-01,   2.34404854e-02,\n",
       "          2.66968913e-05],\n",
       "       [  4.87401989e-01,   1.83445708e-02,   1.38281812e-04,\n",
       "          1.87127253e-02,   6.40189955e-01,   9.12576564e-02,\n",
       "          2.08895477e-02,   4.57954284e-02,   5.13909741e-01,\n",
       "          1.39445058e-02],\n",
       "       [  2.60537332e-01,   1.01875521e-01,   5.82435962e-02,\n",
       "          3.10017394e-04,   7.57829089e-01,   9.41574362e-02,\n",
       "          7.82948956e-01,   1.77825180e-03,   2.76427566e-01,\n",
       "          2.49043947e-01],\n",
       "       [  9.44893771e-02,   1.01686880e-02,   4.30463810e-02,\n",
       "          7.43481028e-01,   3.73651428e-01,   1.10916045e-01,\n",
       "          6.74589782e-01,   1.24825816e-01,   1.36163433e-01,\n",
       "          5.40514190e-02]])"
      ]
     },
     "execution_count": 19,
     "metadata": {},
     "output_type": "execute_result"
    }
   ],
   "source": [
    "a**3"
   ]
  },
  {
   "cell_type": "markdown",
   "metadata": {},
   "source": [
    "###### <span style=\"color:blue\">matrix whose i,jth element is (a_ij > 0.5). The Matlab result is an array of 0s and 1s. The NumPy result is an array of the boolean values False and True.</span>\n",
    "| MATLAB  |  Numpy |\n",
    "|---|---|\n",
    "|(a>0.5)\t|(a>0.5)|"
   ]
  },
  {
   "cell_type": "code",
   "execution_count": 20,
   "metadata": {
    "collapsed": false
   },
   "outputs": [
    {
     "data": {
      "text/plain": [
       "array([[False,  True, False, False,  True, False,  True,  True, False,\n",
       "        False],\n",
       "       [False, False,  True, False,  True, False,  True,  True, False,\n",
       "        False],\n",
       "       [ True, False, False, False,  True, False, False, False,  True,\n",
       "        False],\n",
       "       [ True, False, False, False,  True, False,  True, False,  True,\n",
       "         True],\n",
       "       [False, False, False,  True,  True, False,  True, False,  True,\n",
       "        False]], dtype=bool)"
      ]
     },
     "execution_count": 20,
     "metadata": {},
     "output_type": "execute_result"
    }
   ],
   "source": [
    "a>0.5"
   ]
  },
  {
   "cell_type": "markdown",
   "metadata": {},
   "source": [
    "###### <span style=\"color:blue\">find the indices where (a > 0.5)</span>\n",
    "| MATLAB  |  Numpy |\n",
    "|---|---|\n",
    "|find(a>0.5)|nonzero(a>0.5)|"
   ]
  },
  {
   "cell_type": "code",
   "execution_count": 21,
   "metadata": {
    "collapsed": false
   },
   "outputs": [
    {
     "data": {
      "text/plain": [
       "(array([0, 0, 0, 0, 1, 1, 1, 1, 2, 2, 2, 3, 3, 3, 3, 3, 4, 4, 4, 4]),\n",
       " array([1, 4, 6, 7, 2, 4, 6, 7, 0, 4, 8, 0, 4, 6, 8, 9, 3, 4, 6, 8]))"
      ]
     },
     "execution_count": 21,
     "metadata": {},
     "output_type": "execute_result"
    }
   ],
   "source": [
    "np.nonzero(a>0.5)"
   ]
  },
  {
   "cell_type": "markdown",
   "metadata": {},
   "source": [
    "###### <span style=\"color:blue\">extract the columms of a where vector v > 0.5</span>\n",
    "| MATLAB  |  Numpy |\n",
    "|---|---|\n",
    "|a(:,find(v>0.5))|a[:,nonzero(v>0.5)[0]]|"
   ]
  },
  {
   "cell_type": "code",
   "execution_count": 22,
   "metadata": {
    "collapsed": false
   },
   "outputs": [
    {
     "data": {
      "text/plain": [
       "array([[ 0.34261188,  0.77787948,  0.39695463,  0.14708612,  0.93731847],\n",
       "       [ 0.44486947,  0.42976226,  0.62455323,  0.28680072,  0.79114445],\n",
       "       [ 0.78697771,  0.26373586,  0.05171165,  0.26548848,  0.86185913],\n",
       "       [ 0.63868981,  0.46704273,  0.38762882,  0.06768026,  0.91171078],\n",
       "       [ 0.45547128,  0.21664814,  0.35046572,  0.90592024,  0.72025931]])"
      ]
     },
     "execution_count": 22,
     "metadata": {},
     "output_type": "execute_result"
    }
   ],
   "source": [
    "v = a[:,4].T\n",
    "a[:,np.nonzero(v>0.5)[0]]"
   ]
  },
  {
   "cell_type": "markdown",
   "metadata": {},
   "source": [
    "###### <span style=\"color:blue\">extract the columms of a where column vector v > 0.5</span>\n",
    "| MATLAB  |  Numpy |\n",
    "|---|---|\n",
    "|a(:,find(v>0.5))|a[:,v.T>0.5]\t|"
   ]
  },
  {
   "cell_type": "code",
   "execution_count": 23,
   "metadata": {
    "collapsed": false
   },
   "outputs": [
    {
     "name": "stderr",
     "output_type": "stream",
     "text": [
      "/home/jimmy/.local/lib/python3.5/site-packages/ipykernel/__main__.py:1: VisibleDeprecationWarning: boolean index did not match indexed array along dimension 1; dimension is 10 but corresponding boolean dimension is 5\n",
      "  if __name__ == '__main__':\n"
     ]
    },
    {
     "data": {
      "text/plain": [
       "array([[ 0.34261188,  0.77787948,  0.39695463,  0.14708612,  0.93731847],\n",
       "       [ 0.44486947,  0.42976226,  0.62455323,  0.28680072,  0.79114445],\n",
       "       [ 0.78697771,  0.26373586,  0.05171165,  0.26548848,  0.86185913],\n",
       "       [ 0.63868981,  0.46704273,  0.38762882,  0.06768026,  0.91171078],\n",
       "       [ 0.45547128,  0.21664814,  0.35046572,  0.90592024,  0.72025931]])"
      ]
     },
     "execution_count": 23,
     "metadata": {},
     "output_type": "execute_result"
    }
   ],
   "source": [
    "a[:,v.T>0.5]"
   ]
  },
  {
   "cell_type": "markdown",
   "metadata": {},
   "source": [
    "###### <span style=\"color:blue\">a with elements less than 0.5 zeroed out</span>\n",
    "| MATLAB  |  Numpy |\n",
    "|---|---|\n",
    "|a(a<0.5)=0\t|a[a<0.5]=0|"
   ]
  },
  {
   "cell_type": "code",
   "execution_count": 41,
   "metadata": {
    "collapsed": false
   },
   "outputs": [
    {
     "name": "stdout",
     "output_type": "stream",
     "text": [
      "[[ 0.80197424  0.74580115  0.72793262  0.86587742  0.78988181  0.92360853\n",
      "   0.          0.          0.90797641  0.70714221]\n",
      " [ 0.          0.50619191  0.72054373  0.69927352  0.          0.          0.\n",
      "   0.          0.          0.        ]\n",
      " [ 0.7308061   0.70547753  0.98780331  0.          0.          0.82735168\n",
      "   0.94179393  0.          0.          0.        ]\n",
      " [ 0.          0.86841522  0.8835403   0.76367202  0.57839459  0.70851165\n",
      "   0.72671642  0.          0.7839512   0.95087712]\n",
      " [ 0.60405219  0.52356562  0.          0.          0.          0.\n",
      "   0.92064264  0.9808843   0.8100669   0.76788517]]\n"
     ]
    }
   ],
   "source": [
    "a = b.copy()\n",
    "\n",
    "a[a<0.5]=0\n",
    "print(a)"
   ]
  },
  {
   "cell_type": "markdown",
   "metadata": {
    "collapsed": true
   },
   "source": [
    "###### <span style=\"color:blue\">a with elements less than 0.5 zeroed out</span>\n",
    "| MATLAB  |  Numpy |\n",
    "|---|---|\n",
    "|a .\\* (a>0.5)\t|a * (a>0.5)|"
   ]
  },
  {
   "cell_type": "code",
   "execution_count": 48,
   "metadata": {
    "collapsed": false
   },
   "outputs": [
    {
     "data": {
      "text/plain": [
       "array([[ 0.80197424,  0.74580115,  0.72793262,  0.86587742,  0.78988181,\n",
       "         0.92360853,  0.        ,  0.        ,  0.90797641,  0.70714221],\n",
       "       [ 0.        ,  0.50619191,  0.72054373,  0.69927352,  0.        ,\n",
       "         0.        ,  0.        ,  0.        ,  0.        ,  0.        ],\n",
       "       [ 0.7308061 ,  0.70547753,  0.98780331,  0.        ,  0.        ,\n",
       "         0.82735168,  0.94179393,  0.        ,  0.        ,  0.        ],\n",
       "       [ 0.        ,  0.86841522,  0.8835403 ,  0.76367202,  0.57839459,\n",
       "         0.70851165,  0.72671642,  0.        ,  0.7839512 ,  0.95087712],\n",
       "       [ 0.60405219,  0.52356562,  0.        ,  0.        ,  0.        ,\n",
       "         0.        ,  0.92064264,  0.9808843 ,  0.8100669 ,  0.76788517]])"
      ]
     },
     "execution_count": 48,
     "metadata": {},
     "output_type": "execute_result"
    }
   ],
   "source": [
    "a = b.copy()\n",
    "a * (a>0.5)"
   ]
  },
  {
   "cell_type": "markdown",
   "metadata": {},
   "source": [
    "###### <span style=\"color:blue\">set all values to the same scalar value</span>\n",
    "| MATLAB  |  Numpy |\n",
    "|---|---|\n",
    "|a(:) = 3|a[:] = 3|"
   ]
  },
  {
   "cell_type": "code",
   "execution_count": 52,
   "metadata": {
    "collapsed": false
   },
   "outputs": [
    {
     "data": {
      "text/plain": [
       "array([[ 3.,  3.,  3.,  3.,  3.,  3.,  3.,  3.,  3.,  3.],\n",
       "       [ 3.,  3.,  3.,  3.,  3.,  3.,  3.,  3.,  3.,  3.],\n",
       "       [ 3.,  3.,  3.,  3.,  3.,  3.,  3.,  3.,  3.,  3.],\n",
       "       [ 3.,  3.,  3.,  3.,  3.,  3.,  3.,  3.,  3.,  3.],\n",
       "       [ 3.,  3.,  3.,  3.,  3.,  3.,  3.,  3.,  3.,  3.]])"
      ]
     },
     "execution_count": 52,
     "metadata": {},
     "output_type": "execute_result"
    }
   ],
   "source": [
    "a[:] = 3\n",
    "a"
   ]
  },
  {
   "cell_type": "markdown",
   "metadata": {},
   "source": [
    "###### <span style=\"color:blue\">numpy assigns by reference</span>\n",
    "| MATLAB  |  Numpy |\n",
    "|---|---|\n",
    "|y=x\t|y = x.copy()\t|"
   ]
  },
  {
   "cell_type": "code",
   "execution_count": 4,
   "metadata": {
    "collapsed": false
   },
   "outputs": [
    {
     "name": "stdout",
     "output_type": "stream",
     "text": [
      "[[ 0.34891224  0.51991569]\n",
      " [ 0.14870345  0.46541568]]\n",
      "[[ 0.34891224  0.51991569]\n",
      " [ 0.14870345  0.46541568]]\n",
      "[[ 0.34891224  0.51991569]\n",
      " [ 0.14870345  0.        ]]\n",
      "[[ 0.34891224  0.51991569]\n",
      " [ 0.14870345  0.        ]]\n",
      "[[-1.          0.51991569]\n",
      " [ 0.14870345  0.        ]]\n",
      "[[-1.          0.51991569]\n",
      " [ 0.14870345  0.        ]]\n",
      "[[ -1.         -10.        ]\n",
      " [  0.14870345   0.        ]]\n",
      "[[ 0.34891224  0.51991569]\n",
      " [ 0.14870345  0.46541568]]\n",
      "[[ -1.         -10.        ]\n",
      " [  0.14870345   0.        ]]\n",
      "[[  0.34891224   0.51991569]\n",
      " [ 20.           0.46541568]]\n"
     ]
    }
   ],
   "source": [
    "a=np.random.rand(2,2)\n",
    "c = a.copy()\n",
    "b = a\n",
    "print(a), print(b)\n",
    "# changing b now changes a (anf vise veras)\n",
    "b[1,1] = 0\n",
    "print(a)\n",
    "print(b)\n",
    "a[0,0] = -1\n",
    "print(a)\n",
    "print(b)\n",
    "# changing c does not change a (and vise versa)\n",
    "a[0,1] = -10\n",
    "print(a)\n",
    "print(c)\n",
    "c[1,0] = 20\n",
    "print(a)\n",
    "print(c)"
   ]
  },
  {
   "cell_type": "markdown",
   "metadata": {},
   "source": [
    "###### <span style=\"color:blue\">numpy slices are by reference</span>\n",
    "| MATLAB  |  Numpy |\n",
    "|---|---|\n",
    "|y=x(2,:)|y = x[1,:].copy()|"
   ]
  },
  {
   "cell_type": "code",
   "execution_count": 8,
   "metadata": {
    "collapsed": false
   },
   "outputs": [
    {
     "name": "stdout",
     "output_type": "stream",
     "text": [
      "[[ -1.         -10.        ]\n",
      " [  0.14870345   0.        ]]\n",
      "[ 0.14870345  0.        ]\n",
      "[ 0.14870345  1.        ]\n"
     ]
    }
   ],
   "source": [
    "y=a[1,:]\n",
    "print(a)\n",
    "print(y)\n",
    "a[1,1]=1\n",
    "print(y)"
   ]
  },
  {
   "cell_type": "markdown",
   "metadata": {},
   "source": [
    "###### <span style=\"color:blue\">turn array into vector (note that this forces a copy)</span>\n",
    "| MATLAB  |  Numpy |\n",
    "|---|---|\n",
    "|y=x(:)|y = x.flatten()|"
   ]
  },
  {
   "cell_type": "code",
   "execution_count": 9,
   "metadata": {
    "collapsed": false
   },
   "outputs": [
    {
     "data": {
      "text/plain": [
       "array([ -1.        , -10.        ,   0.14870345,   1.        ])"
      ]
     },
     "execution_count": 9,
     "metadata": {},
     "output_type": "execute_result"
    }
   ],
   "source": [
    "a.flatten()"
   ]
  },
  {
   "cell_type": "markdown",
   "metadata": {},
   "source": [
    "###### <span style=\"color:blue\">create an increasing vector (see note [RANGES](https://docs.scipy.org/doc/numpy-dev/user/numpy-for-matlab-users.html#numpy-for-matlab-users-notes))</span>\n",
    "| MATLAB  |  Numpy |\n",
    "|---|---|\n",
    "|1:10|np.arange(1.,11.) or np.r\\_[1.:11.] or np.r\\_[1:10:10j]|"
   ]
  },
  {
   "cell_type": "code",
   "execution_count": 10,
   "metadata": {
    "collapsed": true
   },
   "outputs": [],
   "source": [
    "a = np.arange(1,11)"
   ]
  },
  {
   "cell_type": "markdown",
   "metadata": {},
   "source": [
    "###### <span style=\"color:blue\">create an increasing vector (see note [RANGES](https://docs.scipy.org/doc/numpy-dev/user/numpy-for-matlab-users.html#numpy-for-matlab-users-notes))</span>\n",
    "| MATLAB  |  Numpy |\n",
    "|---|---|\n",
    "|0:9|np.arange(10.) or r\\_[:10.] or r\\_[:9:10j]|"
   ]
  },
  {
   "cell_type": "code",
   "execution_count": 11,
   "metadata": {
    "collapsed": true
   },
   "outputs": [],
   "source": [
    "a = np.arange(10)"
   ]
  },
  {
   "cell_type": "markdown",
   "metadata": {},
   "source": [
    "###### <span style=\"color:blue\">create a column vector</span>\n",
    "| MATLAB  |  Numpy |\n",
    "|---|---|\n",
    "|[1:10]'|np.arange(1.,11.)[:, newaxis]\t|"
   ]
  },
  {
   "cell_type": "code",
   "execution_count": null,
   "metadata": {
    "collapsed": true
   },
   "outputs": [],
   "source": []
  },
  {
   "cell_type": "markdown",
   "metadata": {},
   "source": [
    "###### <span style=\"color:blue\">3x4 two-dimensional array full of 64-bit floating point zeros</span>\n",
    "| MATLAB  |  Numpy |\n",
    "|---|---|\n",
    "|zeros(3,4)\t|np.zeros((3,4))|"
   ]
  },
  {
   "cell_type": "code",
   "execution_count": 20,
   "metadata": {
    "collapsed": false
   },
   "outputs": [
    {
     "name": "stdout",
     "output_type": "stream",
     "text": [
      "[[ 0.  0.  0.  0.  0.]\n",
      " [ 0.  0.  0.  0.  0.]\n",
      " [ 0.  0.  0.  0.  0.]]\n"
     ]
    }
   ],
   "source": [
    "a = np.zeros((3,5))\n",
    "print(a)"
   ]
  },
  {
   "cell_type": "markdown",
   "metadata": {},
   "source": [
    "###### <span style=\"color:blue\">3x4x5 three-dimensional array full of 64-bit floating point zeros</span>\n",
    "| MATLAB  |  Numpy |\n",
    "|---|---|\n",
    "|zeros(3,4,5)\t\t|np.zeros((3,4,5))\t|"
   ]
  },
  {
   "cell_type": "code",
   "execution_count": 19,
   "metadata": {
    "collapsed": false
   },
   "outputs": [
    {
     "name": "stdout",
     "output_type": "stream",
     "text": [
      "[[[ 0.  0.  0.  0.  0.]\n",
      "  [ 0.  0.  0.  0.  0.]\n",
      "  [ 0.  0.  0.  0.  0.]]\n",
      "\n",
      " [[ 0.  0.  0.  0.  0.]\n",
      "  [ 0.  0.  0.  0.  0.]\n",
      "  [ 0.  0.  0.  0.  0.]]]\n"
     ]
    }
   ],
   "source": [
    "a = np.zeros((2,3,5))\n",
    "print(a)"
   ]
  },
  {
   "cell_type": "markdown",
   "metadata": {},
   "source": [
    "###### <span style=\"color:blue\">3x4 two-dimensional array full of 64-bit floating point ones</span>\n",
    "| MATLAB  |  Numpy |\n",
    "|---|---|\n",
    "|ones(3,4)|np.ones((3,4))|"
   ]
  },
  {
   "cell_type": "code",
   "execution_count": 17,
   "metadata": {
    "collapsed": false
   },
   "outputs": [
    {
     "name": "stdout",
     "output_type": "stream",
     "text": [
      "[[ 1.  1.  1.  1.]\n",
      " [ 1.  1.  1.  1.]\n",
      " [ 1.  1.  1.  1.]]\n"
     ]
    }
   ],
   "source": [
    "a = np.ones((3,4))\n",
    "print(a)"
   ]
  },
  {
   "cell_type": "markdown",
   "metadata": {},
   "source": [
    "###### <span style=\"color:blue\">3x3 identity matrix</span>\n",
    "| MATLAB  |  Numpy |\n",
    "|---|---|\n",
    "|eye(3)|np.eye(3)|"
   ]
  },
  {
   "cell_type": "code",
   "execution_count": 15,
   "metadata": {
    "collapsed": false
   },
   "outputs": [
    {
     "name": "stdout",
     "output_type": "stream",
     "text": [
      "[[ 1.  0.  0.]\n",
      " [ 0.  1.  0.]\n",
      " [ 0.  0.  1.]]\n"
     ]
    }
   ],
   "source": [
    "a = np.eye(3)\n",
    "print(a)"
   ]
  },
  {
   "cell_type": "markdown",
   "metadata": {},
   "source": [
    "###### <span style=\"color:blue\">vector of diagonal elements of a</span>\n",
    "| MATLAB  |  Numpy |\n",
    "|---|---|\n",
    "|diag(a)|np.diag(a)|"
   ]
  },
  {
   "cell_type": "code",
   "execution_count": 13,
   "metadata": {
    "collapsed": false
   },
   "outputs": [
    {
     "name": "stdout",
     "output_type": "stream",
     "text": [
      "[[ 0.62920503  0.51913634  0.89190596  0.31272833]\n",
      " [ 0.87033037  0.61714576  0.17373551  0.43472922]\n",
      " [ 0.59806779  0.10151691  0.50137355  0.80434858]\n",
      " [ 0.5426589   0.79382194  0.41214454  0.44633579]]\n",
      "[ 0.62920503  0.61714576  0.50137355  0.44633579]\n"
     ]
    }
   ],
   "source": [
    "a=np.random.rand(4,4)\n",
    "b = np.diag(a)\n",
    "print(a)\n",
    "print(b)"
   ]
  },
  {
   "cell_type": "markdown",
   "metadata": {},
   "source": [
    "###### <span style=\"color:blue\">square diagonal matrix whose nonzero values are the elements of a</span>\n",
    "| MATLAB  |  Numpy |\n",
    "|---|---|\n",
    "|diag(a,0)|np.diag(a,0)|"
   ]
  },
  {
   "cell_type": "code",
   "execution_count": null,
   "metadata": {
    "collapsed": true
   },
   "outputs": [],
   "source": []
  },
  {
   "cell_type": "markdown",
   "metadata": {},
   "source": [
    "###### <span style=\"color:blue\">random 3x4 matrix</span>\n",
    "| MATLAB  |  Numpy |\n",
    "|---|---|\n",
    "|rand(3,4)|np.random.rand(3,4))|"
   ]
  },
  {
   "cell_type": "code",
   "execution_count": null,
   "metadata": {
    "collapsed": true
   },
   "outputs": [],
   "source": []
  },
  {
   "cell_type": "markdown",
   "metadata": {},
   "source": [
    "###### <span style=\"color:blue\">4 equally spaced samples between 1 and 3, inclusive</span>\n",
    "| MATLAB  |  Numpy |\n",
    "|---|---|\n",
    "|linspace(1,3,4)|np.linspace(1,3,4)|"
   ]
  },
  {
   "cell_type": "code",
   "execution_count": null,
   "metadata": {
    "collapsed": true
   },
   "outputs": [],
   "source": []
  },
  {
   "cell_type": "markdown",
   "metadata": {},
   "source": [
    "###### <span style=\"color:blue\">two 2D arrays: one of x values, the other of y values</span>\n",
    "| MATLAB  |  Numpy |\n",
    "|---|---|\n",
    "|[x,y]=meshgrid(0:8,0:5)\t|np.mgrid[0:9.,0:6.] or np.meshgrid(r\\_[0:9.],r\\_[0:6.]|"
   ]
  },
  {
   "cell_type": "code",
   "execution_count": null,
   "metadata": {
    "collapsed": true
   },
   "outputs": [],
   "source": []
  },
  {
   "cell_type": "markdown",
   "metadata": {},
   "source": [
    "###### <span style=\"color:blue\">the best way to eval functions on a grid</span>\n",
    "| MATLAB  |  Numpy |\n",
    "|---|---|\n",
    "| |np.ogrid[0:9.,0:6.] or np.ix\\_(r\\_[0:9.],r\\_[0:6.]|"
   ]
  },
  {
   "cell_type": "code",
   "execution_count": null,
   "metadata": {
    "collapsed": true
   },
   "outputs": [],
   "source": []
  },
  {
   "cell_type": "markdown",
   "metadata": {},
   "source": [
    "###### <span style=\"color:blue\">the best way to eval functions on a grid</span>\n",
    "| MATLAB  |  Numpy |\n",
    "|---|---|\n",
    "|[x,y]=meshgrid([1,2,4],[2,4,5]) |np.meshgrid([1,2,4],[2,4,5])|"
   ]
  },
  {
   "cell_type": "code",
   "execution_count": null,
   "metadata": {
    "collapsed": true
   },
   "outputs": [],
   "source": []
  },
  {
   "cell_type": "markdown",
   "metadata": {},
   "source": [
    "###### <span style=\"color:blue\">the best way to eval functions on a grid</span>\n",
    "| MATLAB  |  Numpy |\n",
    "|---|---|\n",
    "| |np.ix\\_([1,2,4],[2,4,5])|"
   ]
  },
  {
   "cell_type": "code",
   "execution_count": null,
   "metadata": {
    "collapsed": true
   },
   "outputs": [],
   "source": []
  },
  {
   "cell_type": "code",
   "execution_count": null,
   "metadata": {
    "collapsed": true
   },
   "outputs": [],
   "source": []
  },
  {
   "cell_type": "code",
   "execution_count": null,
   "metadata": {
    "collapsed": true
   },
   "outputs": [],
   "source": []
  },
  {
   "cell_type": "code",
   "execution_count": null,
   "metadata": {
    "collapsed": true
   },
   "outputs": [],
   "source": []
  },
  {
   "cell_type": "code",
   "execution_count": null,
   "metadata": {
    "collapsed": true
   },
   "outputs": [],
   "source": []
  }
 ],
 "metadata": {
  "anaconda-cloud": {},
  "kernelspec": {
   "display_name": "Python [default]",
   "language": "python",
   "name": "python3"
  },
  "language_info": {
   "codemirror_mode": {
    "name": "ipython",
    "version": 3
   },
   "file_extension": ".py",
   "mimetype": "text/x-python",
   "name": "python",
   "nbconvert_exporter": "python",
   "pygments_lexer": "ipython3",
   "version": "3.5.2"
  }
 },
 "nbformat": 4,
 "nbformat_minor": 2
}
